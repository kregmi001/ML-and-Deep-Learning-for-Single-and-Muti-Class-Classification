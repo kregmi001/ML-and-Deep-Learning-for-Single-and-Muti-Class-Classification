{
 "cells": [
  {
   "cell_type": "code",
   "execution_count": 1,
   "id": "a783deba",
   "metadata": {
    "_cell_guid": "b1076dfc-b9ad-4769-8c92-a6c4dae69d19",
    "_uuid": "8f2839f25d086af736a60e9eeb907d3b93b6e0e5",
    "execution": {
     "iopub.execute_input": "2022-08-10T23:58:27.827330Z",
     "iopub.status.busy": "2022-08-10T23:58:27.826604Z",
     "iopub.status.idle": "2022-08-10T23:58:29.099703Z",
     "shell.execute_reply": "2022-08-10T23:58:29.098858Z"
    },
    "papermill": {
     "duration": 1.28792,
     "end_time": "2022-08-10T23:58:29.102448",
     "exception": false,
     "start_time": "2022-08-10T23:58:27.814528",
     "status": "completed"
    },
    "tags": []
   },
   "outputs": [
    {
     "name": "stdout",
     "output_type": "stream",
     "text": [
      "/kaggle/input/tmdb-movie-metadata/tmdb_5000_movies.csv\n",
      "/kaggle/input/tmdb-movie-metadata/tmdb_5000_credits.csv\n"
     ]
    }
   ],
   "source": [
    "# This Python 3 environment comes with many helpful analytics libraries installed\n",
    "# It is defined by the kaggle/python Docker image: https://github.com/kaggle/docker-python\n",
    "# For example, here's several helpful packages to load\n",
    "\n",
    "import numpy as np # linear algebra\n",
    "import pandas as pd # data processing, CSV file I/O (e.g. pd.read_csv)\n",
    "import seaborn as sns\n",
    "import matplotlib.pyplot as plt\n",
    "import ast\n",
    "from sklearn.model_selection import train_test_split\n",
    "\n",
    "# Input data files are available in the read-only \"../input/\" directory\n",
    "# For example, running this (by clicking run or pressing Shift+Enter) will list all files under the input directory\n",
    "\n",
    "import os\n",
    "for dirname, _, filenames in os.walk('/kaggle/input'):\n",
    "    for filename in filenames:\n",
    "        print(os.path.join(dirname, filename))\n",
    "\n",
    "# You can write up to 20GB to the current directory (/kaggle/working/) that gets preserved as output when you create a version using \"Save & Run All\" \n",
    "# You can also write temporary files to /kaggle/temp/, but they won't be saved outside of the current session"
   ]
  },
  {
   "cell_type": "code",
   "execution_count": 2,
   "id": "4a7e1617",
   "metadata": {
    "execution": {
     "iopub.execute_input": "2022-08-10T23:58:29.120355Z",
     "iopub.status.busy": "2022-08-10T23:58:29.119958Z",
     "iopub.status.idle": "2022-08-10T23:58:30.164457Z",
     "shell.execute_reply": "2022-08-10T23:58:30.163032Z"
    },
    "papermill": {
     "duration": 1.056689,
     "end_time": "2022-08-10T23:58:30.167366",
     "exception": false,
     "start_time": "2022-08-10T23:58:29.110677",
     "status": "completed"
    },
    "tags": []
   },
   "outputs": [
    {
     "name": "stderr",
     "output_type": "stream",
     "text": [
      "/opt/conda/lib/python3.7/site-packages/pandas/util/_decorators.py:311: SettingWithCopyWarning: \n",
      "A value is trying to be set on a copy of a slice from a DataFrame\n",
      "\n",
      "See the caveats in the documentation: https://pandas.pydata.org/pandas-docs/stable/user_guide/indexing.html#returning-a-view-versus-a-copy\n",
      "  return func(*args, **kwargs)\n"
     ]
    },
    {
     "data": {
      "text/html": [
       "<div>\n",
       "<style scoped>\n",
       "    .dataframe tbody tr th:only-of-type {\n",
       "        vertical-align: middle;\n",
       "    }\n",
       "\n",
       "    .dataframe tbody tr th {\n",
       "        vertical-align: top;\n",
       "    }\n",
       "\n",
       "    .dataframe thead th {\n",
       "        text-align: right;\n",
       "    }\n",
       "</style>\n",
       "<table border=\"1\" class=\"dataframe\">\n",
       "  <thead>\n",
       "    <tr style=\"text-align: right;\">\n",
       "      <th></th>\n",
       "      <th>id</th>\n",
       "      <th>title</th>\n",
       "      <th>keywords</th>\n",
       "      <th>genres</th>\n",
       "      <th>cast</th>\n",
       "      <th>popularity</th>\n",
       "      <th>vote_average</th>\n",
       "      <th>vote_count</th>\n",
       "    </tr>\n",
       "  </thead>\n",
       "  <tbody>\n",
       "    <tr>\n",
       "      <th>0</th>\n",
       "      <td>19995</td>\n",
       "      <td>Avatar</td>\n",
       "      <td>[{\"id\": 1463, \"name\": \"culture clash\"}, {\"id\":...</td>\n",
       "      <td>[{\"id\": 28, \"name\": \"Action\"}, {\"id\": 12, \"nam...</td>\n",
       "      <td>[{\"cast_id\": 242, \"character\": \"Jake Sully\", \"...</td>\n",
       "      <td>150.437577</td>\n",
       "      <td>7.2</td>\n",
       "      <td>11800</td>\n",
       "    </tr>\n",
       "    <tr>\n",
       "      <th>1</th>\n",
       "      <td>285</td>\n",
       "      <td>Pirates of the Caribbean: At World's End</td>\n",
       "      <td>[{\"id\": 270, \"name\": \"ocean\"}, {\"id\": 726, \"na...</td>\n",
       "      <td>[{\"id\": 12, \"name\": \"Adventure\"}, {\"id\": 14, \"...</td>\n",
       "      <td>[{\"cast_id\": 4, \"character\": \"Captain Jack Spa...</td>\n",
       "      <td>139.082615</td>\n",
       "      <td>6.9</td>\n",
       "      <td>4500</td>\n",
       "    </tr>\n",
       "    <tr>\n",
       "      <th>2</th>\n",
       "      <td>206647</td>\n",
       "      <td>Spectre</td>\n",
       "      <td>[{\"id\": 470, \"name\": \"spy\"}, {\"id\": 818, \"name...</td>\n",
       "      <td>[{\"id\": 28, \"name\": \"Action\"}, {\"id\": 12, \"nam...</td>\n",
       "      <td>[{\"cast_id\": 1, \"character\": \"James Bond\", \"cr...</td>\n",
       "      <td>107.376788</td>\n",
       "      <td>6.3</td>\n",
       "      <td>4466</td>\n",
       "    </tr>\n",
       "    <tr>\n",
       "      <th>3</th>\n",
       "      <td>49026</td>\n",
       "      <td>The Dark Knight Rises</td>\n",
       "      <td>[{\"id\": 849, \"name\": \"dc comics\"}, {\"id\": 853,...</td>\n",
       "      <td>[{\"id\": 28, \"name\": \"Action\"}, {\"id\": 80, \"nam...</td>\n",
       "      <td>[{\"cast_id\": 2, \"character\": \"Bruce Wayne / Ba...</td>\n",
       "      <td>112.312950</td>\n",
       "      <td>7.6</td>\n",
       "      <td>9106</td>\n",
       "    </tr>\n",
       "    <tr>\n",
       "      <th>4</th>\n",
       "      <td>49529</td>\n",
       "      <td>John Carter</td>\n",
       "      <td>[{\"id\": 818, \"name\": \"based on novel\"}, {\"id\":...</td>\n",
       "      <td>[{\"id\": 28, \"name\": \"Action\"}, {\"id\": 12, \"nam...</td>\n",
       "      <td>[{\"cast_id\": 5, \"character\": \"John Carter\", \"c...</td>\n",
       "      <td>43.926995</td>\n",
       "      <td>6.1</td>\n",
       "      <td>2124</td>\n",
       "    </tr>\n",
       "  </tbody>\n",
       "</table>\n",
       "</div>"
      ],
      "text/plain": [
       "       id                                     title  \\\n",
       "0   19995                                    Avatar   \n",
       "1     285  Pirates of the Caribbean: At World's End   \n",
       "2  206647                                   Spectre   \n",
       "3   49026                     The Dark Knight Rises   \n",
       "4   49529                               John Carter   \n",
       "\n",
       "                                            keywords  \\\n",
       "0  [{\"id\": 1463, \"name\": \"culture clash\"}, {\"id\":...   \n",
       "1  [{\"id\": 270, \"name\": \"ocean\"}, {\"id\": 726, \"na...   \n",
       "2  [{\"id\": 470, \"name\": \"spy\"}, {\"id\": 818, \"name...   \n",
       "3  [{\"id\": 849, \"name\": \"dc comics\"}, {\"id\": 853,...   \n",
       "4  [{\"id\": 818, \"name\": \"based on novel\"}, {\"id\":...   \n",
       "\n",
       "                                              genres  \\\n",
       "0  [{\"id\": 28, \"name\": \"Action\"}, {\"id\": 12, \"nam...   \n",
       "1  [{\"id\": 12, \"name\": \"Adventure\"}, {\"id\": 14, \"...   \n",
       "2  [{\"id\": 28, \"name\": \"Action\"}, {\"id\": 12, \"nam...   \n",
       "3  [{\"id\": 28, \"name\": \"Action\"}, {\"id\": 80, \"nam...   \n",
       "4  [{\"id\": 28, \"name\": \"Action\"}, {\"id\": 12, \"nam...   \n",
       "\n",
       "                                                cast  popularity  \\\n",
       "0  [{\"cast_id\": 242, \"character\": \"Jake Sully\", \"...  150.437577   \n",
       "1  [{\"cast_id\": 4, \"character\": \"Captain Jack Spa...  139.082615   \n",
       "2  [{\"cast_id\": 1, \"character\": \"James Bond\", \"cr...  107.376788   \n",
       "3  [{\"cast_id\": 2, \"character\": \"Bruce Wayne / Ba...  112.312950   \n",
       "4  [{\"cast_id\": 5, \"character\": \"John Carter\", \"c...   43.926995   \n",
       "\n",
       "   vote_average  vote_count  \n",
       "0           7.2       11800  \n",
       "1           6.9        4500  \n",
       "2           6.3        4466  \n",
       "3           7.6        9106  \n",
       "4           6.1        2124  "
      ]
     },
     "execution_count": 2,
     "metadata": {},
     "output_type": "execute_result"
    }
   ],
   "source": [
    "# Data import and transformation\n",
    "\n",
    "movies = pd.read_csv('../input/tmdb-movie-metadata/tmdb_5000_movies.csv')\n",
    "credits = pd.read_csv('../input/tmdb-movie-metadata/tmdb_5000_credits.csv')\n",
    "movies = movies.merge(credits,on='title')\n",
    "\n",
    "\n",
    "movies_feature_set = movies[['id','title','keywords','genres','cast','popularity','vote_average','vote_count']]\n",
    "movies_feature_set.dropna(inplace=True)\n",
    "movies_feature_set.head()\n",
    "\n"
   ]
  },
  {
   "cell_type": "code",
   "execution_count": 3,
   "id": "3a00fb27",
   "metadata": {
    "execution": {
     "iopub.execute_input": "2022-08-10T23:58:30.185912Z",
     "iopub.status.busy": "2022-08-10T23:58:30.184562Z",
     "iopub.status.idle": "2022-08-10T23:58:30.525389Z",
     "shell.execute_reply": "2022-08-10T23:58:30.524266Z"
    },
    "papermill": {
     "duration": 0.352622,
     "end_time": "2022-08-10T23:58:30.527996",
     "exception": false,
     "start_time": "2022-08-10T23:58:30.175374",
     "status": "completed"
    },
    "tags": []
   },
   "outputs": [
    {
     "data": {
      "image/png": "[encoded data removed]",
      "text/plain": [
       "<Figure size 720x720 with 2 Axes>"
      ]
     },
     "metadata": {
      "needs_background": "light"
     },
     "output_type": "display_data"
    }
   ],
   "source": [
    "f,ax = plt.subplots(figsize = (10,10))\n",
    "sns.heatmap(movies_feature_set.corr(), annot = True, linewidths=.5, fmt = '.1f', ax = ax)\n",
    "plt.show()"
   ]
  },
  {
   "cell_type": "code",
   "execution_count": 4,
   "id": "9ffdf061",
   "metadata": {
    "execution": {
     "iopub.execute_input": "2022-08-10T23:58:30.546666Z",
     "iopub.status.busy": "2022-08-10T23:58:30.545888Z",
     "iopub.status.idle": "2022-08-10T23:58:30.800451Z",
     "shell.execute_reply": "2022-08-10T23:58:30.799347Z"
    },
    "papermill": {
     "duration": 0.266586,
     "end_time": "2022-08-10T23:58:30.802900",
     "exception": false,
     "start_time": "2022-08-10T23:58:30.536314",
     "status": "completed"
    },
    "tags": []
   },
   "outputs": [
    {
     "data": {
      "image/png": "[encoded data removed]",
      "text/plain": [
       "<Figure size 432x288 with 1 Axes>"
      ]
     },
     "metadata": {
      "needs_background": "light"
     },
     "output_type": "display_data"
    }
   ],
   "source": [
    "movies.plot(kind='scatter', x='vote_average', y='budget', alpha=.5, color='r')\n",
    "plt.xlabel('vote_average')\n",
    "plt.ylabel('budget')\n",
    "plt.title('Scatter Plot')\n",
    "plt.show()"
   ]
  },
  {
   "cell_type": "code",
   "execution_count": 5,
   "id": "d708cbca",
   "metadata": {
    "execution": {
     "iopub.execute_input": "2022-08-10T23:58:30.822980Z",
     "iopub.status.busy": "2022-08-10T23:58:30.822563Z",
     "iopub.status.idle": "2022-08-10T23:58:31.135347Z",
     "shell.execute_reply": "2022-08-10T23:58:31.134203Z"
    },
    "papermill": {
     "duration": 0.325547,
     "end_time": "2022-08-10T23:58:31.137842",
     "exception": false,
     "start_time": "2022-08-10T23:58:30.812295",
     "status": "completed"
    },
    "tags": []
   },
   "outputs": [
    {
     "data": {
      "image/png": "[encoded data removed]",
      "text/plain": [
       "<Figure size 432x288 with 1 Axes>"
      ]
     },
     "metadata": {
      "needs_background": "light"
     },
     "output_type": "display_data"
    }
   ],
   "source": [
    "sorted_movies = movies_feature_set.sort_values('popularity' , ascending=False)\n",
    "sorted_movies.head(3)\n",
    "\n",
    "def horizontal_bar():\n",
    "  plt.title(\"Movie With Popularity\")\n",
    "  plt.barh(sorted_movies['title'].head(20),sorted_movies['popularity'].head(20), align='center',\n",
    "          color='skyblue')\n",
    "  plt.gca().invert_yaxis()\n",
    "  plt.xlabel(\"Popularity\",fontsize=10)\n",
    "  plt.title(\"Popular Movies\")\n",
    "    \n",
    "horizontal_bar()"
   ]
  },
  {
   "cell_type": "code",
   "execution_count": 6,
   "id": "7e6f26e6",
   "metadata": {
    "execution": {
     "iopub.execute_input": "2022-08-10T23:58:31.158798Z",
     "iopub.status.busy": "2022-08-10T23:58:31.158167Z",
     "iopub.status.idle": "2022-08-10T23:58:35.086411Z",
     "shell.execute_reply": "2022-08-10T23:58:35.084987Z"
    },
    "papermill": {
     "duration": 3.942156,
     "end_time": "2022-08-10T23:58:35.089361",
     "exception": false,
     "start_time": "2022-08-10T23:58:31.147205",
     "status": "completed"
    },
    "tags": []
   },
   "outputs": [
    {
     "name": "stderr",
     "output_type": "stream",
     "text": [
      "/opt/conda/lib/python3.7/site-packages/ipykernel_launcher.py:8: SettingWithCopyWarning: \n",
      "A value is trying to be set on a copy of a slice from a DataFrame.\n",
      "Try using .loc[row_indexer,col_indexer] = value instead\n",
      "\n",
      "See the caveats in the documentation: https://pandas.pydata.org/pandas-docs/stable/user_guide/indexing.html#returning-a-view-versus-a-copy\n",
      "  \n",
      "/opt/conda/lib/python3.7/site-packages/ipykernel_launcher.py:20: SettingWithCopyWarning: \n",
      "A value is trying to be set on a copy of a slice from a DataFrame.\n",
      "Try using .loc[row_indexer,col_indexer] = value instead\n",
      "\n",
      "See the caveats in the documentation: https://pandas.pydata.org/pandas-docs/stable/user_guide/indexing.html#returning-a-view-versus-a-copy\n",
      "/opt/conda/lib/python3.7/site-packages/ipykernel_launcher.py:30: SettingWithCopyWarning: \n",
      "A value is trying to be set on a copy of a slice from a DataFrame.\n",
      "Try using .loc[row_indexer,col_indexer] = value instead\n",
      "\n",
      "See the caveats in the documentation: https://pandas.pydata.org/pandas-docs/stable/user_guide/indexing.html#returning-a-view-versus-a-copy\n",
      "/opt/conda/lib/python3.7/site-packages/ipykernel_launcher.py:31: SettingWithCopyWarning: \n",
      "A value is trying to be set on a copy of a slice from a DataFrame.\n",
      "Try using .loc[row_indexer,col_indexer] = value instead\n",
      "\n",
      "See the caveats in the documentation: https://pandas.pydata.org/pandas-docs/stable/user_guide/indexing.html#returning-a-view-versus-a-copy\n"
     ]
    },
    {
     "data": {
      "text/html": [
       "<div>\n",
       "<style scoped>\n",
       "    .dataframe tbody tr th:only-of-type {\n",
       "        vertical-align: middle;\n",
       "    }\n",
       "\n",
       "    .dataframe tbody tr th {\n",
       "        vertical-align: top;\n",
       "    }\n",
       "\n",
       "    .dataframe thead th {\n",
       "        text-align: right;\n",
       "    }\n",
       "</style>\n",
       "<table border=\"1\" class=\"dataframe\">\n",
       "  <thead>\n",
       "    <tr style=\"text-align: right;\">\n",
       "      <th></th>\n",
       "      <th>id</th>\n",
       "      <th>title</th>\n",
       "      <th>tags</th>\n",
       "    </tr>\n",
       "  </thead>\n",
       "  <tbody>\n",
       "    <tr>\n",
       "      <th>0</th>\n",
       "      <td>19995</td>\n",
       "      <td>Avatar</td>\n",
       "      <td>[culture clash, future, space war, Action, Adv...</td>\n",
       "    </tr>\n",
       "    <tr>\n",
       "      <th>1</th>\n",
       "      <td>285</td>\n",
       "      <td>Pirates of the Caribbean: At World's End</td>\n",
       "      <td>[ocean, drug abuse, exotic island, Adventure, ...</td>\n",
       "    </tr>\n",
       "    <tr>\n",
       "      <th>2</th>\n",
       "      <td>206647</td>\n",
       "      <td>Spectre</td>\n",
       "      <td>[spy, based on novel, secret agent, Action, Ad...</td>\n",
       "    </tr>\n",
       "    <tr>\n",
       "      <th>3</th>\n",
       "      <td>49026</td>\n",
       "      <td>The Dark Knight Rises</td>\n",
       "      <td>[dc comics, crime fighter, terrorist, Action, ...</td>\n",
       "    </tr>\n",
       "    <tr>\n",
       "      <th>4</th>\n",
       "      <td>49529</td>\n",
       "      <td>John Carter</td>\n",
       "      <td>[based on novel, mars, medallion, Action, Adve...</td>\n",
       "    </tr>\n",
       "  </tbody>\n",
       "</table>\n",
       "</div>"
      ],
      "text/plain": [
       "       id                                     title  \\\n",
       "0   19995                                    Avatar   \n",
       "1     285  Pirates of the Caribbean: At World's End   \n",
       "2  206647                                   Spectre   \n",
       "3   49026                     The Dark Knight Rises   \n",
       "4   49529                               John Carter   \n",
       "\n",
       "                                                tags  \n",
       "0  [culture clash, future, space war, Action, Adv...  \n",
       "1  [ocean, drug abuse, exotic island, Adventure, ...  \n",
       "2  [spy, based on novel, secret agent, Action, Ad...  \n",
       "3  [dc comics, crime fighter, terrorist, Action, ...  \n",
       "4  [based on novel, mars, medallion, Action, Adve...  "
      ]
     },
     "execution_count": 6,
     "metadata": {},
     "output_type": "execute_result"
    }
   ],
   "source": [
    "\n",
    "\n",
    "def convert(text):\n",
    "    arr = []\n",
    "    for i in ast.literal_eval(text):\n",
    "        arr.append(i['name'])\n",
    "    \n",
    "    return arr\n",
    "\n",
    "movies_feature_set['genres'] = movies['genres'].apply(convert)\n",
    "\n",
    "\n",
    "def convert_keyword_top3(text):\n",
    "    arr= []\n",
    "    count = 0\n",
    "    for i in ast.literal_eval(text):\n",
    "        if count<3:\n",
    "            arr.append(i['name'])\n",
    "            count+=1\n",
    "    return arr   \n",
    "\n",
    "movies_feature_set['keywords'] = movies['keywords'].apply(convert_keyword_top3)\n",
    "\n",
    "def convert_cast_top2(text):\n",
    "    arr= []\n",
    "    count = 0\n",
    "    for i in ast.literal_eval(text):\n",
    "        if count<2:\n",
    "            arr.append(i['name'])\n",
    "            count+=1\n",
    "    return arr        \n",
    "movies_feature_set['cast'] = movies['cast'].apply(convert_cast_top2)\n",
    "movies_feature_set['tags'] = movies_feature_set['keywords'] + movies_feature_set['genres'] + movies_feature_set['cast']\n",
    "new_df = movies_feature_set[['id','title','tags']]\n",
    "new_df.head(5)\n",
    "\n",
    "\n"
   ]
  },
  {
   "cell_type": "code",
   "execution_count": 7,
   "id": "953ad6a1",
   "metadata": {
    "execution": {
     "iopub.execute_input": "2022-08-10T23:58:35.112089Z",
     "iopub.status.busy": "2022-08-10T23:58:35.111263Z",
     "iopub.status.idle": "2022-08-10T23:58:35.128896Z",
     "shell.execute_reply": "2022-08-10T23:58:35.127223Z"
    },
    "papermill": {
     "duration": 0.031556,
     "end_time": "2022-08-10T23:58:35.131377",
     "exception": false,
     "start_time": "2022-08-10T23:58:35.099821",
     "status": "completed"
    },
    "tags": []
   },
   "outputs": [
    {
     "name": "stderr",
     "output_type": "stream",
     "text": [
      "/opt/conda/lib/python3.7/site-packages/ipykernel_launcher.py:3: SettingWithCopyWarning: \n",
      "A value is trying to be set on a copy of a slice from a DataFrame.\n",
      "Try using .loc[row_indexer,col_indexer] = value instead\n",
      "\n",
      "See the caveats in the documentation: https://pandas.pydata.org/pandas-docs/stable/user_guide/indexing.html#returning-a-view-versus-a-copy\n",
      "  This is separate from the ipykernel package so we can avoid doing imports until\n"
     ]
    },
    {
     "data": {
      "text/html": [
       "<div>\n",
       "<style scoped>\n",
       "    .dataframe tbody tr th:only-of-type {\n",
       "        vertical-align: middle;\n",
       "    }\n",
       "\n",
       "    .dataframe tbody tr th {\n",
       "        vertical-align: top;\n",
       "    }\n",
       "\n",
       "    .dataframe thead th {\n",
       "        text-align: right;\n",
       "    }\n",
       "</style>\n",
       "<table border=\"1\" class=\"dataframe\">\n",
       "  <thead>\n",
       "    <tr style=\"text-align: right;\">\n",
       "      <th></th>\n",
       "      <th>id</th>\n",
       "      <th>title</th>\n",
       "      <th>tags</th>\n",
       "    </tr>\n",
       "  </thead>\n",
       "  <tbody>\n",
       "    <tr>\n",
       "      <th>0</th>\n",
       "      <td>19995</td>\n",
       "      <td>Avatar</td>\n",
       "      <td>culture clash future space war Action Adventur...</td>\n",
       "    </tr>\n",
       "    <tr>\n",
       "      <th>1</th>\n",
       "      <td>285</td>\n",
       "      <td>Pirates of the Caribbean: At World's End</td>\n",
       "      <td>ocean drug abuse exotic island Adventure Fanta...</td>\n",
       "    </tr>\n",
       "    <tr>\n",
       "      <th>2</th>\n",
       "      <td>206647</td>\n",
       "      <td>Spectre</td>\n",
       "      <td>spy based on novel secret agent Action Adventu...</td>\n",
       "    </tr>\n",
       "  </tbody>\n",
       "</table>\n",
       "</div>"
      ],
      "text/plain": [
       "       id                                     title  \\\n",
       "0   19995                                    Avatar   \n",
       "1     285  Pirates of the Caribbean: At World's End   \n",
       "2  206647                                   Spectre   \n",
       "\n",
       "                                                tags  \n",
       "0  culture clash future space war Action Adventur...  \n",
       "1  ocean drug abuse exotic island Adventure Fanta...  \n",
       "2  spy based on novel secret agent Action Adventu...  "
      ]
     },
     "execution_count": 7,
     "metadata": {},
     "output_type": "execute_result"
    }
   ],
   "source": [
    "# Convert to tags to string format\n",
    "\n",
    "new_df['tags'] = movies_feature_set['tags'].apply(lambda x: \" \".join(x))\n",
    "new_df.head(3)\n"
   ]
  },
  {
   "cell_type": "code",
   "execution_count": 8,
   "id": "b04d4d8b",
   "metadata": {
    "execution": {
     "iopub.execute_input": "2022-08-10T23:58:35.153598Z",
     "iopub.status.busy": "2022-08-10T23:58:35.153220Z",
     "iopub.status.idle": "2022-08-10T23:58:35.160738Z",
     "shell.execute_reply": "2022-08-10T23:58:35.159711Z"
    },
    "papermill": {
     "duration": 0.021316,
     "end_time": "2022-08-10T23:58:35.162941",
     "exception": false,
     "start_time": "2022-08-10T23:58:35.141625",
     "status": "completed"
    },
    "tags": []
   },
   "outputs": [
    {
     "data": {
      "text/plain": [
       "'culture clash future space war Action Adventure Fantasy Science Fiction Sam Worthington Zoe Saldana'"
      ]
     },
     "execution_count": 8,
     "metadata": {},
     "output_type": "execute_result"
    }
   ],
   "source": [
    "new_df['tags'][0]"
   ]
  },
  {
   "cell_type": "code",
   "execution_count": 9,
   "id": "e18d4f55",
   "metadata": {
    "execution": {
     "iopub.execute_input": "2022-08-10T23:58:35.186026Z",
     "iopub.status.busy": "2022-08-10T23:58:35.185599Z",
     "iopub.status.idle": "2022-08-10T23:58:35.298842Z",
     "shell.execute_reply": "2022-08-10T23:58:35.297609Z"
    },
    "papermill": {
     "duration": 0.128254,
     "end_time": "2022-08-10T23:58:35.301327",
     "exception": false,
     "start_time": "2022-08-10T23:58:35.173073",
     "status": "completed"
    },
    "tags": []
   },
   "outputs": [
    {
     "name": "stderr",
     "output_type": "stream",
     "text": [
      "/opt/conda/lib/python3.7/site-packages/ipykernel_launcher.py:5: SettingWithCopyWarning: \n",
      "A value is trying to be set on a copy of a slice from a DataFrame.\n",
      "Try using .loc[row_indexer,col_indexer] = value instead\n",
      "\n",
      "See the caveats in the documentation: https://pandas.pydata.org/pandas-docs/stable/user_guide/indexing.html#returning-a-view-versus-a-copy\n",
      "  \"\"\"\n"
     ]
    },
    {
     "data": {
      "text/plain": [
       "(4809, 7526)"
      ]
     },
     "execution_count": 9,
     "metadata": {},
     "output_type": "execute_result"
    }
   ],
   "source": [
    "from sklearn.feature_extraction.text import TfidfVectorizer\n",
    "\n",
    "# remove commmon stop words from tags column \n",
    "tfidf = TfidfVectorizer(stop_words='english')\n",
    "new_df['overview'] = new_df['tags'].fillna('')\n",
    "tfidf_matrix = tfidf.fit_transform(new_df['tags'])\n",
    "\n",
    "tfidf_matrix.shape"
   ]
  },
  {
   "cell_type": "code",
   "execution_count": 10,
   "id": "bc984573",
   "metadata": {
    "execution": {
     "iopub.execute_input": "2022-08-10T23:58:35.324616Z",
     "iopub.status.busy": "2022-08-10T23:58:35.324208Z",
     "iopub.status.idle": "2022-08-10T23:58:35.939990Z",
     "shell.execute_reply": "2022-08-10T23:58:35.938723Z"
    },
    "papermill": {
     "duration": 0.630362,
     "end_time": "2022-08-10T23:58:35.942565",
     "exception": false,
     "start_time": "2022-08-10T23:58:35.312203",
     "status": "completed"
    },
    "tags": []
   },
   "outputs": [
    {
     "data": {
      "text/plain": [
       "title\n",
       "Avatar                                         0\n",
       "Pirates of the Caribbean: At World's End       1\n",
       "Spectre                                        2\n",
       "The Dark Knight Rises                          3\n",
       "John Carter                                    4\n",
       "                                            ... \n",
       "El Mariachi                                 4804\n",
       "Newlyweds                                   4805\n",
       "Signed, Sealed, Delivered                   4806\n",
       "Shanghai Calling                            4807\n",
       "My Date with Drew                           4808\n",
       "Length: 4809, dtype: int64"
      ]
     },
     "execution_count": 10,
     "metadata": {},
     "output_type": "execute_result"
    }
   ],
   "source": [
    "from sklearn.metrics.pairwise import linear_kernel\n",
    "\n",
    "# cosine similarity for matrix factorization \n",
    "cosine_sim = linear_kernel(tfidf_matrix, tfidf_matrix)\n",
    "indices = pd.Series(new_df.index, index=new_df['title']).drop_duplicates()\n",
    "\n",
    "indices"
   ]
  },
  {
   "cell_type": "code",
   "execution_count": 11,
   "id": "33e93039",
   "metadata": {
    "execution": {
     "iopub.execute_input": "2022-08-10T23:58:35.965380Z",
     "iopub.status.busy": "2022-08-10T23:58:35.964981Z",
     "iopub.status.idle": "2022-08-10T23:58:35.972151Z",
     "shell.execute_reply": "2022-08-10T23:58:35.970950Z"
    },
    "papermill": {
     "duration": 0.021379,
     "end_time": "2022-08-10T23:58:35.974544",
     "exception": false,
     "start_time": "2022-08-10T23:58:35.953165",
     "status": "completed"
    },
    "tags": []
   },
   "outputs": [],
   "source": [
    "# Function that takes in movie title as input and outputs most similar movies\n",
    "def movie_recommendations(title, cosine_sim=cosine_sim):\n",
    "    \n",
    "    idx = indices[title]\n",
    "\n",
    "    # pairwise similarity scores of all movies with that movie\n",
    "    sim_scores = list(enumerate(cosine_sim[idx]))\n",
    "\n",
    "    # Sorting of movies based on similarity score\n",
    "    sim_scores = sorted(sim_scores, key=lambda x: x[1], reverse=True)\n",
    "\n",
    "    # Get the scores of the 5 most similar movies\n",
    "    sim_scores = sim_scores[1:6]\n",
    "\n",
    "    movie_indices = [i[0] for i in sim_scores]\n",
    "\n",
    "    # Return the top 5 most similar movies\n",
    "    return new_df['title'].iloc[movie_indices]\n",
    "\n",
    "\n"
   ]
  },
  {
   "cell_type": "code",
   "execution_count": 12,
   "id": "4709288e",
   "metadata": {
    "execution": {
     "iopub.execute_input": "2022-08-10T23:58:35.997958Z",
     "iopub.status.busy": "2022-08-10T23:58:35.997123Z",
     "iopub.status.idle": "2022-08-10T23:58:36.008929Z",
     "shell.execute_reply": "2022-08-10T23:58:36.007857Z"
    },
    "papermill": {
     "duration": 0.026062,
     "end_time": "2022-08-10T23:58:36.011322",
     "exception": false,
     "start_time": "2022-08-10T23:58:35.985260",
     "status": "completed"
    },
    "tags": []
   },
   "outputs": [
    {
     "data": {
      "text/plain": [
       "29                              Skyfall\n",
       "11                    Quantum of Solace\n",
       "354     The Girl with the Dragon Tattoo\n",
       "287                    Django Unchained\n",
       "3052                           Big Eyes\n",
       "Name: title, dtype: object"
      ]
     },
     "execution_count": 12,
     "metadata": {},
     "output_type": "execute_result"
    }
   ],
   "source": [
    "movie_recommendations('Spectre')"
   ]
  },
  {
   "cell_type": "markdown",
   "id": "c9f1f6ed",
   "metadata": {
    "papermill": {
     "duration": 0.010172,
     "end_time": "2022-08-10T23:58:36.032140",
     "exception": false,
     "start_time": "2022-08-10T23:58:36.021968",
     "status": "completed"
    },
    "tags": []
   },
   "source": [
    "Movie Genre Prediction Using Natural Language Processing (NLP)"
   ]
  },
  {
   "cell_type": "code",
   "execution_count": 13,
   "id": "bce4ea56",
   "metadata": {
    "execution": {
     "iopub.execute_input": "2022-08-10T23:58:36.055074Z",
     "iopub.status.busy": "2022-08-10T23:58:36.054704Z",
     "iopub.status.idle": "2022-08-10T23:58:36.575552Z",
     "shell.execute_reply": "2022-08-10T23:58:36.573883Z"
    },
    "papermill": {
     "duration": 0.535575,
     "end_time": "2022-08-10T23:58:36.578266",
     "exception": false,
     "start_time": "2022-08-10T23:58:36.042691",
     "status": "completed"
    },
    "tags": []
   },
   "outputs": [
    {
     "name": "stderr",
     "output_type": "stream",
     "text": [
      "/opt/conda/lib/python3.7/site-packages/pandas/util/_decorators.py:311: SettingWithCopyWarning: \n",
      "A value is trying to be set on a copy of a slice from a DataFrame\n",
      "\n",
      "See the caveats in the documentation: https://pandas.pydata.org/pandas-docs/stable/user_guide/indexing.html#returning-a-view-versus-a-copy\n",
      "  return func(*args, **kwargs)\n"
     ]
    },
    {
     "data": {
      "text/html": [
       "<div>\n",
       "<style scoped>\n",
       "    .dataframe tbody tr th:only-of-type {\n",
       "        vertical-align: middle;\n",
       "    }\n",
       "\n",
       "    .dataframe tbody tr th {\n",
       "        vertical-align: top;\n",
       "    }\n",
       "\n",
       "    .dataframe thead th {\n",
       "        text-align: right;\n",
       "    }\n",
       "</style>\n",
       "<table border=\"1\" class=\"dataframe\">\n",
       "  <thead>\n",
       "    <tr style=\"text-align: right;\">\n",
       "      <th></th>\n",
       "      <th>title</th>\n",
       "      <th>keywords</th>\n",
       "      <th>cast</th>\n",
       "      <th>popularity</th>\n",
       "      <th>overview</th>\n",
       "      <th>genres</th>\n",
       "    </tr>\n",
       "  </thead>\n",
       "  <tbody>\n",
       "    <tr>\n",
       "      <th>0</th>\n",
       "      <td>Avatar</td>\n",
       "      <td>[{\"id\": 1463, \"name\": \"culture clash\"}, {\"id\":...</td>\n",
       "      <td>[{\"cast_id\": 242, \"character\": \"Jake Sully\", \"...</td>\n",
       "      <td>150.437577</td>\n",
       "      <td>In the 22nd century, a paraplegic Marine is di...</td>\n",
       "      <td>[{\"id\": 28, \"name\": \"Action\"}, {\"id\": 12, \"nam...</td>\n",
       "    </tr>\n",
       "    <tr>\n",
       "      <th>1</th>\n",
       "      <td>Pirates of the Caribbean: At World's End</td>\n",
       "      <td>[{\"id\": 270, \"name\": \"ocean\"}, {\"id\": 726, \"na...</td>\n",
       "      <td>[{\"cast_id\": 4, \"character\": \"Captain Jack Spa...</td>\n",
       "      <td>139.082615</td>\n",
       "      <td>Captain Barbossa, long believed to be dead, ha...</td>\n",
       "      <td>[{\"id\": 12, \"name\": \"Adventure\"}, {\"id\": 14, \"...</td>\n",
       "    </tr>\n",
       "    <tr>\n",
       "      <th>2</th>\n",
       "      <td>Spectre</td>\n",
       "      <td>[{\"id\": 470, \"name\": \"spy\"}, {\"id\": 818, \"name...</td>\n",
       "      <td>[{\"cast_id\": 1, \"character\": \"James Bond\", \"cr...</td>\n",
       "      <td>107.376788</td>\n",
       "      <td>A cryptic message from Bond’s past sends him o...</td>\n",
       "      <td>[{\"id\": 28, \"name\": \"Action\"}, {\"id\": 12, \"nam...</td>\n",
       "    </tr>\n",
       "    <tr>\n",
       "      <th>3</th>\n",
       "      <td>The Dark Knight Rises</td>\n",
       "      <td>[{\"id\": 849, \"name\": \"dc comics\"}, {\"id\": 853,...</td>\n",
       "      <td>[{\"cast_id\": 2, \"character\": \"Bruce Wayne / Ba...</td>\n",
       "      <td>112.312950</td>\n",
       "      <td>Following the death of District Attorney Harve...</td>\n",
       "      <td>[{\"id\": 28, \"name\": \"Action\"}, {\"id\": 80, \"nam...</td>\n",
       "    </tr>\n",
       "    <tr>\n",
       "      <th>4</th>\n",
       "      <td>John Carter</td>\n",
       "      <td>[{\"id\": 818, \"name\": \"based on novel\"}, {\"id\":...</td>\n",
       "      <td>[{\"cast_id\": 5, \"character\": \"John Carter\", \"c...</td>\n",
       "      <td>43.926995</td>\n",
       "      <td>John Carter is a war-weary, former military ca...</td>\n",
       "      <td>[{\"id\": 28, \"name\": \"Action\"}, {\"id\": 12, \"nam...</td>\n",
       "    </tr>\n",
       "  </tbody>\n",
       "</table>\n",
       "</div>"
      ],
      "text/plain": [
       "                                      title  \\\n",
       "0                                    Avatar   \n",
       "1  Pirates of the Caribbean: At World's End   \n",
       "2                                   Spectre   \n",
       "3                     The Dark Knight Rises   \n",
       "4                               John Carter   \n",
       "\n",
       "                                            keywords  \\\n",
       "0  [{\"id\": 1463, \"name\": \"culture clash\"}, {\"id\":...   \n",
       "1  [{\"id\": 270, \"name\": \"ocean\"}, {\"id\": 726, \"na...   \n",
       "2  [{\"id\": 470, \"name\": \"spy\"}, {\"id\": 818, \"name...   \n",
       "3  [{\"id\": 849, \"name\": \"dc comics\"}, {\"id\": 853,...   \n",
       "4  [{\"id\": 818, \"name\": \"based on novel\"}, {\"id\":...   \n",
       "\n",
       "                                                cast  popularity  \\\n",
       "0  [{\"cast_id\": 242, \"character\": \"Jake Sully\", \"...  150.437577   \n",
       "1  [{\"cast_id\": 4, \"character\": \"Captain Jack Spa...  139.082615   \n",
       "2  [{\"cast_id\": 1, \"character\": \"James Bond\", \"cr...  107.376788   \n",
       "3  [{\"cast_id\": 2, \"character\": \"Bruce Wayne / Ba...  112.312950   \n",
       "4  [{\"cast_id\": 5, \"character\": \"John Carter\", \"c...   43.926995   \n",
       "\n",
       "                                            overview  \\\n",
       "0  In the 22nd century, a paraplegic Marine is di...   \n",
       "1  Captain Barbossa, long believed to be dead, ha...   \n",
       "2  A cryptic message from Bond’s past sends him o...   \n",
       "3  Following the death of District Attorney Harve...   \n",
       "4  John Carter is a war-weary, former military ca...   \n",
       "\n",
       "                                              genres  \n",
       "0  [{\"id\": 28, \"name\": \"Action\"}, {\"id\": 12, \"nam...  \n",
       "1  [{\"id\": 12, \"name\": \"Adventure\"}, {\"id\": 14, \"...  \n",
       "2  [{\"id\": 28, \"name\": \"Action\"}, {\"id\": 12, \"nam...  \n",
       "3  [{\"id\": 28, \"name\": \"Action\"}, {\"id\": 80, \"nam...  \n",
       "4  [{\"id\": 28, \"name\": \"Action\"}, {\"id\": 12, \"nam...  "
      ]
     },
     "execution_count": 13,
     "metadata": {},
     "output_type": "execute_result"
    }
   ],
   "source": [
    "movies_v2 = pd.read_csv('../input/tmdb-movie-metadata/tmdb_5000_movies.csv')\n",
    "credits_v2 = pd.read_csv('../input/tmdb-movie-metadata/tmdb_5000_credits.csv')\n",
    "movies_v2 = movies_v2.merge(credits_v2,on='title')\n",
    "\n",
    "\n",
    "movies_clean = movies_v2[['title','keywords','cast','popularity','overview','genres']]\n",
    "movies_clean.dropna(inplace=True)\n",
    "movies_clean.head(5)"
   ]
  },
  {
   "cell_type": "code",
   "execution_count": 14,
   "id": "87a7504c",
   "metadata": {
    "execution": {
     "iopub.execute_input": "2022-08-10T23:58:36.604032Z",
     "iopub.status.busy": "2022-08-10T23:58:36.601813Z",
     "iopub.status.idle": "2022-08-10T23:58:36.775627Z",
     "shell.execute_reply": "2022-08-10T23:58:36.774832Z"
    },
    "papermill": {
     "duration": 0.188222,
     "end_time": "2022-08-10T23:58:36.777808",
     "exception": false,
     "start_time": "2022-08-10T23:58:36.589586",
     "status": "completed"
    },
    "tags": []
   },
   "outputs": [
    {
     "name": "stderr",
     "output_type": "stream",
     "text": [
      "/opt/conda/lib/python3.7/site-packages/ipykernel_launcher.py:10: SettingWithCopyWarning: \n",
      "A value is trying to be set on a copy of a slice from a DataFrame.\n",
      "Try using .loc[row_indexer,col_indexer] = value instead\n",
      "\n",
      "See the caveats in the documentation: https://pandas.pydata.org/pandas-docs/stable/user_guide/indexing.html#returning-a-view-versus-a-copy\n",
      "  # Remove the CWD from sys.path while we load stuff.\n",
      "/opt/conda/lib/python3.7/site-packages/ipykernel_launcher.py:12: SettingWithCopyWarning: \n",
      "A value is trying to be set on a copy of a slice from a DataFrame.\n",
      "Try using .loc[row_indexer,col_indexer] = value instead\n",
      "\n",
      "See the caveats in the documentation: https://pandas.pydata.org/pandas-docs/stable/user_guide/indexing.html#returning-a-view-versus-a-copy\n",
      "  if sys.path[0] == \"\":\n"
     ]
    },
    {
     "data": {
      "text/html": [
       "<div>\n",
       "<style scoped>\n",
       "    .dataframe tbody tr th:only-of-type {\n",
       "        vertical-align: middle;\n",
       "    }\n",
       "\n",
       "    .dataframe tbody tr th {\n",
       "        vertical-align: top;\n",
       "    }\n",
       "\n",
       "    .dataframe thead th {\n",
       "        text-align: right;\n",
       "    }\n",
       "</style>\n",
       "<table border=\"1\" class=\"dataframe\">\n",
       "  <thead>\n",
       "    <tr style=\"text-align: right;\">\n",
       "      <th></th>\n",
       "      <th>title</th>\n",
       "      <th>overview</th>\n",
       "      <th>genres</th>\n",
       "    </tr>\n",
       "  </thead>\n",
       "  <tbody>\n",
       "    <tr>\n",
       "      <th>0</th>\n",
       "      <td>Avatar</td>\n",
       "      <td>In the 22nd century, a paraplegic Marine is di...</td>\n",
       "      <td>Action</td>\n",
       "    </tr>\n",
       "    <tr>\n",
       "      <th>1</th>\n",
       "      <td>Pirates of the Caribbean: At World's End</td>\n",
       "      <td>Captain Barbossa, long believed to be dead, ha...</td>\n",
       "      <td>Adventure</td>\n",
       "    </tr>\n",
       "    <tr>\n",
       "      <th>2</th>\n",
       "      <td>Spectre</td>\n",
       "      <td>A cryptic message from Bond’s past sends him o...</td>\n",
       "      <td>Action</td>\n",
       "    </tr>\n",
       "    <tr>\n",
       "      <th>3</th>\n",
       "      <td>The Dark Knight Rises</td>\n",
       "      <td>Following the death of District Attorney Harve...</td>\n",
       "      <td>Action</td>\n",
       "    </tr>\n",
       "    <tr>\n",
       "      <th>4</th>\n",
       "      <td>John Carter</td>\n",
       "      <td>John Carter is a war-weary, former military ca...</td>\n",
       "      <td>Action</td>\n",
       "    </tr>\n",
       "  </tbody>\n",
       "</table>\n",
       "</div>"
      ],
      "text/plain": [
       "                                      title  \\\n",
       "0                                    Avatar   \n",
       "1  Pirates of the Caribbean: At World's End   \n",
       "2                                   Spectre   \n",
       "3                     The Dark Knight Rises   \n",
       "4                               John Carter   \n",
       "\n",
       "                                            overview     genres  \n",
       "0  In the 22nd century, a paraplegic Marine is di...     Action  \n",
       "1  Captain Barbossa, long believed to be dead, ha...  Adventure  \n",
       "2  A cryptic message from Bond’s past sends him o...     Action  \n",
       "3  Following the death of District Attorney Harve...     Action  \n",
       "4  John Carter is a war-weary, former military ca...     Action  "
      ]
     },
     "execution_count": 14,
     "metadata": {},
     "output_type": "execute_result"
    }
   ],
   "source": [
    "def convert(text):\n",
    "    arr = []\n",
    "    count = 0\n",
    "    for i in ast.literal_eval(text):\n",
    "         if count<1:\n",
    "            arr.append(i['name'])\n",
    "            count+=1\n",
    "    return arr\n",
    "\n",
    "movies_clean['genres'] = movies_v2['genres'].apply(convert)\n",
    "\n",
    "movies_clean['genres'] = movies_clean['genres'].apply(lambda x: \" \".join(x))\n",
    "\n",
    "\n",
    "movies_summary = movies_clean[['title','overview','genres']]\n",
    "movies_summary = movies_summary.dropna(subset=['title','overview','genres'])\n",
    "\n",
    "movies_summary.head()"
   ]
  },
  {
   "cell_type": "code",
   "execution_count": 15,
   "id": "9ec42365",
   "metadata": {
    "execution": {
     "iopub.execute_input": "2022-08-10T23:58:36.803046Z",
     "iopub.status.busy": "2022-08-10T23:58:36.802078Z",
     "iopub.status.idle": "2022-08-10T23:58:36.808600Z",
     "shell.execute_reply": "2022-08-10T23:58:36.807517Z"
    },
    "papermill": {
     "duration": 0.021562,
     "end_time": "2022-08-10T23:58:36.810949",
     "exception": false,
     "start_time": "2022-08-10T23:58:36.789387",
     "status": "completed"
    },
    "tags": []
   },
   "outputs": [],
   "source": [
    "import re\n",
    "def clean_text(text):\n",
    "    # remove backslash-apostrophe \n",
    "    text = re.sub(\"\\'\", \"\", text) \n",
    "    # remove everything except alphabets \n",
    "    text = re.sub(\"[^a-zA-Z]\",\" \",text) \n",
    "    # remove whitespaces \n",
    "    text = ' '.join(text.split()) \n",
    "    # convert text to lowercase \n",
    "    text = text.lower() \n",
    "    \n",
    "    return text"
   ]
  },
  {
   "cell_type": "code",
   "execution_count": 16,
   "id": "1b2e43ba",
   "metadata": {
    "execution": {
     "iopub.execute_input": "2022-08-10T23:58:36.835787Z",
     "iopub.status.busy": "2022-08-10T23:58:36.835378Z",
     "iopub.status.idle": "2022-08-10T23:58:36.960386Z",
     "shell.execute_reply": "2022-08-10T23:58:36.959472Z"
    },
    "papermill": {
     "duration": 0.140528,
     "end_time": "2022-08-10T23:58:36.962942",
     "exception": false,
     "start_time": "2022-08-10T23:58:36.822414",
     "status": "completed"
    },
    "tags": []
   },
   "outputs": [],
   "source": [
    "\n",
    "movies_summary['clean_tag'] = movies_summary['overview'].apply(lambda x: clean_text(x))"
   ]
  },
  {
   "cell_type": "code",
   "execution_count": 17,
   "id": "ff068004",
   "metadata": {
    "execution": {
     "iopub.execute_input": "2022-08-10T23:58:36.987964Z",
     "iopub.status.busy": "2022-08-10T23:58:36.987043Z",
     "iopub.status.idle": "2022-08-10T23:58:37.001888Z",
     "shell.execute_reply": "2022-08-10T23:58:37.000781Z"
    },
    "papermill": {
     "duration": 0.030027,
     "end_time": "2022-08-10T23:58:37.004417",
     "exception": false,
     "start_time": "2022-08-10T23:58:36.974390",
     "status": "completed"
    },
    "tags": []
   },
   "outputs": [
    {
     "data": {
      "text/html": [
       "<div>\n",
       "<style scoped>\n",
       "    .dataframe tbody tr th:only-of-type {\n",
       "        vertical-align: middle;\n",
       "    }\n",
       "\n",
       "    .dataframe tbody tr th {\n",
       "        vertical-align: top;\n",
       "    }\n",
       "\n",
       "    .dataframe thead th {\n",
       "        text-align: right;\n",
       "    }\n",
       "</style>\n",
       "<table border=\"1\" class=\"dataframe\">\n",
       "  <thead>\n",
       "    <tr style=\"text-align: right;\">\n",
       "      <th></th>\n",
       "      <th>title</th>\n",
       "      <th>clean_tag</th>\n",
       "      <th>genres</th>\n",
       "    </tr>\n",
       "  </thead>\n",
       "  <tbody>\n",
       "    <tr>\n",
       "      <th>0</th>\n",
       "      <td>Avatar</td>\n",
       "      <td>in the nd century a paraplegic marine is dispa...</td>\n",
       "      <td>Action</td>\n",
       "    </tr>\n",
       "    <tr>\n",
       "      <th>1</th>\n",
       "      <td>Pirates of the Caribbean: At World's End</td>\n",
       "      <td>captain barbossa long believed to be dead has ...</td>\n",
       "      <td>Adventure</td>\n",
       "    </tr>\n",
       "    <tr>\n",
       "      <th>2</th>\n",
       "      <td>Spectre</td>\n",
       "      <td>a cryptic message from bond s past sends him o...</td>\n",
       "      <td>Action</td>\n",
       "    </tr>\n",
       "    <tr>\n",
       "      <th>3</th>\n",
       "      <td>The Dark Knight Rises</td>\n",
       "      <td>following the death of district attorney harve...</td>\n",
       "      <td>Action</td>\n",
       "    </tr>\n",
       "    <tr>\n",
       "      <th>4</th>\n",
       "      <td>John Carter</td>\n",
       "      <td>john carter is a war weary former military cap...</td>\n",
       "      <td>Action</td>\n",
       "    </tr>\n",
       "  </tbody>\n",
       "</table>\n",
       "</div>"
      ],
      "text/plain": [
       "                                      title  \\\n",
       "0                                    Avatar   \n",
       "1  Pirates of the Caribbean: At World's End   \n",
       "2                                   Spectre   \n",
       "3                     The Dark Knight Rises   \n",
       "4                               John Carter   \n",
       "\n",
       "                                           clean_tag     genres  \n",
       "0  in the nd century a paraplegic marine is dispa...     Action  \n",
       "1  captain barbossa long believed to be dead has ...  Adventure  \n",
       "2  a cryptic message from bond s past sends him o...     Action  \n",
       "3  following the death of district attorney harve...     Action  \n",
       "4  john carter is a war weary former military cap...     Action  "
      ]
     },
     "execution_count": 17,
     "metadata": {},
     "output_type": "execute_result"
    }
   ],
   "source": [
    "\n",
    "\n",
    "movies_summary_clean = movies_summary[['title','clean_tag','genres']]\n",
    "movies_summary_clean.head()\n",
    "\n"
   ]
  },
  {
   "cell_type": "code",
   "execution_count": 18,
   "id": "d116aa13",
   "metadata": {
    "execution": {
     "iopub.execute_input": "2022-08-10T23:58:37.029794Z",
     "iopub.status.busy": "2022-08-10T23:58:37.029389Z",
     "iopub.status.idle": "2022-08-10T23:58:37.039281Z",
     "shell.execute_reply": "2022-08-10T23:58:37.038032Z"
    },
    "papermill": {
     "duration": 0.02518,
     "end_time": "2022-08-10T23:58:37.041507",
     "exception": false,
     "start_time": "2022-08-10T23:58:37.016327",
     "status": "completed"
    },
    "tags": []
   },
   "outputs": [
    {
     "data": {
      "text/plain": [
       "Drama              1208\n",
       "Comedy             1042\n",
       "Action              755\n",
       "Adventure           339\n",
       "Horror              301\n",
       "Crime               195\n",
       "Thriller            194\n",
       "Animation           123\n",
       "Fantasy             118\n",
       "Romance             106\n",
       "Science Fiction      96\n",
       "Documentary          87\n",
       "Family               57\n",
       "Mystery              41\n",
       "Music                34\n",
       "                     28\n",
       "Western              27\n",
       "History              25\n",
       "War                  24\n",
       "TV Movie              4\n",
       "Foreign               2\n",
       "Name: genres, dtype: int64"
      ]
     },
     "execution_count": 18,
     "metadata": {},
     "output_type": "execute_result"
    }
   ],
   "source": [
    "movies_summary_clean['genres'].value_counts()"
   ]
  },
  {
   "cell_type": "code",
   "execution_count": 19,
   "id": "02256e68",
   "metadata": {
    "execution": {
     "iopub.execute_input": "2022-08-10T23:58:37.067217Z",
     "iopub.status.busy": "2022-08-10T23:58:37.066820Z",
     "iopub.status.idle": "2022-08-10T23:58:37.075825Z",
     "shell.execute_reply": "2022-08-10T23:58:37.074604Z"
    },
    "papermill": {
     "duration": 0.02433,
     "end_time": "2022-08-10T23:58:37.077925",
     "exception": false,
     "start_time": "2022-08-10T23:58:37.053595",
     "status": "completed"
    },
    "tags": []
   },
   "outputs": [
    {
     "data": {
      "text/plain": [
       "['Drama',\n",
       " 'Comedy',\n",
       " 'Action',\n",
       " 'Adventure',\n",
       " 'Horror',\n",
       " 'Crime',\n",
       " 'Thriller',\n",
       " 'Animation',\n",
       " 'Fantasy',\n",
       " 'Romance']"
      ]
     },
     "execution_count": 19,
     "metadata": {},
     "output_type": "execute_result"
    }
   ],
   "source": [
    "\n",
    "movies_summary_clean['genres'].value_counts()[:10].index.tolist()"
   ]
  },
  {
   "cell_type": "code",
   "execution_count": 20,
   "id": "9aa42cb5",
   "metadata": {
    "execution": {
     "iopub.execute_input": "2022-08-10T23:58:37.104599Z",
     "iopub.status.busy": "2022-08-10T23:58:37.103955Z",
     "iopub.status.idle": "2022-08-10T23:58:37.407930Z",
     "shell.execute_reply": "2022-08-10T23:58:37.407123Z"
    },
    "papermill": {
     "duration": 0.319343,
     "end_time": "2022-08-10T23:58:37.410058",
     "exception": false,
     "start_time": "2022-08-10T23:58:37.090715",
     "status": "completed"
    },
    "tags": []
   },
   "outputs": [
    {
     "name": "stderr",
     "output_type": "stream",
     "text": [
      "/opt/conda/lib/python3.7/site-packages/seaborn/_decorators.py:43: FutureWarning: Pass the following variable as a keyword arg: x. From version 0.12, the only valid positional argument will be `data`, and passing other arguments without an explicit keyword will result in an error or misinterpretation.\n",
      "  FutureWarning\n"
     ]
    },
    {
     "data": {
      "text/plain": [
       "Text(0.5, 1.0, 'Movie Genre Count Plot')"
      ]
     },
     "execution_count": 20,
     "metadata": {},
     "output_type": "execute_result"
    },
    {
     "data": {
      "image/png": "[encoded data removed]",
      "text/plain": [
       "<Figure size 432x288 with 1 Axes>"
      ]
     },
     "metadata": {
      "needs_background": "light"
     },
     "output_type": "display_data"
    }
   ],
   "source": [
    "sns.countplot(movies_summary_clean['genres'])\n",
    "plt.xlabel(\"Genres\")\n",
    "plt.ylabel(\"Count of Movies\")\n",
    "plt.title(\"Movie Genre Count Plot\")"
   ]
  },
  {
   "cell_type": "code",
   "execution_count": 21,
   "id": "10c20b4b",
   "metadata": {
    "execution": {
     "iopub.execute_input": "2022-08-10T23:58:37.436899Z",
     "iopub.status.busy": "2022-08-10T23:58:37.436264Z",
     "iopub.status.idle": "2022-08-10T23:58:37.449714Z",
     "shell.execute_reply": "2022-08-10T23:58:37.448427Z"
    },
    "papermill": {
     "duration": 0.029797,
     "end_time": "2022-08-10T23:58:37.452347",
     "exception": false,
     "start_time": "2022-08-10T23:58:37.422550",
     "status": "completed"
    },
    "tags": []
   },
   "outputs": [
    {
     "name": "stdout",
     "output_type": "stream",
     "text": [
      "title : 4797\n",
      "clean_tag : 4800\n",
      "genres : 21\n"
     ]
    }
   ],
   "source": [
    "for i in movies_summary_clean.columns:\n",
    "    #prinfting unique values\n",
    "    print(i ,':', len(movies_summary_clean[i].unique()))"
   ]
  },
  {
   "cell_type": "code",
   "execution_count": 22,
   "id": "e8e76d6b",
   "metadata": {
    "execution": {
     "iopub.execute_input": "2022-08-10T23:58:37.479657Z",
     "iopub.status.busy": "2022-08-10T23:58:37.478575Z",
     "iopub.status.idle": "2022-08-10T23:58:37.485599Z",
     "shell.execute_reply": "2022-08-10T23:58:37.484815Z"
    },
    "papermill": {
     "duration": 0.023052,
     "end_time": "2022-08-10T23:58:37.487948",
     "exception": false,
     "start_time": "2022-08-10T23:58:37.464896",
     "status": "completed"
    },
    "tags": []
   },
   "outputs": [],
   "source": [
    "from sklearn.feature_extraction.text import TfidfVectorizer\n",
    "from sklearn.feature_extraction.text import CountVectorizer\n",
    "\n",
    "X_train, X_test, y_train, y_test = train_test_split(movies_summary_clean['clean_tag'],movies_summary_clean['genres'],test_size=0.2,shuffle=True)\n"
   ]
  },
  {
   "cell_type": "code",
   "execution_count": 23,
   "id": "6c9dfb0e",
   "metadata": {
    "execution": {
     "iopub.execute_input": "2022-08-10T23:58:37.514752Z",
     "iopub.status.busy": "2022-08-10T23:58:37.514293Z",
     "iopub.status.idle": "2022-08-10T23:58:37.787007Z",
     "shell.execute_reply": "2022-08-10T23:58:37.785857Z"
    },
    "papermill": {
     "duration": 0.288686,
     "end_time": "2022-08-10T23:58:37.789375",
     "exception": false,
     "start_time": "2022-08-10T23:58:37.500689",
     "status": "completed"
    },
    "tags": []
   },
   "outputs": [
    {
     "data": {
      "text/plain": [
       "(3844, 19339)"
      ]
     },
     "execution_count": 23,
     "metadata": {},
     "output_type": "execute_result"
    }
   ],
   "source": [
    "#Tf-Idf\n",
    "\n",
    "tfidf_vectorizer = TfidfVectorizer(use_idf=True)\n",
    "X_train_vectors_tfidf = tfidf_vectorizer.fit_transform(X_train) \n",
    "X_test_vectors_tfidf = tfidf_vectorizer.transform(X_test)\n",
    "\n",
    "X_train_vectors_tfidf.shape"
   ]
  },
  {
   "cell_type": "code",
   "execution_count": 24,
   "id": "ef7e163e",
   "metadata": {
    "execution": {
     "iopub.execute_input": "2022-08-10T23:58:37.816517Z",
     "iopub.status.busy": "2022-08-10T23:58:37.816095Z",
     "iopub.status.idle": "2022-08-10T23:58:37.944161Z",
     "shell.execute_reply": "2022-08-10T23:58:37.943079Z"
    },
    "papermill": {
     "duration": 0.144829,
     "end_time": "2022-08-10T23:58:37.946772",
     "exception": false,
     "start_time": "2022-08-10T23:58:37.801943",
     "status": "completed"
    },
    "tags": []
   },
   "outputs": [],
   "source": [
    "from sklearn.linear_model import LogisticRegression\n",
    "from sklearn.naive_bayes import MultinomialNB\n",
    "from sklearn.metrics import classification_report, f1_score, accuracy_score, confusion_matrix\n",
    "from sklearn.metrics import roc_curve, auc, roc_auc_score\n",
    "\n",
    "\n",
    "\n",
    "#FITTING THE CLASSIFICATION MODEL using Naive Bayes(tf-idf)\n",
    "nb_tfidf = MultinomialNB()\n",
    "nb_tfidf.fit(X_train_vectors_tfidf, y_train)  \n",
    "\n",
    "\n",
    "#Predict y value for test dataset\n",
    "y_predict_tfidf = nb_tfidf.predict(X_test_vectors_tfidf)\n",
    "\n",
    "\n",
    " "
   ]
  },
  {
   "cell_type": "code",
   "execution_count": 25,
   "id": "6a846bcc",
   "metadata": {
    "execution": {
     "iopub.execute_input": "2022-08-10T23:58:37.973471Z",
     "iopub.status.busy": "2022-08-10T23:58:37.973068Z",
     "iopub.status.idle": "2022-08-10T23:58:38.007995Z",
     "shell.execute_reply": "2022-08-10T23:58:38.006329Z"
    },
    "papermill": {
     "duration": 0.051679,
     "end_time": "2022-08-10T23:58:38.011013",
     "exception": false,
     "start_time": "2022-08-10T23:58:37.959334",
     "status": "completed"
    },
    "tags": []
   },
   "outputs": [
    {
     "name": "stdout",
     "output_type": "stream",
     "text": [
      "                 precision    recall  f1-score   support\n",
      "\n",
      "                      0.00      0.00      0.00         3\n",
      "         Action       0.49      0.13      0.21       158\n",
      "      Adventure       0.00      0.00      0.00        72\n",
      "      Animation       0.00      0.00      0.00        22\n",
      "         Comedy       0.43      0.41      0.42       208\n",
      "          Crime       0.00      0.00      0.00        41\n",
      "    Documentary       0.00      0.00      0.00        16\n",
      "          Drama       0.32      0.90      0.47       251\n",
      "         Family       0.00      0.00      0.00         8\n",
      "        Fantasy       0.00      0.00      0.00        26\n",
      "        Foreign       0.00      0.00      0.00         1\n",
      "        History       0.00      0.00      0.00         6\n",
      "         Horror       0.00      0.00      0.00        53\n",
      "          Music       0.00      0.00      0.00         5\n",
      "        Mystery       0.00      0.00      0.00         8\n",
      "        Romance       0.00      0.00      0.00        20\n",
      "Science Fiction       0.00      0.00      0.00        13\n",
      "       TV Movie       0.00      0.00      0.00         1\n",
      "       Thriller       0.00      0.00      0.00        40\n",
      "            War       0.00      0.00      0.00         7\n",
      "        Western       0.00      0.00      0.00         3\n",
      "\n",
      "       accuracy                           0.35       962\n",
      "      macro avg       0.06      0.07      0.05       962\n",
      "   weighted avg       0.25      0.35      0.25       962\n",
      "\n"
     ]
    },
    {
     "name": "stderr",
     "output_type": "stream",
     "text": [
      "/opt/conda/lib/python3.7/site-packages/sklearn/metrics/_classification.py:1318: UndefinedMetricWarning: Precision and F-score are ill-defined and being set to 0.0 in labels with no predicted samples. Use `zero_division` parameter to control this behavior.\n",
      "  _warn_prf(average, modifier, msg_start, len(result))\n",
      "/opt/conda/lib/python3.7/site-packages/sklearn/metrics/_classification.py:1318: UndefinedMetricWarning: Precision and F-score are ill-defined and being set to 0.0 in labels with no predicted samples. Use `zero_division` parameter to control this behavior.\n",
      "  _warn_prf(average, modifier, msg_start, len(result))\n",
      "/opt/conda/lib/python3.7/site-packages/sklearn/metrics/_classification.py:1318: UndefinedMetricWarning: Precision and F-score are ill-defined and being set to 0.0 in labels with no predicted samples. Use `zero_division` parameter to control this behavior.\n",
      "  _warn_prf(average, modifier, msg_start, len(result))\n"
     ]
    }
   ],
   "source": [
    "from sklearn.metrics import accuracy_score\n",
    "\n",
    "print(classification_report(y_test,y_predict_tfidf))"
   ]
  },
  {
   "cell_type": "markdown",
   "id": "bf5c347c",
   "metadata": {
    "papermill": {
     "duration": 0.012339,
     "end_time": "2022-08-10T23:58:38.036117",
     "exception": false,
     "start_time": "2022-08-10T23:58:38.023778",
     "status": "completed"
    },
    "tags": []
   },
   "source": [
    "Naive Bayes Model Accuracy Score: 32.43%"
   ]
  },
  {
   "cell_type": "code",
   "execution_count": 26,
   "id": "7a917394",
   "metadata": {
    "execution": {
     "iopub.execute_input": "2022-08-10T23:58:38.063841Z",
     "iopub.status.busy": "2022-08-10T23:58:38.063200Z",
     "iopub.status.idle": "2022-08-10T23:58:39.845856Z",
     "shell.execute_reply": "2022-08-10T23:58:39.844357Z"
    },
    "papermill": {
     "duration": 1.806991,
     "end_time": "2022-08-10T23:58:39.855904",
     "exception": false,
     "start_time": "2022-08-10T23:58:38.048913",
     "status": "completed"
    },
    "tags": []
   },
   "outputs": [
    {
     "name": "stdout",
     "output_type": "stream",
     "text": [
      "                 precision    recall  f1-score   support\n",
      "\n",
      "                      0.00      0.00      0.00         3\n",
      "         Action       0.44      0.55      0.49       158\n",
      "      Adventure       0.47      0.24      0.31        72\n",
      "      Animation       1.00      0.09      0.17        22\n",
      "         Comedy       0.44      0.63      0.52       208\n",
      "          Crime       0.25      0.02      0.04        41\n",
      "    Documentary       0.50      0.06      0.11        16\n",
      "          Drama       0.43      0.63      0.51       251\n",
      "         Family       1.00      0.12      0.22         8\n",
      "        Fantasy       0.50      0.08      0.13        26\n",
      "        Foreign       0.00      0.00      0.00         1\n",
      "        History       0.00      0.00      0.00         6\n",
      "         Horror       0.47      0.30      0.37        53\n",
      "          Music       0.00      0.00      0.00         5\n",
      "        Mystery       0.00      0.00      0.00         8\n",
      "        Romance       0.00      0.00      0.00        20\n",
      "Science Fiction       0.50      0.08      0.13        13\n",
      "       TV Movie       0.00      0.00      0.00         1\n",
      "       Thriller       0.00      0.00      0.00        40\n",
      "            War       0.00      0.00      0.00         7\n",
      "        Western       0.00      0.00      0.00         3\n",
      "\n",
      "       accuracy                           0.44       962\n",
      "      macro avg       0.29      0.13      0.14       962\n",
      "   weighted avg       0.41      0.44      0.38       962\n",
      "\n"
     ]
    },
    {
     "name": "stderr",
     "output_type": "stream",
     "text": [
      "/opt/conda/lib/python3.7/site-packages/sklearn/metrics/_classification.py:1318: UndefinedMetricWarning: Precision and F-score are ill-defined and being set to 0.0 in labels with no predicted samples. Use `zero_division` parameter to control this behavior.\n",
      "  _warn_prf(average, modifier, msg_start, len(result))\n",
      "/opt/conda/lib/python3.7/site-packages/sklearn/metrics/_classification.py:1318: UndefinedMetricWarning: Precision and F-score are ill-defined and being set to 0.0 in labels with no predicted samples. Use `zero_division` parameter to control this behavior.\n",
      "  _warn_prf(average, modifier, msg_start, len(result))\n",
      "/opt/conda/lib/python3.7/site-packages/sklearn/metrics/_classification.py:1318: UndefinedMetricWarning: Precision and F-score are ill-defined and being set to 0.0 in labels with no predicted samples. Use `zero_division` parameter to control this behavior.\n",
      "  _warn_prf(average, modifier, msg_start, len(result))\n"
     ]
    }
   ],
   "source": [
    "# Model Testing: Logistic Regression\n",
    "\n",
    "lr_tfidf=LogisticRegression(solver = 'liblinear', C=10, penalty = 'l2')\n",
    "lr_tfidf.fit(X_train_vectors_tfidf, y_train)  \n",
    "#Predict y value for test dataset\n",
    "y_predict = lr_tfidf.predict(X_test_vectors_tfidf)\n",
    "\n",
    "print(classification_report(y_test,y_predict))"
   ]
  },
  {
   "cell_type": "markdown",
   "id": "3d0934d4",
   "metadata": {
    "papermill": {
     "duration": 0.012579,
     "end_time": "2022-08-10T23:58:39.891376",
     "exception": false,
     "start_time": "2022-08-10T23:58:39.878797",
     "status": "completed"
    },
    "tags": []
   },
   "source": [
    "Logistic Regression Model Accuracy Score: 40.23%"
   ]
  },
  {
   "cell_type": "code",
   "execution_count": 27,
   "id": "8648379e",
   "metadata": {
    "execution": {
     "iopub.execute_input": "2022-08-10T23:58:39.919490Z",
     "iopub.status.busy": "2022-08-10T23:58:39.918526Z",
     "iopub.status.idle": "2022-08-10T23:58:44.084471Z",
     "shell.execute_reply": "2022-08-10T23:58:44.083053Z"
    },
    "papermill": {
     "duration": 4.182761,
     "end_time": "2022-08-10T23:58:44.087268",
     "exception": false,
     "start_time": "2022-08-10T23:58:39.904507",
     "status": "completed"
    },
    "tags": []
   },
   "outputs": [
    {
     "data": {
      "text/plain": [
       "RandomForestClassifier(min_samples_split=5, random_state=5)"
      ]
     },
     "execution_count": 27,
     "metadata": {},
     "output_type": "execute_result"
    }
   ],
   "source": [
    "from sklearn.ensemble import RandomForestClassifier\n",
    "clf = RandomForestClassifier(criterion = \"gini\", min_samples_split = 5, random_state = 5)\n",
    "\n",
    "clf.fit(X_train_vectors_tfidf, y_train)"
   ]
  },
  {
   "cell_type": "code",
   "execution_count": 28,
   "id": "706e588a",
   "metadata": {
    "execution": {
     "iopub.execute_input": "2022-08-10T23:58:44.115914Z",
     "iopub.status.busy": "2022-08-10T23:58:44.115439Z",
     "iopub.status.idle": "2022-08-10T23:58:44.242887Z",
     "shell.execute_reply": "2022-08-10T23:58:44.241362Z"
    },
    "papermill": {
     "duration": 0.146626,
     "end_time": "2022-08-10T23:58:44.246899",
     "exception": false,
     "start_time": "2022-08-10T23:58:44.100273",
     "status": "completed"
    },
    "tags": []
   },
   "outputs": [
    {
     "name": "stdout",
     "output_type": "stream",
     "text": [
      "                 precision    recall  f1-score   support\n",
      "\n",
      "                      0.00      0.00      0.00         3\n",
      "         Action       0.40      0.35      0.38       158\n",
      "      Adventure       0.00      0.00      0.00        72\n",
      "      Animation       0.00      0.00      0.00        22\n",
      "         Comedy       0.33      0.44      0.38       208\n",
      "          Crime       0.00      0.00      0.00        41\n",
      "    Documentary       0.33      0.06      0.11        16\n",
      "          Drama       0.34      0.73      0.47       251\n",
      "         Family       1.00      0.12      0.22         8\n",
      "        Fantasy       1.00      0.04      0.07        26\n",
      "        Foreign       0.00      0.00      0.00         1\n",
      "        History       0.00      0.00      0.00         6\n",
      "         Horror       0.67      0.04      0.07        53\n",
      "          Music       0.00      0.00      0.00         5\n",
      "        Mystery       0.00      0.00      0.00         8\n",
      "        Romance       0.00      0.00      0.00        20\n",
      "Science Fiction       0.00      0.00      0.00        13\n",
      "       TV Movie       0.00      0.00      0.00         1\n",
      "       Thriller       0.00      0.00      0.00        40\n",
      "            War       0.00      0.00      0.00         7\n",
      "        Western       0.00      0.00      0.00         3\n",
      "\n",
      "       accuracy                           0.35       962\n",
      "      macro avg       0.19      0.09      0.08       962\n",
      "   weighted avg       0.31      0.35      0.28       962\n",
      "\n"
     ]
    },
    {
     "name": "stderr",
     "output_type": "stream",
     "text": [
      "/opt/conda/lib/python3.7/site-packages/sklearn/metrics/_classification.py:1318: UndefinedMetricWarning: Precision and F-score are ill-defined and being set to 0.0 in labels with no predicted samples. Use `zero_division` parameter to control this behavior.\n",
      "  _warn_prf(average, modifier, msg_start, len(result))\n",
      "/opt/conda/lib/python3.7/site-packages/sklearn/metrics/_classification.py:1318: UndefinedMetricWarning: Precision and F-score are ill-defined and being set to 0.0 in labels with no predicted samples. Use `zero_division` parameter to control this behavior.\n",
      "  _warn_prf(average, modifier, msg_start, len(result))\n",
      "/opt/conda/lib/python3.7/site-packages/sklearn/metrics/_classification.py:1318: UndefinedMetricWarning: Precision and F-score are ill-defined and being set to 0.0 in labels with no predicted samples. Use `zero_division` parameter to control this behavior.\n",
      "  _warn_prf(average, modifier, msg_start, len(result))\n"
     ]
    }
   ],
   "source": [
    "# Model Testing: Random Forest\n",
    "\n",
    "y_pred = clf.predict(X_test_vectors_tfidf)\n",
    "print(classification_report(y_test,y_pred))"
   ]
  },
  {
   "cell_type": "markdown",
   "id": "005ef922",
   "metadata": {
    "papermill": {
     "duration": 0.013416,
     "end_time": "2022-08-10T23:58:44.274882",
     "exception": false,
     "start_time": "2022-08-10T23:58:44.261466",
     "status": "completed"
    },
    "tags": []
   },
   "source": [
    "Random Forest Classifier Model Accuracy Score: 33.16%"
   ]
  }
 ],
 "metadata": {
  "kernelspec": {
   "display_name": "Python 3",
   "language": "python",
   "name": "python3"
  },
  "language_info": {
   "codemirror_mode": {
    "name": "ipython",
    "version": 3
   },
   "file_extension": ".py",
   "mimetype": "text/x-python",
   "name": "python",
   "nbconvert_exporter": "python",
   "pygments_lexer": "ipython3",
   "version": "3.7.12"
  },
  "papermill": {
   "default_parameters": {},
   "duration": 26.151232,
   "end_time": "2022-08-10T23:58:45.110709",
   "environment_variables": {},
   "exception": null,
   "input_path": "__notebook__.ipynb",
   "output_path": "__notebook__.ipynb",
   "parameters": {},
   "start_time": "2022-08-10T23:58:18.959477",
   "version": "2.3.4"
  }
 },
 "nbformat": 4,
 "nbformat_minor": 5
}
