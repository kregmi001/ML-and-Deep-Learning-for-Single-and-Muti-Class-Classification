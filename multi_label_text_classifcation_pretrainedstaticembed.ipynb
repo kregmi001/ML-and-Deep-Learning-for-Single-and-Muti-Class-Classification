{
 "cells": [
  {
   "cell_type": "code",
   "execution_count": 1,
   "id": "e58b1fdc",
   "metadata": {
    "_cell_guid": "b1076dfc-b9ad-4769-8c92-a6c4dae69d19",
    "_uuid": "8f2839f25d086af736a60e9eeb907d3b93b6e0e5",
    "execution": {
     "iopub.execute_input": "2022-09-09T05:04:17.405394Z",
     "iopub.status.busy": "2022-09-09T05:04:17.404753Z",
     "iopub.status.idle": "2022-09-09T05:04:18.884159Z",
     "shell.execute_reply": "2022-09-09T05:04:18.883059Z"
    },
    "papermill": {
     "duration": 1.511942,
     "end_time": "2022-09-09T05:04:18.887545",
     "exception": false,
     "start_time": "2022-09-09T05:04:17.375603",
     "status": "completed"
    },
    "tags": []
   },
   "outputs": [
    {
     "name": "stdout",
     "output_type": "stream",
     "text": [
      "/kaggle/input/tmdb-movie-metadata/tmdb_5000_movies.csv\n",
      "/kaggle/input/tmdb-movie-metadata/tmdb_5000_credits.csv\n",
      "/kaggle/input/googlenewsvectorsnegative300/GoogleNews-vectors-negative300.bin\n",
      "/kaggle/input/glove6b100dtxt/glove.6B.100d.txt\n",
      "/kaggle/input/nlpword2vecembeddingspretrained/glove.6B.200d.txt\n",
      "/kaggle/input/nlpword2vecembeddingspretrained/glove.6B.50d.txt\n",
      "/kaggle/input/nlpword2vecembeddingspretrained/glove.6B.300d.txt\n",
      "/kaggle/input/nlpword2vecembeddingspretrained/GoogleNews-vectors-negative300.bin\n",
      "/kaggle/input/nlpword2vecembeddingspretrained/glove.6B.100d.txt\n",
      "/kaggle/input/fasttext/wiki.simple.vec\n"
     ]
    }
   ],
   "source": [
    "# This Python 3 environment comes with many helpful analytics libraries installed\n",
    "# It is defined by the kaggle/python Docker image: https://github.com/kaggle/docker-python\n",
    "# For example, here's several helpful packages to load\n",
    "\n",
    "import numpy as np # linear algebra\n",
    "import pandas as pd # data processing, CSV file I/O (e.g. pd.read_csv)\n",
    "import seaborn as sns\n",
    "import matplotlib.pyplot as plt\n",
    "import ast\n",
    "from sklearn.model_selection import train_test_split\n",
    "\n",
    "# Input data files are available in the read-only \"../input/\" directory\n",
    "# For example, running this (by clicking run or pressing Shift+Enter) will list all files under the input directory\n",
    "\n",
    "import os\n",
    "for dirname, _, filenames in os.walk('/kaggle/input'):\n",
    "    for filename in filenames:\n",
    "        print(os.path.join(dirname, filename))\n",
    "\n",
    "# You can write up to 20GB to the current directory (/kaggle/working/) that gets preserved as output when you create a version using \"Save & Run All\" \n",
    "# You can also write temporary files to /kaggle/temp/, but they won't be saved outside of the current session"
   ]
  },
  {
   "cell_type": "code",
   "execution_count": 2,
   "id": "0dc56f12",
   "metadata": {
    "execution": {
     "iopub.execute_input": "2022-09-09T05:04:18.929136Z",
     "iopub.status.busy": "2022-09-09T05:04:18.928688Z",
     "iopub.status.idle": "2022-09-09T05:04:20.004300Z",
     "shell.execute_reply": "2022-09-09T05:04:20.002726Z"
    },
    "papermill": {
     "duration": 1.10115,
     "end_time": "2022-09-09T05:04:20.009257",
     "exception": false,
     "start_time": "2022-09-09T05:04:18.908107",
     "status": "completed"
    },
    "tags": []
   },
   "outputs": [
    {
     "name": "stderr",
     "output_type": "stream",
     "text": [
      "/opt/conda/lib/python3.7/site-packages/pandas/util/_decorators.py:311: SettingWithCopyWarning: \n",
      "A value is trying to be set on a copy of a slice from a DataFrame\n",
      "\n",
      "See the caveats in the documentation: https://pandas.pydata.org/pandas-docs/stable/user_guide/indexing.html#returning-a-view-versus-a-copy\n",
      "  return func(*args, **kwargs)\n"
     ]
    },
    {
     "data": {
      "text/html": [
       "<div>\n",
       "<style scoped>\n",
       "    .dataframe tbody tr th:only-of-type {\n",
       "        vertical-align: middle;\n",
       "    }\n",
       "\n",
       "    .dataframe tbody tr th {\n",
       "        vertical-align: top;\n",
       "    }\n",
       "\n",
       "    .dataframe thead th {\n",
       "        text-align: right;\n",
       "    }\n",
       "</style>\n",
       "<table border=\"1\" class=\"dataframe\">\n",
       "  <thead>\n",
       "    <tr style=\"text-align: right;\">\n",
       "      <th></th>\n",
       "      <th>id</th>\n",
       "      <th>title</th>\n",
       "      <th>keywords</th>\n",
       "      <th>genres</th>\n",
       "      <th>cast</th>\n",
       "      <th>popularity</th>\n",
       "      <th>vote_average</th>\n",
       "      <th>vote_count</th>\n",
       "    </tr>\n",
       "  </thead>\n",
       "  <tbody>\n",
       "    <tr>\n",
       "      <th>0</th>\n",
       "      <td>19995</td>\n",
       "      <td>Avatar</td>\n",
       "      <td>[{\"id\": 1463, \"name\": \"culture clash\"}, {\"id\":...</td>\n",
       "      <td>[{\"id\": 28, \"name\": \"Action\"}, {\"id\": 12, \"nam...</td>\n",
       "      <td>[{\"cast_id\": 242, \"character\": \"Jake Sully\", \"...</td>\n",
       "      <td>150.437577</td>\n",
       "      <td>7.2</td>\n",
       "      <td>11800</td>\n",
       "    </tr>\n",
       "    <tr>\n",
       "      <th>1</th>\n",
       "      <td>285</td>\n",
       "      <td>Pirates of the Caribbean: At World's End</td>\n",
       "      <td>[{\"id\": 270, \"name\": \"ocean\"}, {\"id\": 726, \"na...</td>\n",
       "      <td>[{\"id\": 12, \"name\": \"Adventure\"}, {\"id\": 14, \"...</td>\n",
       "      <td>[{\"cast_id\": 4, \"character\": \"Captain Jack Spa...</td>\n",
       "      <td>139.082615</td>\n",
       "      <td>6.9</td>\n",
       "      <td>4500</td>\n",
       "    </tr>\n",
       "    <tr>\n",
       "      <th>2</th>\n",
       "      <td>206647</td>\n",
       "      <td>Spectre</td>\n",
       "      <td>[{\"id\": 470, \"name\": \"spy\"}, {\"id\": 818, \"name...</td>\n",
       "      <td>[{\"id\": 28, \"name\": \"Action\"}, {\"id\": 12, \"nam...</td>\n",
       "      <td>[{\"cast_id\": 1, \"character\": \"James Bond\", \"cr...</td>\n",
       "      <td>107.376788</td>\n",
       "      <td>6.3</td>\n",
       "      <td>4466</td>\n",
       "    </tr>\n",
       "    <tr>\n",
       "      <th>3</th>\n",
       "      <td>49026</td>\n",
       "      <td>The Dark Knight Rises</td>\n",
       "      <td>[{\"id\": 849, \"name\": \"dc comics\"}, {\"id\": 853,...</td>\n",
       "      <td>[{\"id\": 28, \"name\": \"Action\"}, {\"id\": 80, \"nam...</td>\n",
       "      <td>[{\"cast_id\": 2, \"character\": \"Bruce Wayne / Ba...</td>\n",
       "      <td>112.312950</td>\n",
       "      <td>7.6</td>\n",
       "      <td>9106</td>\n",
       "    </tr>\n",
       "    <tr>\n",
       "      <th>4</th>\n",
       "      <td>49529</td>\n",
       "      <td>John Carter</td>\n",
       "      <td>[{\"id\": 818, \"name\": \"based on novel\"}, {\"id\":...</td>\n",
       "      <td>[{\"id\": 28, \"name\": \"Action\"}, {\"id\": 12, \"nam...</td>\n",
       "      <td>[{\"cast_id\": 5, \"character\": \"John Carter\", \"c...</td>\n",
       "      <td>43.926995</td>\n",
       "      <td>6.1</td>\n",
       "      <td>2124</td>\n",
       "    </tr>\n",
       "  </tbody>\n",
       "</table>\n",
       "</div>"
      ],
      "text/plain": [
       "       id                                     title  \\\n",
       "0   19995                                    Avatar   \n",
       "1     285  Pirates of the Caribbean: At World's End   \n",
       "2  206647                                   Spectre   \n",
       "3   49026                     The Dark Knight Rises   \n",
       "4   49529                               John Carter   \n",
       "\n",
       "                                            keywords  \\\n",
       "0  [{\"id\": 1463, \"name\": \"culture clash\"}, {\"id\":...   \n",
       "1  [{\"id\": 270, \"name\": \"ocean\"}, {\"id\": 726, \"na...   \n",
       "2  [{\"id\": 470, \"name\": \"spy\"}, {\"id\": 818, \"name...   \n",
       "3  [{\"id\": 849, \"name\": \"dc comics\"}, {\"id\": 853,...   \n",
       "4  [{\"id\": 818, \"name\": \"based on novel\"}, {\"id\":...   \n",
       "\n",
       "                                              genres  \\\n",
       "0  [{\"id\": 28, \"name\": \"Action\"}, {\"id\": 12, \"nam...   \n",
       "1  [{\"id\": 12, \"name\": \"Adventure\"}, {\"id\": 14, \"...   \n",
       "2  [{\"id\": 28, \"name\": \"Action\"}, {\"id\": 12, \"nam...   \n",
       "3  [{\"id\": 28, \"name\": \"Action\"}, {\"id\": 80, \"nam...   \n",
       "4  [{\"id\": 28, \"name\": \"Action\"}, {\"id\": 12, \"nam...   \n",
       "\n",
       "                                                cast  popularity  \\\n",
       "0  [{\"cast_id\": 242, \"character\": \"Jake Sully\", \"...  150.437577   \n",
       "1  [{\"cast_id\": 4, \"character\": \"Captain Jack Spa...  139.082615   \n",
       "2  [{\"cast_id\": 1, \"character\": \"James Bond\", \"cr...  107.376788   \n",
       "3  [{\"cast_id\": 2, \"character\": \"Bruce Wayne / Ba...  112.312950   \n",
       "4  [{\"cast_id\": 5, \"character\": \"John Carter\", \"c...   43.926995   \n",
       "\n",
       "   vote_average  vote_count  \n",
       "0           7.2       11800  \n",
       "1           6.9        4500  \n",
       "2           6.3        4466  \n",
       "3           7.6        9106  \n",
       "4           6.1        2124  "
      ]
     },
     "execution_count": 2,
     "metadata": {},
     "output_type": "execute_result"
    }
   ],
   "source": [
    "# Data import and transformation\n",
    "\n",
    "movies = pd.read_csv('../input/tmdb-movie-metadata/tmdb_5000_movies.csv')\n",
    "credits = pd.read_csv('../input/tmdb-movie-metadata/tmdb_5000_credits.csv')\n",
    "movies = movies.merge(credits,on='title')\n",
    "\n",
    "\n",
    "movies_feature_set = movies[['id','title','keywords','genres','cast','popularity','vote_average','vote_count']]\n",
    "movies_feature_set.dropna(inplace=True)\n",
    "movies_feature_set.head()\n",
    "\n"
   ]
  },
  {
   "cell_type": "code",
   "execution_count": 3,
   "id": "f14fdeee",
   "metadata": {
    "execution": {
     "iopub.execute_input": "2022-09-09T05:04:20.050240Z",
     "iopub.status.busy": "2022-09-09T05:04:20.049318Z",
     "iopub.status.idle": "2022-09-09T05:04:20.059740Z",
     "shell.execute_reply": "2022-09-09T05:04:20.058559Z"
    },
    "papermill": {
     "duration": 0.033545,
     "end_time": "2022-09-09T05:04:20.062378",
     "exception": false,
     "start_time": "2022-09-09T05:04:20.028833",
     "status": "completed"
    },
    "tags": []
   },
   "outputs": [
    {
     "data": {
      "text/plain": [
       "'[{\"id\": 28, \"name\": \"Action\"}, {\"id\": 12, \"name\": \"Adventure\"}, {\"id\": 14, \"name\": \"Fantasy\"}, {\"id\": 878, \"name\": \"Science Fiction\"}]'"
      ]
     },
     "execution_count": 3,
     "metadata": {},
     "output_type": "execute_result"
    }
   ],
   "source": [
    "movies_feature_set['genres'][0]"
   ]
  },
  {
   "cell_type": "code",
   "execution_count": 4,
   "id": "c04a4da3",
   "metadata": {
    "execution": {
     "iopub.execute_input": "2022-09-09T05:04:20.103374Z",
     "iopub.status.busy": "2022-09-09T05:04:20.102944Z",
     "iopub.status.idle": "2022-09-09T05:04:20.432151Z",
     "shell.execute_reply": "2022-09-09T05:04:20.431034Z"
    },
    "papermill": {
     "duration": 0.35264,
     "end_time": "2022-09-09T05:04:20.434737",
     "exception": false,
     "start_time": "2022-09-09T05:04:20.082097",
     "status": "completed"
    },
    "tags": []
   },
   "outputs": [
    {
     "data": {
      "image/png": "[encoded data removed]",
      "text/plain": [
       "<Figure size 720x720 with 2 Axes>"
      ]
     },
     "metadata": {
      "needs_background": "light"
     },
     "output_type": "display_data"
    }
   ],
   "source": [
    "f,ax = plt.subplots(figsize = (10,10))\n",
    "sns.heatmap(movies_feature_set.corr(), annot = True, linewidths=.5, fmt = '.1f', ax = ax)\n",
    "plt.show()"
   ]
  },
  {
   "cell_type": "code",
   "execution_count": 5,
   "id": "a8e5105b",
   "metadata": {
    "execution": {
     "iopub.execute_input": "2022-09-09T05:04:20.476501Z",
     "iopub.status.busy": "2022-09-09T05:04:20.476099Z",
     "iopub.status.idle": "2022-09-09T05:04:20.721129Z",
     "shell.execute_reply": "2022-09-09T05:04:20.719661Z"
    },
    "papermill": {
     "duration": 0.269131,
     "end_time": "2022-09-09T05:04:20.723579",
     "exception": false,
     "start_time": "2022-09-09T05:04:20.454448",
     "status": "completed"
    },
    "tags": []
   },
   "outputs": [
    {
     "data": {
      "image/png": "[encoded data removed]",
      "text/plain": [
       "<Figure size 432x288 with 1 Axes>"
      ]
     },
     "metadata": {
      "needs_background": "light"
     },
     "output_type": "display_data"
    }
   ],
   "source": [
    "movies.plot(kind='scatter', x='vote_average', y='budget', alpha=.5, color='r')\n",
    "plt.xlabel('vote_average')\n",
    "plt.ylabel('budget')\n",
    "plt.title('Scatter Plot')\n",
    "plt.show()"
   ]
  },
  {
   "cell_type": "code",
   "execution_count": 6,
   "id": "2782b452",
   "metadata": {
    "execution": {
     "iopub.execute_input": "2022-09-09T05:04:20.766155Z",
     "iopub.status.busy": "2022-09-09T05:04:20.765097Z",
     "iopub.status.idle": "2022-09-09T05:04:21.046304Z",
     "shell.execute_reply": "2022-09-09T05:04:21.044971Z"
    },
    "papermill": {
     "duration": 0.30558,
     "end_time": "2022-09-09T05:04:21.049294",
     "exception": false,
     "start_time": "2022-09-09T05:04:20.743714",
     "status": "completed"
    },
    "tags": []
   },
   "outputs": [
    {
     "data": {
      "image/png": "[encoded data removed]",
      "text/plain": [
       "<Figure size 432x288 with 1 Axes>"
      ]
     },
     "metadata": {
      "needs_background": "light"
     },
     "output_type": "display_data"
    }
   ],
   "source": [
    "sorted_movies = movies_feature_set.sort_values('popularity' , ascending=False)\n",
    "sorted_movies.head(3)\n",
    "\n",
    "def horizontal_bar():\n",
    "  plt.title(\"Movie With Popularity\")\n",
    "  plt.barh(sorted_movies['title'].head(20),sorted_movies['popularity'].head(20), align='center',\n",
    "          color='skyblue')\n",
    "  plt.gca().invert_yaxis()\n",
    "  plt.xlabel(\"Popularity\",fontsize=10)\n",
    "  plt.title(\"Popular Movies\")\n",
    "    \n",
    "horizontal_bar()"
   ]
  },
  {
   "cell_type": "code",
   "execution_count": 7,
   "id": "b10dc7e4",
   "metadata": {
    "execution": {
     "iopub.execute_input": "2022-09-09T05:04:21.093529Z",
     "iopub.status.busy": "2022-09-09T05:04:21.092499Z",
     "iopub.status.idle": "2022-09-09T05:04:25.039215Z",
     "shell.execute_reply": "2022-09-09T05:04:25.037686Z"
    },
    "papermill": {
     "duration": 3.971577,
     "end_time": "2022-09-09T05:04:25.042098",
     "exception": false,
     "start_time": "2022-09-09T05:04:21.070521",
     "status": "completed"
    },
    "tags": []
   },
   "outputs": [
    {
     "name": "stderr",
     "output_type": "stream",
     "text": [
      "/opt/conda/lib/python3.7/site-packages/ipykernel_launcher.py:8: SettingWithCopyWarning: \n",
      "A value is trying to be set on a copy of a slice from a DataFrame.\n",
      "Try using .loc[row_indexer,col_indexer] = value instead\n",
      "\n",
      "See the caveats in the documentation: https://pandas.pydata.org/pandas-docs/stable/user_guide/indexing.html#returning-a-view-versus-a-copy\n",
      "  \n",
      "/opt/conda/lib/python3.7/site-packages/ipykernel_launcher.py:20: SettingWithCopyWarning: \n",
      "A value is trying to be set on a copy of a slice from a DataFrame.\n",
      "Try using .loc[row_indexer,col_indexer] = value instead\n",
      "\n",
      "See the caveats in the documentation: https://pandas.pydata.org/pandas-docs/stable/user_guide/indexing.html#returning-a-view-versus-a-copy\n",
      "/opt/conda/lib/python3.7/site-packages/ipykernel_launcher.py:30: SettingWithCopyWarning: \n",
      "A value is trying to be set on a copy of a slice from a DataFrame.\n",
      "Try using .loc[row_indexer,col_indexer] = value instead\n",
      "\n",
      "See the caveats in the documentation: https://pandas.pydata.org/pandas-docs/stable/user_guide/indexing.html#returning-a-view-versus-a-copy\n",
      "/opt/conda/lib/python3.7/site-packages/ipykernel_launcher.py:31: SettingWithCopyWarning: \n",
      "A value is trying to be set on a copy of a slice from a DataFrame.\n",
      "Try using .loc[row_indexer,col_indexer] = value instead\n",
      "\n",
      "See the caveats in the documentation: https://pandas.pydata.org/pandas-docs/stable/user_guide/indexing.html#returning-a-view-versus-a-copy\n"
     ]
    },
    {
     "data": {
      "text/html": [
       "<div>\n",
       "<style scoped>\n",
       "    .dataframe tbody tr th:only-of-type {\n",
       "        vertical-align: middle;\n",
       "    }\n",
       "\n",
       "    .dataframe tbody tr th {\n",
       "        vertical-align: top;\n",
       "    }\n",
       "\n",
       "    .dataframe thead th {\n",
       "        text-align: right;\n",
       "    }\n",
       "</style>\n",
       "<table border=\"1\" class=\"dataframe\">\n",
       "  <thead>\n",
       "    <tr style=\"text-align: right;\">\n",
       "      <th></th>\n",
       "      <th>id</th>\n",
       "      <th>title</th>\n",
       "      <th>tags</th>\n",
       "    </tr>\n",
       "  </thead>\n",
       "  <tbody>\n",
       "    <tr>\n",
       "      <th>0</th>\n",
       "      <td>19995</td>\n",
       "      <td>Avatar</td>\n",
       "      <td>[culture clash, future, space war, Action, Adv...</td>\n",
       "    </tr>\n",
       "    <tr>\n",
       "      <th>1</th>\n",
       "      <td>285</td>\n",
       "      <td>Pirates of the Caribbean: At World's End</td>\n",
       "      <td>[ocean, drug abuse, exotic island, Adventure, ...</td>\n",
       "    </tr>\n",
       "    <tr>\n",
       "      <th>2</th>\n",
       "      <td>206647</td>\n",
       "      <td>Spectre</td>\n",
       "      <td>[spy, based on novel, secret agent, Action, Ad...</td>\n",
       "    </tr>\n",
       "    <tr>\n",
       "      <th>3</th>\n",
       "      <td>49026</td>\n",
       "      <td>The Dark Knight Rises</td>\n",
       "      <td>[dc comics, crime fighter, terrorist, Action, ...</td>\n",
       "    </tr>\n",
       "    <tr>\n",
       "      <th>4</th>\n",
       "      <td>49529</td>\n",
       "      <td>John Carter</td>\n",
       "      <td>[based on novel, mars, medallion, Action, Adve...</td>\n",
       "    </tr>\n",
       "  </tbody>\n",
       "</table>\n",
       "</div>"
      ],
      "text/plain": [
       "       id                                     title  \\\n",
       "0   19995                                    Avatar   \n",
       "1     285  Pirates of the Caribbean: At World's End   \n",
       "2  206647                                   Spectre   \n",
       "3   49026                     The Dark Knight Rises   \n",
       "4   49529                               John Carter   \n",
       "\n",
       "                                                tags  \n",
       "0  [culture clash, future, space war, Action, Adv...  \n",
       "1  [ocean, drug abuse, exotic island, Adventure, ...  \n",
       "2  [spy, based on novel, secret agent, Action, Ad...  \n",
       "3  [dc comics, crime fighter, terrorist, Action, ...  \n",
       "4  [based on novel, mars, medallion, Action, Adve...  "
      ]
     },
     "execution_count": 7,
     "metadata": {},
     "output_type": "execute_result"
    }
   ],
   "source": [
    "\n",
    "\n",
    "def convert(text):\n",
    "    arr = []\n",
    "    for i in ast.literal_eval(text):\n",
    "        arr.append(i['name'])\n",
    "    \n",
    "    return arr\n",
    "\n",
    "movies_feature_set['genres'] = movies['genres'].apply(convert)\n",
    "\n",
    "\n",
    "def convert_keyword_top3(text):\n",
    "    arr= []\n",
    "    count = 0\n",
    "    for i in ast.literal_eval(text):\n",
    "        if count<3:\n",
    "            arr.append(i['name'])\n",
    "            count+=1\n",
    "    return arr   \n",
    "\n",
    "movies_feature_set['keywords'] = movies['keywords'].apply(convert_keyword_top3)\n",
    "\n",
    "def convert_cast_top2(text):\n",
    "    arr= []\n",
    "    count = 0\n",
    "    for i in ast.literal_eval(text):\n",
    "        if count<2:\n",
    "            arr.append(i['name'])\n",
    "            count+=1\n",
    "    return arr        \n",
    "movies_feature_set['cast'] = movies['cast'].apply(convert_cast_top2)\n",
    "movies_feature_set['tags'] = movies_feature_set['keywords'] + movies_feature_set['genres'] + movies_feature_set['cast']\n",
    "new_df = movies_feature_set[['id','title','tags']]\n",
    "new_df.head(5)\n",
    "\n",
    "\n"
   ]
  },
  {
   "cell_type": "code",
   "execution_count": 8,
   "id": "5dcaf0bb",
   "metadata": {
    "execution": {
     "iopub.execute_input": "2022-09-09T05:04:25.087463Z",
     "iopub.status.busy": "2022-09-09T05:04:25.087061Z",
     "iopub.status.idle": "2022-09-09T05:04:25.104873Z",
     "shell.execute_reply": "2022-09-09T05:04:25.103147Z"
    },
    "papermill": {
     "duration": 0.043973,
     "end_time": "2022-09-09T05:04:25.108159",
     "exception": false,
     "start_time": "2022-09-09T05:04:25.064186",
     "status": "completed"
    },
    "tags": []
   },
   "outputs": [
    {
     "name": "stderr",
     "output_type": "stream",
     "text": [
      "/opt/conda/lib/python3.7/site-packages/ipykernel_launcher.py:3: SettingWithCopyWarning: \n",
      "A value is trying to be set on a copy of a slice from a DataFrame.\n",
      "Try using .loc[row_indexer,col_indexer] = value instead\n",
      "\n",
      "See the caveats in the documentation: https://pandas.pydata.org/pandas-docs/stable/user_guide/indexing.html#returning-a-view-versus-a-copy\n",
      "  This is separate from the ipykernel package so we can avoid doing imports until\n"
     ]
    },
    {
     "data": {
      "text/html": [
       "<div>\n",
       "<style scoped>\n",
       "    .dataframe tbody tr th:only-of-type {\n",
       "        vertical-align: middle;\n",
       "    }\n",
       "\n",
       "    .dataframe tbody tr th {\n",
       "        vertical-align: top;\n",
       "    }\n",
       "\n",
       "    .dataframe thead th {\n",
       "        text-align: right;\n",
       "    }\n",
       "</style>\n",
       "<table border=\"1\" class=\"dataframe\">\n",
       "  <thead>\n",
       "    <tr style=\"text-align: right;\">\n",
       "      <th></th>\n",
       "      <th>id</th>\n",
       "      <th>title</th>\n",
       "      <th>tags</th>\n",
       "    </tr>\n",
       "  </thead>\n",
       "  <tbody>\n",
       "    <tr>\n",
       "      <th>0</th>\n",
       "      <td>19995</td>\n",
       "      <td>Avatar</td>\n",
       "      <td>culture clash future space war Action Adventur...</td>\n",
       "    </tr>\n",
       "    <tr>\n",
       "      <th>1</th>\n",
       "      <td>285</td>\n",
       "      <td>Pirates of the Caribbean: At World's End</td>\n",
       "      <td>ocean drug abuse exotic island Adventure Fanta...</td>\n",
       "    </tr>\n",
       "    <tr>\n",
       "      <th>2</th>\n",
       "      <td>206647</td>\n",
       "      <td>Spectre</td>\n",
       "      <td>spy based on novel secret agent Action Adventu...</td>\n",
       "    </tr>\n",
       "  </tbody>\n",
       "</table>\n",
       "</div>"
      ],
      "text/plain": [
       "       id                                     title  \\\n",
       "0   19995                                    Avatar   \n",
       "1     285  Pirates of the Caribbean: At World's End   \n",
       "2  206647                                   Spectre   \n",
       "\n",
       "                                                tags  \n",
       "0  culture clash future space war Action Adventur...  \n",
       "1  ocean drug abuse exotic island Adventure Fanta...  \n",
       "2  spy based on novel secret agent Action Adventu...  "
      ]
     },
     "execution_count": 8,
     "metadata": {},
     "output_type": "execute_result"
    }
   ],
   "source": [
    "# Convert to tags to string format\n",
    "\n",
    "new_df['tags'] = movies_feature_set['tags'].apply(lambda x: \" \".join(x))\n",
    "new_df.head(3)\n"
   ]
  },
  {
   "cell_type": "code",
   "execution_count": 9,
   "id": "cfd61b3f",
   "metadata": {
    "execution": {
     "iopub.execute_input": "2022-09-09T05:04:25.153661Z",
     "iopub.status.busy": "2022-09-09T05:04:25.152822Z",
     "iopub.status.idle": "2022-09-09T05:04:25.160737Z",
     "shell.execute_reply": "2022-09-09T05:04:25.159498Z"
    },
    "papermill": {
     "duration": 0.033158,
     "end_time": "2022-09-09T05:04:25.163364",
     "exception": false,
     "start_time": "2022-09-09T05:04:25.130206",
     "status": "completed"
    },
    "tags": []
   },
   "outputs": [
    {
     "data": {
      "text/plain": [
       "'culture clash future space war Action Adventure Fantasy Science Fiction Sam Worthington Zoe Saldana'"
      ]
     },
     "execution_count": 9,
     "metadata": {},
     "output_type": "execute_result"
    }
   ],
   "source": [
    "new_df['tags'][0]"
   ]
  },
  {
   "cell_type": "code",
   "execution_count": 10,
   "id": "d0518908",
   "metadata": {
    "execution": {
     "iopub.execute_input": "2022-09-09T05:04:25.208681Z",
     "iopub.status.busy": "2022-09-09T05:04:25.207797Z",
     "iopub.status.idle": "2022-09-09T05:04:25.322915Z",
     "shell.execute_reply": "2022-09-09T05:04:25.321535Z"
    },
    "papermill": {
     "duration": 0.14097,
     "end_time": "2022-09-09T05:04:25.325728",
     "exception": false,
     "start_time": "2022-09-09T05:04:25.184758",
     "status": "completed"
    },
    "tags": []
   },
   "outputs": [
    {
     "name": "stderr",
     "output_type": "stream",
     "text": [
      "/opt/conda/lib/python3.7/site-packages/ipykernel_launcher.py:5: SettingWithCopyWarning: \n",
      "A value is trying to be set on a copy of a slice from a DataFrame.\n",
      "Try using .loc[row_indexer,col_indexer] = value instead\n",
      "\n",
      "See the caveats in the documentation: https://pandas.pydata.org/pandas-docs/stable/user_guide/indexing.html#returning-a-view-versus-a-copy\n",
      "  \"\"\"\n"
     ]
    },
    {
     "data": {
      "text/plain": [
       "(4809, 7526)"
      ]
     },
     "execution_count": 10,
     "metadata": {},
     "output_type": "execute_result"
    }
   ],
   "source": [
    "from sklearn.feature_extraction.text import TfidfVectorizer\n",
    "\n",
    "# remove commmon stop words from tags column \n",
    "tfidf = TfidfVectorizer(stop_words='english')\n",
    "new_df['overview'] = new_df['tags'].fillna('')\n",
    "tfidf_matrix = tfidf.fit_transform(new_df['tags'])\n",
    "\n",
    "tfidf_matrix.shape"
   ]
  },
  {
   "cell_type": "code",
   "execution_count": 11,
   "id": "f52c91c5",
   "metadata": {
    "execution": {
     "iopub.execute_input": "2022-09-09T05:04:25.372510Z",
     "iopub.status.busy": "2022-09-09T05:04:25.372067Z",
     "iopub.status.idle": "2022-09-09T05:04:26.018345Z",
     "shell.execute_reply": "2022-09-09T05:04:26.017154Z"
    },
    "papermill": {
     "duration": 0.672129,
     "end_time": "2022-09-09T05:04:26.021194",
     "exception": false,
     "start_time": "2022-09-09T05:04:25.349065",
     "status": "completed"
    },
    "tags": []
   },
   "outputs": [
    {
     "data": {
      "text/plain": [
       "title\n",
       "Avatar                                         0\n",
       "Pirates of the Caribbean: At World's End       1\n",
       "Spectre                                        2\n",
       "The Dark Knight Rises                          3\n",
       "John Carter                                    4\n",
       "                                            ... \n",
       "El Mariachi                                 4804\n",
       "Newlyweds                                   4805\n",
       "Signed, Sealed, Delivered                   4806\n",
       "Shanghai Calling                            4807\n",
       "My Date with Drew                           4808\n",
       "Length: 4809, dtype: int64"
      ]
     },
     "execution_count": 11,
     "metadata": {},
     "output_type": "execute_result"
    }
   ],
   "source": [
    "from sklearn.metrics.pairwise import linear_kernel\n",
    "\n",
    "# cosine similarity for matrix factorization \n",
    "cosine_sim = linear_kernel(tfidf_matrix, tfidf_matrix)\n",
    "indices = pd.Series(new_df.index, index=new_df['title']).drop_duplicates()\n",
    "\n",
    "indices"
   ]
  },
  {
   "cell_type": "code",
   "execution_count": 12,
   "id": "dcfe5d2b",
   "metadata": {
    "execution": {
     "iopub.execute_input": "2022-09-09T05:04:26.069717Z",
     "iopub.status.busy": "2022-09-09T05:04:26.069110Z",
     "iopub.status.idle": "2022-09-09T05:04:26.075292Z",
     "shell.execute_reply": "2022-09-09T05:04:26.074368Z"
    },
    "papermill": {
     "duration": 0.032921,
     "end_time": "2022-09-09T05:04:26.077605",
     "exception": false,
     "start_time": "2022-09-09T05:04:26.044684",
     "status": "completed"
    },
    "tags": []
   },
   "outputs": [],
   "source": [
    "# Function that takes in movie title as input and outputs most similar movies\n",
    "def movie_recommendations(title, cosine_sim=cosine_sim):\n",
    "    \n",
    "    idx = indices[title]\n",
    "\n",
    "    # pairwise similarity scores of all movies with that movie\n",
    "    sim_scores = list(enumerate(cosine_sim[idx]))\n",
    "\n",
    "    # Sorting of movies based on similarity score\n",
    "    sim_scores = sorted(sim_scores, key=lambda x: x[1], reverse=True)\n",
    "\n",
    "    # Get the scores of the 5 most similar movies\n",
    "    sim_scores = sim_scores[1:11]\n",
    "\n",
    "    movie_indices = [i[0] for i in sim_scores]\n",
    "\n",
    "    # Return the top 5 most similar movies\n",
    "    return new_df['title'].iloc[movie_indices]\n",
    "\n",
    "\n"
   ]
  },
  {
   "cell_type": "code",
   "execution_count": 13,
   "id": "51f68ee2",
   "metadata": {
    "execution": {
     "iopub.execute_input": "2022-09-09T05:04:26.123690Z",
     "iopub.status.busy": "2022-09-09T05:04:26.122915Z",
     "iopub.status.idle": "2022-09-09T05:04:26.135152Z",
     "shell.execute_reply": "2022-09-09T05:04:26.133905Z"
    },
    "papermill": {
     "duration": 0.038033,
     "end_time": "2022-09-09T05:04:26.137961",
     "exception": false,
     "start_time": "2022-09-09T05:04:26.099928",
     "status": "completed"
    },
    "tags": []
   },
   "outputs": [
    {
     "data": {
      "text/plain": [
       "870                          Superman II\n",
       "813                             Superman\n",
       "14                          Man of Steel\n",
       "1299                        Superman III\n",
       "2439    Superman IV: The Quest for Peace\n",
       "2270            Dylan Dog: Dead of Night\n",
       "41                         Green Lantern\n",
       "1364                              Batman\n",
       "72                         Suicide Squad\n",
       "1365                              Batman\n",
       "Name: title, dtype: object"
      ]
     },
     "execution_count": 13,
     "metadata": {},
     "output_type": "execute_result"
    }
   ],
   "source": [
    "movie_recommendations('Superman Returns')"
   ]
  },
  {
   "cell_type": "markdown",
   "id": "2bd93238",
   "metadata": {
    "papermill": {
     "duration": 0.021636,
     "end_time": "2022-09-09T05:04:26.181954",
     "exception": false,
     "start_time": "2022-09-09T05:04:26.160318",
     "status": "completed"
    },
    "tags": []
   },
   "source": [
    "Movie Genre Prediction Using Natural Language Processing (NLP)"
   ]
  },
  {
   "cell_type": "code",
   "execution_count": 14,
   "id": "48745c45",
   "metadata": {
    "execution": {
     "iopub.execute_input": "2022-09-09T05:04:26.228145Z",
     "iopub.status.busy": "2022-09-09T05:04:26.227636Z",
     "iopub.status.idle": "2022-09-09T05:04:26.747739Z",
     "shell.execute_reply": "2022-09-09T05:04:26.746417Z"
    },
    "papermill": {
     "duration": 0.546128,
     "end_time": "2022-09-09T05:04:26.750167",
     "exception": false,
     "start_time": "2022-09-09T05:04:26.204039",
     "status": "completed"
    },
    "tags": []
   },
   "outputs": [
    {
     "name": "stderr",
     "output_type": "stream",
     "text": [
      "/opt/conda/lib/python3.7/site-packages/pandas/util/_decorators.py:311: SettingWithCopyWarning: \n",
      "A value is trying to be set on a copy of a slice from a DataFrame\n",
      "\n",
      "See the caveats in the documentation: https://pandas.pydata.org/pandas-docs/stable/user_guide/indexing.html#returning-a-view-versus-a-copy\n",
      "  return func(*args, **kwargs)\n"
     ]
    },
    {
     "data": {
      "text/html": [
       "<div>\n",
       "<style scoped>\n",
       "    .dataframe tbody tr th:only-of-type {\n",
       "        vertical-align: middle;\n",
       "    }\n",
       "\n",
       "    .dataframe tbody tr th {\n",
       "        vertical-align: top;\n",
       "    }\n",
       "\n",
       "    .dataframe thead th {\n",
       "        text-align: right;\n",
       "    }\n",
       "</style>\n",
       "<table border=\"1\" class=\"dataframe\">\n",
       "  <thead>\n",
       "    <tr style=\"text-align: right;\">\n",
       "      <th></th>\n",
       "      <th>title</th>\n",
       "      <th>keywords</th>\n",
       "      <th>cast</th>\n",
       "      <th>popularity</th>\n",
       "      <th>overview</th>\n",
       "      <th>genres</th>\n",
       "    </tr>\n",
       "  </thead>\n",
       "  <tbody>\n",
       "    <tr>\n",
       "      <th>0</th>\n",
       "      <td>Avatar</td>\n",
       "      <td>[{\"id\": 1463, \"name\": \"culture clash\"}, {\"id\":...</td>\n",
       "      <td>[{\"cast_id\": 242, \"character\": \"Jake Sully\", \"...</td>\n",
       "      <td>150.437577</td>\n",
       "      <td>In the 22nd century, a paraplegic Marine is di...</td>\n",
       "      <td>[{\"id\": 28, \"name\": \"Action\"}, {\"id\": 12, \"nam...</td>\n",
       "    </tr>\n",
       "    <tr>\n",
       "      <th>1</th>\n",
       "      <td>Pirates of the Caribbean: At World's End</td>\n",
       "      <td>[{\"id\": 270, \"name\": \"ocean\"}, {\"id\": 726, \"na...</td>\n",
       "      <td>[{\"cast_id\": 4, \"character\": \"Captain Jack Spa...</td>\n",
       "      <td>139.082615</td>\n",
       "      <td>Captain Barbossa, long believed to be dead, ha...</td>\n",
       "      <td>[{\"id\": 12, \"name\": \"Adventure\"}, {\"id\": 14, \"...</td>\n",
       "    </tr>\n",
       "    <tr>\n",
       "      <th>2</th>\n",
       "      <td>Spectre</td>\n",
       "      <td>[{\"id\": 470, \"name\": \"spy\"}, {\"id\": 818, \"name...</td>\n",
       "      <td>[{\"cast_id\": 1, \"character\": \"James Bond\", \"cr...</td>\n",
       "      <td>107.376788</td>\n",
       "      <td>A cryptic message from Bond’s past sends him o...</td>\n",
       "      <td>[{\"id\": 28, \"name\": \"Action\"}, {\"id\": 12, \"nam...</td>\n",
       "    </tr>\n",
       "    <tr>\n",
       "      <th>3</th>\n",
       "      <td>The Dark Knight Rises</td>\n",
       "      <td>[{\"id\": 849, \"name\": \"dc comics\"}, {\"id\": 853,...</td>\n",
       "      <td>[{\"cast_id\": 2, \"character\": \"Bruce Wayne / Ba...</td>\n",
       "      <td>112.312950</td>\n",
       "      <td>Following the death of District Attorney Harve...</td>\n",
       "      <td>[{\"id\": 28, \"name\": \"Action\"}, {\"id\": 80, \"nam...</td>\n",
       "    </tr>\n",
       "    <tr>\n",
       "      <th>4</th>\n",
       "      <td>John Carter</td>\n",
       "      <td>[{\"id\": 818, \"name\": \"based on novel\"}, {\"id\":...</td>\n",
       "      <td>[{\"cast_id\": 5, \"character\": \"John Carter\", \"c...</td>\n",
       "      <td>43.926995</td>\n",
       "      <td>John Carter is a war-weary, former military ca...</td>\n",
       "      <td>[{\"id\": 28, \"name\": \"Action\"}, {\"id\": 12, \"nam...</td>\n",
       "    </tr>\n",
       "  </tbody>\n",
       "</table>\n",
       "</div>"
      ],
      "text/plain": [
       "                                      title  \\\n",
       "0                                    Avatar   \n",
       "1  Pirates of the Caribbean: At World's End   \n",
       "2                                   Spectre   \n",
       "3                     The Dark Knight Rises   \n",
       "4                               John Carter   \n",
       "\n",
       "                                            keywords  \\\n",
       "0  [{\"id\": 1463, \"name\": \"culture clash\"}, {\"id\":...   \n",
       "1  [{\"id\": 270, \"name\": \"ocean\"}, {\"id\": 726, \"na...   \n",
       "2  [{\"id\": 470, \"name\": \"spy\"}, {\"id\": 818, \"name...   \n",
       "3  [{\"id\": 849, \"name\": \"dc comics\"}, {\"id\": 853,...   \n",
       "4  [{\"id\": 818, \"name\": \"based on novel\"}, {\"id\":...   \n",
       "\n",
       "                                                cast  popularity  \\\n",
       "0  [{\"cast_id\": 242, \"character\": \"Jake Sully\", \"...  150.437577   \n",
       "1  [{\"cast_id\": 4, \"character\": \"Captain Jack Spa...  139.082615   \n",
       "2  [{\"cast_id\": 1, \"character\": \"James Bond\", \"cr...  107.376788   \n",
       "3  [{\"cast_id\": 2, \"character\": \"Bruce Wayne / Ba...  112.312950   \n",
       "4  [{\"cast_id\": 5, \"character\": \"John Carter\", \"c...   43.926995   \n",
       "\n",
       "                                            overview  \\\n",
       "0  In the 22nd century, a paraplegic Marine is di...   \n",
       "1  Captain Barbossa, long believed to be dead, ha...   \n",
       "2  A cryptic message from Bond’s past sends him o...   \n",
       "3  Following the death of District Attorney Harve...   \n",
       "4  John Carter is a war-weary, former military ca...   \n",
       "\n",
       "                                              genres  \n",
       "0  [{\"id\": 28, \"name\": \"Action\"}, {\"id\": 12, \"nam...  \n",
       "1  [{\"id\": 12, \"name\": \"Adventure\"}, {\"id\": 14, \"...  \n",
       "2  [{\"id\": 28, \"name\": \"Action\"}, {\"id\": 12, \"nam...  \n",
       "3  [{\"id\": 28, \"name\": \"Action\"}, {\"id\": 80, \"nam...  \n",
       "4  [{\"id\": 28, \"name\": \"Action\"}, {\"id\": 12, \"nam...  "
      ]
     },
     "execution_count": 14,
     "metadata": {},
     "output_type": "execute_result"
    }
   ],
   "source": [
    "movies_v2 = pd.read_csv('../input/tmdb-movie-metadata/tmdb_5000_movies.csv')\n",
    "credits_v2 = pd.read_csv('../input/tmdb-movie-metadata/tmdb_5000_credits.csv')\n",
    "movies_v2 = movies_v2.merge(credits_v2,on='title')\n",
    "\n",
    "\n",
    "movies_clean = movies_v2[['title','keywords','cast','popularity','overview','genres']]\n",
    "movies_clean.dropna(inplace=True)\n",
    "movies_clean.head(5)"
   ]
  },
  {
   "cell_type": "code",
   "execution_count": 15,
   "id": "57fe897c",
   "metadata": {
    "execution": {
     "iopub.execute_input": "2022-09-09T05:04:26.798630Z",
     "iopub.status.busy": "2022-09-09T05:04:26.798203Z",
     "iopub.status.idle": "2022-09-09T05:04:26.806475Z",
     "shell.execute_reply": "2022-09-09T05:04:26.805459Z"
    },
    "papermill": {
     "duration": 0.035697,
     "end_time": "2022-09-09T05:04:26.809090",
     "exception": false,
     "start_time": "2022-09-09T05:04:26.773393",
     "status": "completed"
    },
    "tags": []
   },
   "outputs": [
    {
     "data": {
      "text/plain": [
       "title          object\n",
       "keywords       object\n",
       "cast           object\n",
       "popularity    float64\n",
       "overview       object\n",
       "genres         object\n",
       "dtype: object"
      ]
     },
     "execution_count": 15,
     "metadata": {},
     "output_type": "execute_result"
    }
   ],
   "source": [
    "movies_clean.dtypes"
   ]
  },
  {
   "cell_type": "code",
   "execution_count": 16,
   "id": "86bf156d",
   "metadata": {
    "execution": {
     "iopub.execute_input": "2022-09-09T05:04:26.856828Z",
     "iopub.status.busy": "2022-09-09T05:04:26.856416Z",
     "iopub.status.idle": "2022-09-09T05:04:27.038272Z",
     "shell.execute_reply": "2022-09-09T05:04:27.036272Z"
    },
    "papermill": {
     "duration": 0.209653,
     "end_time": "2022-09-09T05:04:27.041374",
     "exception": false,
     "start_time": "2022-09-09T05:04:26.831721",
     "status": "completed"
    },
    "tags": []
   },
   "outputs": [
    {
     "name": "stderr",
     "output_type": "stream",
     "text": [
      "/opt/conda/lib/python3.7/site-packages/ipykernel_launcher.py:10: SettingWithCopyWarning: \n",
      "A value is trying to be set on a copy of a slice from a DataFrame.\n",
      "Try using .loc[row_indexer,col_indexer] = value instead\n",
      "\n",
      "See the caveats in the documentation: https://pandas.pydata.org/pandas-docs/stable/user_guide/indexing.html#returning-a-view-versus-a-copy\n",
      "  # Remove the CWD from sys.path while we load stuff.\n",
      "/opt/conda/lib/python3.7/site-packages/ipykernel_launcher.py:12: SettingWithCopyWarning: \n",
      "A value is trying to be set on a copy of a slice from a DataFrame.\n",
      "Try using .loc[row_indexer,col_indexer] = value instead\n",
      "\n",
      "See the caveats in the documentation: https://pandas.pydata.org/pandas-docs/stable/user_guide/indexing.html#returning-a-view-versus-a-copy\n",
      "  if sys.path[0] == \"\":\n"
     ]
    },
    {
     "data": {
      "text/html": [
       "<div>\n",
       "<style scoped>\n",
       "    .dataframe tbody tr th:only-of-type {\n",
       "        vertical-align: middle;\n",
       "    }\n",
       "\n",
       "    .dataframe tbody tr th {\n",
       "        vertical-align: top;\n",
       "    }\n",
       "\n",
       "    .dataframe thead th {\n",
       "        text-align: right;\n",
       "    }\n",
       "</style>\n",
       "<table border=\"1\" class=\"dataframe\">\n",
       "  <thead>\n",
       "    <tr style=\"text-align: right;\">\n",
       "      <th></th>\n",
       "      <th>title</th>\n",
       "      <th>overview</th>\n",
       "      <th>genres</th>\n",
       "    </tr>\n",
       "  </thead>\n",
       "  <tbody>\n",
       "    <tr>\n",
       "      <th>0</th>\n",
       "      <td>Avatar</td>\n",
       "      <td>In the 22nd century, a paraplegic Marine is di...</td>\n",
       "      <td>Action</td>\n",
       "    </tr>\n",
       "    <tr>\n",
       "      <th>1</th>\n",
       "      <td>Pirates of the Caribbean: At World's End</td>\n",
       "      <td>Captain Barbossa, long believed to be dead, ha...</td>\n",
       "      <td>Adventure</td>\n",
       "    </tr>\n",
       "    <tr>\n",
       "      <th>2</th>\n",
       "      <td>Spectre</td>\n",
       "      <td>A cryptic message from Bond’s past sends him o...</td>\n",
       "      <td>Action</td>\n",
       "    </tr>\n",
       "    <tr>\n",
       "      <th>3</th>\n",
       "      <td>The Dark Knight Rises</td>\n",
       "      <td>Following the death of District Attorney Harve...</td>\n",
       "      <td>Action</td>\n",
       "    </tr>\n",
       "    <tr>\n",
       "      <th>4</th>\n",
       "      <td>John Carter</td>\n",
       "      <td>John Carter is a war-weary, former military ca...</td>\n",
       "      <td>Action</td>\n",
       "    </tr>\n",
       "  </tbody>\n",
       "</table>\n",
       "</div>"
      ],
      "text/plain": [
       "                                      title  \\\n",
       "0                                    Avatar   \n",
       "1  Pirates of the Caribbean: At World's End   \n",
       "2                                   Spectre   \n",
       "3                     The Dark Knight Rises   \n",
       "4                               John Carter   \n",
       "\n",
       "                                            overview     genres  \n",
       "0  In the 22nd century, a paraplegic Marine is di...     Action  \n",
       "1  Captain Barbossa, long believed to be dead, ha...  Adventure  \n",
       "2  A cryptic message from Bond’s past sends him o...     Action  \n",
       "3  Following the death of District Attorney Harve...     Action  \n",
       "4  John Carter is a war-weary, former military ca...     Action  "
      ]
     },
     "execution_count": 16,
     "metadata": {},
     "output_type": "execute_result"
    }
   ],
   "source": [
    "def convert(text):\n",
    "    arr = []\n",
    "    count = 0\n",
    "    for i in ast.literal_eval(text):\n",
    "         if count<1:\n",
    "            arr.append(i['name'])\n",
    "            count+=1\n",
    "    return arr\n",
    "\n",
    "movies_clean['genres'] = movies_v2['genres'].apply(convert)\n",
    "\n",
    "movies_clean['genres'] = movies_clean['genres'].apply(lambda x: \" \".join(x))\n",
    "\n",
    "\n",
    "movies_summary = movies_clean[['title','overview','genres']]\n",
    "movies_summary = movies_summary.dropna(subset=['title','overview','genres'])\n",
    "\n",
    "movies_summary.head()"
   ]
  },
  {
   "cell_type": "code",
   "execution_count": 17,
   "id": "c0d1c714",
   "metadata": {
    "execution": {
     "iopub.execute_input": "2022-09-09T05:04:27.089676Z",
     "iopub.status.busy": "2022-09-09T05:04:27.088960Z",
     "iopub.status.idle": "2022-09-09T05:04:27.095236Z",
     "shell.execute_reply": "2022-09-09T05:04:27.093738Z"
    },
    "papermill": {
     "duration": 0.033328,
     "end_time": "2022-09-09T05:04:27.097700",
     "exception": false,
     "start_time": "2022-09-09T05:04:27.064372",
     "status": "completed"
    },
    "tags": []
   },
   "outputs": [],
   "source": [
    "import re\n",
    "def clean_text(text):\n",
    "    # remove backslash-apostrophe \n",
    "    text = re.sub(\"\\'\", \"\", text) \n",
    "    # remove everything except alphabets \n",
    "    text = re.sub(\"[^a-zA-Z]\",\" \",text) \n",
    "    # remove whitespaces \n",
    "    text = ' '.join(text.split()) \n",
    "    # convert text to lowercase \n",
    "    text = text.lower() \n",
    "    \n",
    "    return text"
   ]
  },
  {
   "cell_type": "code",
   "execution_count": 18,
   "id": "6f9c2ecb",
   "metadata": {
    "execution": {
     "iopub.execute_input": "2022-09-09T05:04:27.146530Z",
     "iopub.status.busy": "2022-09-09T05:04:27.145758Z",
     "iopub.status.idle": "2022-09-09T05:04:27.275333Z",
     "shell.execute_reply": "2022-09-09T05:04:27.274177Z"
    },
    "papermill": {
     "duration": 0.156699,
     "end_time": "2022-09-09T05:04:27.277999",
     "exception": false,
     "start_time": "2022-09-09T05:04:27.121300",
     "status": "completed"
    },
    "tags": []
   },
   "outputs": [],
   "source": [
    "\n",
    "movies_summary['clean_tag'] = movies_summary['overview'].apply(lambda x: clean_text(x))"
   ]
  },
  {
   "cell_type": "code",
   "execution_count": 19,
   "id": "ad9ee62c",
   "metadata": {
    "execution": {
     "iopub.execute_input": "2022-09-09T05:04:27.326406Z",
     "iopub.status.busy": "2022-09-09T05:04:27.325965Z",
     "iopub.status.idle": "2022-09-09T05:04:27.338999Z",
     "shell.execute_reply": "2022-09-09T05:04:27.337794Z"
    },
    "papermill": {
     "duration": 0.040641,
     "end_time": "2022-09-09T05:04:27.341274",
     "exception": false,
     "start_time": "2022-09-09T05:04:27.300633",
     "status": "completed"
    },
    "tags": []
   },
   "outputs": [
    {
     "data": {
      "text/html": [
       "<div>\n",
       "<style scoped>\n",
       "    .dataframe tbody tr th:only-of-type {\n",
       "        vertical-align: middle;\n",
       "    }\n",
       "\n",
       "    .dataframe tbody tr th {\n",
       "        vertical-align: top;\n",
       "    }\n",
       "\n",
       "    .dataframe thead th {\n",
       "        text-align: right;\n",
       "    }\n",
       "</style>\n",
       "<table border=\"1\" class=\"dataframe\">\n",
       "  <thead>\n",
       "    <tr style=\"text-align: right;\">\n",
       "      <th></th>\n",
       "      <th>title</th>\n",
       "      <th>clean_tag</th>\n",
       "      <th>genres</th>\n",
       "    </tr>\n",
       "  </thead>\n",
       "  <tbody>\n",
       "    <tr>\n",
       "      <th>0</th>\n",
       "      <td>Avatar</td>\n",
       "      <td>in the nd century a paraplegic marine is dispa...</td>\n",
       "      <td>Action</td>\n",
       "    </tr>\n",
       "    <tr>\n",
       "      <th>1</th>\n",
       "      <td>Pirates of the Caribbean: At World's End</td>\n",
       "      <td>captain barbossa long believed to be dead has ...</td>\n",
       "      <td>Adventure</td>\n",
       "    </tr>\n",
       "    <tr>\n",
       "      <th>2</th>\n",
       "      <td>Spectre</td>\n",
       "      <td>a cryptic message from bond s past sends him o...</td>\n",
       "      <td>Action</td>\n",
       "    </tr>\n",
       "    <tr>\n",
       "      <th>3</th>\n",
       "      <td>The Dark Knight Rises</td>\n",
       "      <td>following the death of district attorney harve...</td>\n",
       "      <td>Action</td>\n",
       "    </tr>\n",
       "    <tr>\n",
       "      <th>4</th>\n",
       "      <td>John Carter</td>\n",
       "      <td>john carter is a war weary former military cap...</td>\n",
       "      <td>Action</td>\n",
       "    </tr>\n",
       "  </tbody>\n",
       "</table>\n",
       "</div>"
      ],
      "text/plain": [
       "                                      title  \\\n",
       "0                                    Avatar   \n",
       "1  Pirates of the Caribbean: At World's End   \n",
       "2                                   Spectre   \n",
       "3                     The Dark Knight Rises   \n",
       "4                               John Carter   \n",
       "\n",
       "                                           clean_tag     genres  \n",
       "0  in the nd century a paraplegic marine is dispa...     Action  \n",
       "1  captain barbossa long believed to be dead has ...  Adventure  \n",
       "2  a cryptic message from bond s past sends him o...     Action  \n",
       "3  following the death of district attorney harve...     Action  \n",
       "4  john carter is a war weary former military cap...     Action  "
      ]
     },
     "execution_count": 19,
     "metadata": {},
     "output_type": "execute_result"
    }
   ],
   "source": [
    "\n",
    "\n",
    "movies_summary_clean = movies_summary[['title','clean_tag','genres']]\n",
    "movies_summary_clean.head()\n",
    "\n"
   ]
  },
  {
   "cell_type": "code",
   "execution_count": 20,
   "id": "2ac48737",
   "metadata": {
    "execution": {
     "iopub.execute_input": "2022-09-09T05:04:27.389541Z",
     "iopub.status.busy": "2022-09-09T05:04:27.388743Z",
     "iopub.status.idle": "2022-09-09T05:04:27.396270Z",
     "shell.execute_reply": "2022-09-09T05:04:27.395233Z"
    },
    "papermill": {
     "duration": 0.034211,
     "end_time": "2022-09-09T05:04:27.398534",
     "exception": false,
     "start_time": "2022-09-09T05:04:27.364323",
     "status": "completed"
    },
    "tags": []
   },
   "outputs": [
    {
     "data": {
      "text/plain": [
       "title        object\n",
       "clean_tag    object\n",
       "genres       object\n",
       "dtype: object"
      ]
     },
     "execution_count": 20,
     "metadata": {},
     "output_type": "execute_result"
    }
   ],
   "source": [
    "movies_summary_clean.dtypes"
   ]
  },
  {
   "cell_type": "code",
   "execution_count": 21,
   "id": "5b2e0a4d",
   "metadata": {
    "execution": {
     "iopub.execute_input": "2022-09-09T05:04:27.446643Z",
     "iopub.status.busy": "2022-09-09T05:04:27.445613Z",
     "iopub.status.idle": "2022-09-09T05:04:27.454455Z",
     "shell.execute_reply": "2022-09-09T05:04:27.453307Z"
    },
    "papermill": {
     "duration": 0.035413,
     "end_time": "2022-09-09T05:04:27.456894",
     "exception": false,
     "start_time": "2022-09-09T05:04:27.421481",
     "status": "completed"
    },
    "tags": []
   },
   "outputs": [
    {
     "data": {
      "text/plain": [
       "['Drama',\n",
       " 'Comedy',\n",
       " 'Action',\n",
       " 'Adventure',\n",
       " 'Horror',\n",
       " 'Crime',\n",
       " 'Thriller',\n",
       " 'Animation',\n",
       " 'Fantasy',\n",
       " 'Romance']"
      ]
     },
     "execution_count": 21,
     "metadata": {},
     "output_type": "execute_result"
    }
   ],
   "source": [
    "\n",
    "movies_summary_clean['genres'].value_counts()[:10].index.tolist()"
   ]
  },
  {
   "cell_type": "code",
   "execution_count": 22,
   "id": "b1f87ea6",
   "metadata": {
    "execution": {
     "iopub.execute_input": "2022-09-09T05:04:27.507133Z",
     "iopub.status.busy": "2022-09-09T05:04:27.506669Z",
     "iopub.status.idle": "2022-09-09T05:04:27.515796Z",
     "shell.execute_reply": "2022-09-09T05:04:27.514671Z"
    },
    "papermill": {
     "duration": 0.037269,
     "end_time": "2022-09-09T05:04:27.518088",
     "exception": false,
     "start_time": "2022-09-09T05:04:27.480819",
     "status": "completed"
    },
    "tags": []
   },
   "outputs": [
    {
     "data": {
      "text/plain": [
       "Drama              1208\n",
       "Comedy             1042\n",
       "Action              755\n",
       "Adventure           339\n",
       "Horror              301\n",
       "Crime               195\n",
       "Thriller            194\n",
       "Animation           123\n",
       "Fantasy             118\n",
       "Romance             106\n",
       "Science Fiction      96\n",
       "Documentary          87\n",
       "Family               57\n",
       "Mystery              41\n",
       "Music                34\n",
       "                     28\n",
       "Western              27\n",
       "History              25\n",
       "War                  24\n",
       "TV Movie              4\n",
       "Foreign               2\n",
       "Name: genres, dtype: int64"
      ]
     },
     "execution_count": 22,
     "metadata": {},
     "output_type": "execute_result"
    }
   ],
   "source": [
    "movies_summary_clean['genres'].value_counts()"
   ]
  },
  {
   "cell_type": "code",
   "execution_count": 23,
   "id": "cd79208d",
   "metadata": {
    "execution": {
     "iopub.execute_input": "2022-09-09T05:04:27.568267Z",
     "iopub.status.busy": "2022-09-09T05:04:27.567498Z",
     "iopub.status.idle": "2022-09-09T05:04:27.868172Z",
     "shell.execute_reply": "2022-09-09T05:04:27.866823Z"
    },
    "papermill": {
     "duration": 0.328521,
     "end_time": "2022-09-09T05:04:27.870841",
     "exception": false,
     "start_time": "2022-09-09T05:04:27.542320",
     "status": "completed"
    },
    "tags": []
   },
   "outputs": [
    {
     "name": "stderr",
     "output_type": "stream",
     "text": [
      "/opt/conda/lib/python3.7/site-packages/seaborn/_decorators.py:43: FutureWarning: Pass the following variable as a keyword arg: x. From version 0.12, the only valid positional argument will be `data`, and passing other arguments without an explicit keyword will result in an error or misinterpretation.\n",
      "  FutureWarning\n"
     ]
    },
    {
     "data": {
      "text/plain": [
       "Text(0.5, 1.0, 'Movie Genre Count Plot')"
      ]
     },
     "execution_count": 23,
     "metadata": {},
     "output_type": "execute_result"
    },
    {
     "data": {
      "image/png": "[encoded data removed]",
      "text/plain": [
       "<Figure size 432x288 with 1 Axes>"
      ]
     },
     "metadata": {
      "needs_background": "light"
     },
     "output_type": "display_data"
    }
   ],
   "source": [
    "sns.countplot(movies_summary_clean['genres'])\n",
    "plt.xlabel(\"Genres\")\n",
    "plt.ylabel(\"Count of Movies\")\n",
    "plt.title(\"Movie Genre Count Plot\")"
   ]
  },
  {
   "cell_type": "code",
   "execution_count": 24,
   "id": "24485581",
   "metadata": {
    "execution": {
     "iopub.execute_input": "2022-09-09T05:04:27.922433Z",
     "iopub.status.busy": "2022-09-09T05:04:27.922041Z",
     "iopub.status.idle": "2022-09-09T05:04:27.935611Z",
     "shell.execute_reply": "2022-09-09T05:04:27.934326Z"
    },
    "papermill": {
     "duration": 0.042009,
     "end_time": "2022-09-09T05:04:27.938182",
     "exception": false,
     "start_time": "2022-09-09T05:04:27.896173",
     "status": "completed"
    },
    "tags": []
   },
   "outputs": [
    {
     "name": "stdout",
     "output_type": "stream",
     "text": [
      "title : 4797\n",
      "clean_tag : 4800\n",
      "genres : 21\n"
     ]
    }
   ],
   "source": [
    "for i in movies_summary_clean.columns:\n",
    "    #prinfting unique values\n",
    "    print(i ,':', len(movies_summary_clean[i].unique()))"
   ]
  },
  {
   "cell_type": "code",
   "execution_count": 25,
   "id": "edb80cc9",
   "metadata": {
    "execution": {
     "iopub.execute_input": "2022-09-09T05:04:27.988690Z",
     "iopub.status.busy": "2022-09-09T05:04:27.987643Z",
     "iopub.status.idle": "2022-09-09T05:04:27.996301Z",
     "shell.execute_reply": "2022-09-09T05:04:27.995123Z"
    },
    "papermill": {
     "duration": 0.036359,
     "end_time": "2022-09-09T05:04:27.998674",
     "exception": false,
     "start_time": "2022-09-09T05:04:27.962315",
     "status": "completed"
    },
    "tags": []
   },
   "outputs": [],
   "source": [
    "from sklearn.feature_extraction.text import TfidfVectorizer\n",
    "from sklearn.feature_extraction.text import CountVectorizer\n",
    "\n",
    "X_train, X_test, y_train, y_test = train_test_split(movies_summary_clean['clean_tag'],movies_summary_clean['genres'],test_size=0.2,shuffle=True)\n"
   ]
  },
  {
   "cell_type": "code",
   "execution_count": 26,
   "id": "6b7a35f8",
   "metadata": {
    "execution": {
     "iopub.execute_input": "2022-09-09T05:04:28.048846Z",
     "iopub.status.busy": "2022-09-09T05:04:28.047804Z",
     "iopub.status.idle": "2022-09-09T05:04:28.333890Z",
     "shell.execute_reply": "2022-09-09T05:04:28.332045Z"
    },
    "papermill": {
     "duration": 0.315593,
     "end_time": "2022-09-09T05:04:28.338199",
     "exception": false,
     "start_time": "2022-09-09T05:04:28.022606",
     "status": "completed"
    },
    "tags": []
   },
   "outputs": [
    {
     "data": {
      "text/plain": [
       "(3844, 19318)"
      ]
     },
     "execution_count": 26,
     "metadata": {},
     "output_type": "execute_result"
    }
   ],
   "source": [
    "#Tf-Idf\n",
    "\n",
    "tfidf_vectorizer = TfidfVectorizer(use_idf=True)\n",
    "X_train_vectors_tfidf = tfidf_vectorizer.fit_transform(X_train) \n",
    "X_test_vectors_tfidf = tfidf_vectorizer.transform(X_test)\n",
    "\n",
    "X_train_vectors_tfidf.shape"
   ]
  },
  {
   "cell_type": "code",
   "execution_count": 27,
   "id": "7bc020aa",
   "metadata": {
    "execution": {
     "iopub.execute_input": "2022-09-09T05:04:28.399262Z",
     "iopub.status.busy": "2022-09-09T05:04:28.398494Z",
     "iopub.status.idle": "2022-09-09T05:04:28.532861Z",
     "shell.execute_reply": "2022-09-09T05:04:28.531445Z"
    },
    "papermill": {
     "duration": 0.169458,
     "end_time": "2022-09-09T05:04:28.535689",
     "exception": false,
     "start_time": "2022-09-09T05:04:28.366231",
     "status": "completed"
    },
    "tags": []
   },
   "outputs": [],
   "source": [
    "from sklearn.linear_model import LogisticRegression\n",
    "from sklearn.naive_bayes import MultinomialNB\n",
    "from sklearn.metrics import classification_report, f1_score, accuracy_score, confusion_matrix\n",
    "from sklearn.metrics import roc_curve, auc, roc_auc_score\n",
    "\n",
    "\n",
    "\n",
    "#FITTING THE CLASSIFICATION MODEL using Naive Bayes(tf-idf)\n",
    "nb_tfidf = MultinomialNB()\n",
    "nb_tfidf.fit(X_train_vectors_tfidf, y_train)  \n",
    "\n",
    "\n",
    "#Predict y value for test dataset\n",
    "y_predict_tfidf = nb_tfidf.predict(X_test_vectors_tfidf)\n",
    "\n",
    "\n",
    " "
   ]
  },
  {
   "cell_type": "code",
   "execution_count": 28,
   "id": "f0f8b490",
   "metadata": {
    "execution": {
     "iopub.execute_input": "2022-09-09T05:04:28.586294Z",
     "iopub.status.busy": "2022-09-09T05:04:28.585858Z",
     "iopub.status.idle": "2022-09-09T05:04:28.626207Z",
     "shell.execute_reply": "2022-09-09T05:04:28.624760Z"
    },
    "papermill": {
     "duration": 0.068968,
     "end_time": "2022-09-09T05:04:28.628612",
     "exception": false,
     "start_time": "2022-09-09T05:04:28.559644",
     "status": "completed"
    },
    "tags": []
   },
   "outputs": [
    {
     "name": "stdout",
     "output_type": "stream",
     "text": [
      "                 precision    recall  f1-score   support\n",
      "\n",
      "                      0.00      0.00      0.00         6\n",
      "         Action       0.55      0.14      0.22       151\n",
      "      Adventure       0.00      0.00      0.00        72\n",
      "      Animation       0.00      0.00      0.00        39\n",
      "         Comedy       0.45      0.60      0.52       187\n",
      "          Crime       0.00      0.00      0.00        34\n",
      "    Documentary       0.00      0.00      0.00        18\n",
      "          Drama       0.32      0.88      0.47       245\n",
      "         Family       0.00      0.00      0.00        13\n",
      "        Fantasy       0.00      0.00      0.00        30\n",
      "        History       0.00      0.00      0.00         6\n",
      "         Horror       0.00      0.00      0.00        58\n",
      "          Music       0.00      0.00      0.00         8\n",
      "        Mystery       0.00      0.00      0.00         8\n",
      "        Romance       0.00      0.00      0.00        22\n",
      "Science Fiction       0.00      0.00      0.00        15\n",
      "       Thriller       0.00      0.00      0.00        42\n",
      "            War       0.00      0.00      0.00         4\n",
      "        Western       0.00      0.00      0.00         4\n",
      "\n",
      "       accuracy                           0.36       962\n",
      "      macro avg       0.07      0.09      0.06       962\n",
      "   weighted avg       0.26      0.36      0.26       962\n",
      "\n"
     ]
    },
    {
     "name": "stderr",
     "output_type": "stream",
     "text": [
      "/opt/conda/lib/python3.7/site-packages/sklearn/metrics/_classification.py:1318: UndefinedMetricWarning: Precision and F-score are ill-defined and being set to 0.0 in labels with no predicted samples. Use `zero_division` parameter to control this behavior.\n",
      "  _warn_prf(average, modifier, msg_start, len(result))\n",
      "/opt/conda/lib/python3.7/site-packages/sklearn/metrics/_classification.py:1318: UndefinedMetricWarning: Precision and F-score are ill-defined and being set to 0.0 in labels with no predicted samples. Use `zero_division` parameter to control this behavior.\n",
      "  _warn_prf(average, modifier, msg_start, len(result))\n",
      "/opt/conda/lib/python3.7/site-packages/sklearn/metrics/_classification.py:1318: UndefinedMetricWarning: Precision and F-score are ill-defined and being set to 0.0 in labels with no predicted samples. Use `zero_division` parameter to control this behavior.\n",
      "  _warn_prf(average, modifier, msg_start, len(result))\n"
     ]
    },
    {
     "data": {
      "text/plain": [
       "0.36382536382536385"
      ]
     },
     "execution_count": 28,
     "metadata": {},
     "output_type": "execute_result"
    }
   ],
   "source": [
    "from sklearn.metrics import accuracy_score\n",
    "\n",
    "print(classification_report(y_test,y_predict_tfidf))\n",
    "from sklearn.metrics import accuracy_score\n",
    "accuracy_score(y_test,y_predict_tfidf)"
   ]
  },
  {
   "cell_type": "markdown",
   "id": "7001d04b",
   "metadata": {
    "papermill": {
     "duration": 0.024293,
     "end_time": "2022-09-09T05:04:28.677242",
     "exception": false,
     "start_time": "2022-09-09T05:04:28.652949",
     "status": "completed"
    },
    "tags": []
   },
   "source": [
    "Naive Bayes Model Accuracy Score: 32.43%"
   ]
  },
  {
   "cell_type": "code",
   "execution_count": 29,
   "id": "b67af564",
   "metadata": {
    "execution": {
     "iopub.execute_input": "2022-09-09T05:04:28.728249Z",
     "iopub.status.busy": "2022-09-09T05:04:28.727833Z",
     "iopub.status.idle": "2022-09-09T05:04:30.188961Z",
     "shell.execute_reply": "2022-09-09T05:04:30.187665Z"
    },
    "papermill": {
     "duration": 1.494091,
     "end_time": "2022-09-09T05:04:30.195857",
     "exception": false,
     "start_time": "2022-09-09T05:04:28.701766",
     "status": "completed"
    },
    "tags": []
   },
   "outputs": [
    {
     "name": "stdout",
     "output_type": "stream",
     "text": [
      "                 precision    recall  f1-score   support\n",
      "\n",
      "                      0.00      0.00      0.00         6\n",
      "         Action       0.41      0.60      0.49       151\n",
      "      Adventure       0.36      0.17      0.23        72\n",
      "      Animation       0.60      0.08      0.14        39\n",
      "         Comedy       0.42      0.66      0.52       187\n",
      "          Crime       0.50      0.06      0.11        34\n",
      "    Documentary       0.33      0.06      0.10        18\n",
      "          Drama       0.46      0.66      0.54       245\n",
      "         Family       0.00      0.00      0.00        13\n",
      "        Fantasy       0.00      0.00      0.00        30\n",
      "        History       0.00      0.00      0.00         6\n",
      "         Horror       0.55      0.38      0.45        58\n",
      "          Music       0.00      0.00      0.00         8\n",
      "        Mystery       0.00      0.00      0.00         8\n",
      "        Romance       0.00      0.00      0.00        22\n",
      "Science Fiction       0.40      0.13      0.20        15\n",
      "       Thriller       0.50      0.02      0.05        42\n",
      "            War       0.00      0.00      0.00         4\n",
      "        Western       0.00      0.00      0.00         4\n",
      "\n",
      "       accuracy                           0.44       962\n",
      "      macro avg       0.24      0.15      0.15       962\n",
      "   weighted avg       0.40      0.44      0.38       962\n",
      "\n"
     ]
    },
    {
     "name": "stderr",
     "output_type": "stream",
     "text": [
      "/opt/conda/lib/python3.7/site-packages/sklearn/metrics/_classification.py:1318: UndefinedMetricWarning: Precision and F-score are ill-defined and being set to 0.0 in labels with no predicted samples. Use `zero_division` parameter to control this behavior.\n",
      "  _warn_prf(average, modifier, msg_start, len(result))\n",
      "/opt/conda/lib/python3.7/site-packages/sklearn/metrics/_classification.py:1318: UndefinedMetricWarning: Precision and F-score are ill-defined and being set to 0.0 in labels with no predicted samples. Use `zero_division` parameter to control this behavior.\n",
      "  _warn_prf(average, modifier, msg_start, len(result))\n",
      "/opt/conda/lib/python3.7/site-packages/sklearn/metrics/_classification.py:1318: UndefinedMetricWarning: Precision and F-score are ill-defined and being set to 0.0 in labels with no predicted samples. Use `zero_division` parameter to control this behavior.\n",
      "  _warn_prf(average, modifier, msg_start, len(result))\n"
     ]
    },
    {
     "data": {
      "text/plain": [
       "0.4365904365904366"
      ]
     },
     "execution_count": 29,
     "metadata": {},
     "output_type": "execute_result"
    }
   ],
   "source": [
    "# Model Testing: Logistic Regression\n",
    "\n",
    "lr_tfidf=LogisticRegression(solver = 'liblinear', C=10, penalty = 'l2')\n",
    "lr_tfidf.fit(X_train_vectors_tfidf, y_train)  \n",
    "#Predict y value for test dataset\n",
    "y_predict = lr_tfidf.predict(X_test_vectors_tfidf)\n",
    "\n",
    "print(classification_report(y_test,y_predict))\n",
    "accuracy_score(y_test,y_predict)"
   ]
  },
  {
   "cell_type": "markdown",
   "id": "52ca1493",
   "metadata": {
    "papermill": {
     "duration": 0.02603,
     "end_time": "2022-09-09T05:04:30.263856",
     "exception": false,
     "start_time": "2022-09-09T05:04:30.237826",
     "status": "completed"
    },
    "tags": []
   },
   "source": [
    "Logistic Regression Model Accuracy Score: 40.23%"
   ]
  },
  {
   "cell_type": "code",
   "execution_count": 30,
   "id": "dde65977",
   "metadata": {
    "execution": {
     "iopub.execute_input": "2022-09-09T05:04:30.314786Z",
     "iopub.status.busy": "2022-09-09T05:04:30.314377Z",
     "iopub.status.idle": "2022-09-09T05:04:34.490148Z",
     "shell.execute_reply": "2022-09-09T05:04:34.488942Z"
    },
    "papermill": {
     "duration": 4.20397,
     "end_time": "2022-09-09T05:04:34.492549",
     "exception": false,
     "start_time": "2022-09-09T05:04:30.288579",
     "status": "completed"
    },
    "tags": []
   },
   "outputs": [
    {
     "data": {
      "text/plain": [
       "RandomForestClassifier(min_samples_split=5, random_state=5)"
      ]
     },
     "execution_count": 30,
     "metadata": {},
     "output_type": "execute_result"
    }
   ],
   "source": [
    "from sklearn.ensemble import RandomForestClassifier\n",
    "clf = RandomForestClassifier(criterion = \"gini\", min_samples_split = 5, random_state = 5)\n",
    "\n",
    "clf.fit(X_train_vectors_tfidf, y_train)"
   ]
  },
  {
   "cell_type": "code",
   "execution_count": 31,
   "id": "5d790911",
   "metadata": {
    "execution": {
     "iopub.execute_input": "2022-09-09T05:04:34.545077Z",
     "iopub.status.busy": "2022-09-09T05:04:34.543679Z",
     "iopub.status.idle": "2022-09-09T05:04:34.666592Z",
     "shell.execute_reply": "2022-09-09T05:04:34.665469Z"
    },
    "papermill": {
     "duration": 0.154937,
     "end_time": "2022-09-09T05:04:34.672521",
     "exception": false,
     "start_time": "2022-09-09T05:04:34.517584",
     "status": "completed"
    },
    "tags": []
   },
   "outputs": [
    {
     "name": "stdout",
     "output_type": "stream",
     "text": [
      "                 precision    recall  f1-score   support\n",
      "\n",
      "                      0.00      0.00      0.00         6\n",
      "         Action       0.43      0.38      0.41       151\n",
      "      Adventure       0.00      0.00      0.00        72\n",
      "      Animation       0.00      0.00      0.00        39\n",
      "         Comedy       0.32      0.50      0.39       187\n",
      "          Crime       0.00      0.00      0.00        34\n",
      "    Documentary       1.00      0.11      0.20        18\n",
      "          Drama       0.35      0.75      0.47       245\n",
      "         Family       0.00      0.00      0.00        13\n",
      "        Fantasy       0.00      0.00      0.00        30\n",
      "        History       0.00      0.00      0.00         6\n",
      "         Horror       1.00      0.03      0.07        58\n",
      "          Music       0.00      0.00      0.00         8\n",
      "        Mystery       0.00      0.00      0.00         8\n",
      "        Romance       0.00      0.00      0.00        22\n",
      "Science Fiction       0.00      0.00      0.00        15\n",
      "       Thriller       0.00      0.00      0.00        42\n",
      "            War       0.00      0.00      0.00         4\n",
      "        Western       0.00      0.00      0.00         4\n",
      "\n",
      "       accuracy                           0.35       962\n",
      "      macro avg       0.16      0.09      0.08       962\n",
      "   weighted avg       0.30      0.35      0.27       962\n",
      "\n"
     ]
    },
    {
     "name": "stderr",
     "output_type": "stream",
     "text": [
      "/opt/conda/lib/python3.7/site-packages/sklearn/metrics/_classification.py:1318: UndefinedMetricWarning: Precision and F-score are ill-defined and being set to 0.0 in labels with no predicted samples. Use `zero_division` parameter to control this behavior.\n",
      "  _warn_prf(average, modifier, msg_start, len(result))\n",
      "/opt/conda/lib/python3.7/site-packages/sklearn/metrics/_classification.py:1318: UndefinedMetricWarning: Precision and F-score are ill-defined and being set to 0.0 in labels with no predicted samples. Use `zero_division` parameter to control this behavior.\n",
      "  _warn_prf(average, modifier, msg_start, len(result))\n",
      "/opt/conda/lib/python3.7/site-packages/sklearn/metrics/_classification.py:1318: UndefinedMetricWarning: Precision and F-score are ill-defined and being set to 0.0 in labels with no predicted samples. Use `zero_division` parameter to control this behavior.\n",
      "  _warn_prf(average, modifier, msg_start, len(result))\n"
     ]
    },
    {
     "data": {
      "text/plain": [
       "0.3523908523908524"
      ]
     },
     "execution_count": 31,
     "metadata": {},
     "output_type": "execute_result"
    }
   ],
   "source": [
    "# Model Testing: Random Forest\n",
    "\n",
    "y_pred = clf.predict(X_test_vectors_tfidf)\n",
    "print(classification_report(y_test,y_pred))\n",
    "accuracy_score(y_test,y_pred)"
   ]
  },
  {
   "cell_type": "markdown",
   "id": "97db9b83",
   "metadata": {
    "papermill": {
     "duration": 0.024824,
     "end_time": "2022-09-09T05:04:34.723039",
     "exception": false,
     "start_time": "2022-09-09T05:04:34.698215",
     "status": "completed"
    },
    "tags": []
   },
   "source": [
    "Random Forest Classifier Model Accuracy Score: 33.16%"
   ]
  },
  {
   "cell_type": "markdown",
   "id": "e8c34185",
   "metadata": {
    "papermill": {
     "duration": 0.026298,
     "end_time": "2022-09-09T05:04:34.774226",
     "exception": false,
     "start_time": "2022-09-09T05:04:34.747928",
     "status": "completed"
    },
    "tags": []
   },
   "source": [
    "## Static Embeddings for Multi-Label Text Classification "
   ]
  },
  {
   "cell_type": "code",
   "execution_count": 32,
   "id": "5bdb211b",
   "metadata": {
    "execution": {
     "iopub.execute_input": "2022-09-09T05:04:34.827337Z",
     "iopub.status.busy": "2022-09-09T05:04:34.826605Z",
     "iopub.status.idle": "2022-09-09T05:04:35.016693Z",
     "shell.execute_reply": "2022-09-09T05:04:35.015307Z"
    },
    "papermill": {
     "duration": 0.220981,
     "end_time": "2022-09-09T05:04:35.021093",
     "exception": false,
     "start_time": "2022-09-09T05:04:34.800112",
     "status": "completed"
    },
    "tags": []
   },
   "outputs": [
    {
     "name": "stderr",
     "output_type": "stream",
     "text": [
      "/opt/conda/lib/python3.7/site-packages/ipykernel_launcher.py:7: SettingWithCopyWarning: \n",
      "A value is trying to be set on a copy of a slice from a DataFrame.\n",
      "Try using .loc[row_indexer,col_indexer] = value instead\n",
      "\n",
      "See the caveats in the documentation: https://pandas.pydata.org/pandas-docs/stable/user_guide/indexing.html#returning-a-view-versus-a-copy\n",
      "  import sys\n",
      "/opt/conda/lib/python3.7/site-packages/ipykernel_launcher.py:9: SettingWithCopyWarning: \n",
      "A value is trying to be set on a copy of a slice from a DataFrame.\n",
      "Try using .loc[row_indexer,col_indexer] = value instead\n",
      "\n",
      "See the caveats in the documentation: https://pandas.pydata.org/pandas-docs/stable/user_guide/indexing.html#returning-a-view-versus-a-copy\n",
      "  if __name__ == \"__main__\":\n"
     ]
    },
    {
     "data": {
      "text/html": [
       "<div>\n",
       "<style scoped>\n",
       "    .dataframe tbody tr th:only-of-type {\n",
       "        vertical-align: middle;\n",
       "    }\n",
       "\n",
       "    .dataframe tbody tr th {\n",
       "        vertical-align: top;\n",
       "    }\n",
       "\n",
       "    .dataframe thead th {\n",
       "        text-align: right;\n",
       "    }\n",
       "</style>\n",
       "<table border=\"1\" class=\"dataframe\">\n",
       "  <thead>\n",
       "    <tr style=\"text-align: right;\">\n",
       "      <th></th>\n",
       "      <th>title</th>\n",
       "      <th>overview</th>\n",
       "      <th>genres</th>\n",
       "    </tr>\n",
       "  </thead>\n",
       "  <tbody>\n",
       "    <tr>\n",
       "      <th>0</th>\n",
       "      <td>Avatar</td>\n",
       "      <td>In the 22nd century, a paraplegic Marine is di...</td>\n",
       "      <td>Action, Adventure, Fantasy, Science Fiction</td>\n",
       "    </tr>\n",
       "    <tr>\n",
       "      <th>1</th>\n",
       "      <td>Pirates of the Caribbean: At World's End</td>\n",
       "      <td>Captain Barbossa, long believed to be dead, ha...</td>\n",
       "      <td>Adventure, Fantasy, Action</td>\n",
       "    </tr>\n",
       "    <tr>\n",
       "      <th>2</th>\n",
       "      <td>Spectre</td>\n",
       "      <td>A cryptic message from Bond’s past sends him o...</td>\n",
       "      <td>Action, Adventure, Crime</td>\n",
       "    </tr>\n",
       "    <tr>\n",
       "      <th>3</th>\n",
       "      <td>The Dark Knight Rises</td>\n",
       "      <td>Following the death of District Attorney Harve...</td>\n",
       "      <td>Action, Crime, Drama, Thriller</td>\n",
       "    </tr>\n",
       "    <tr>\n",
       "      <th>4</th>\n",
       "      <td>John Carter</td>\n",
       "      <td>John Carter is a war-weary, former military ca...</td>\n",
       "      <td>Action, Adventure, Science Fiction</td>\n",
       "    </tr>\n",
       "  </tbody>\n",
       "</table>\n",
       "</div>"
      ],
      "text/plain": [
       "                                      title  \\\n",
       "0                                    Avatar   \n",
       "1  Pirates of the Caribbean: At World's End   \n",
       "2                                   Spectre   \n",
       "3                     The Dark Knight Rises   \n",
       "4                               John Carter   \n",
       "\n",
       "                                            overview  \\\n",
       "0  In the 22nd century, a paraplegic Marine is di...   \n",
       "1  Captain Barbossa, long believed to be dead, ha...   \n",
       "2  A cryptic message from Bond’s past sends him o...   \n",
       "3  Following the death of District Attorney Harve...   \n",
       "4  John Carter is a war-weary, former military ca...   \n",
       "\n",
       "                                        genres  \n",
       "0  Action, Adventure, Fantasy, Science Fiction  \n",
       "1                   Adventure, Fantasy, Action  \n",
       "2                     Action, Adventure, Crime  \n",
       "3               Action, Crime, Drama, Thriller  \n",
       "4           Action, Adventure, Science Fiction  "
      ]
     },
     "execution_count": 32,
     "metadata": {},
     "output_type": "execute_result"
    }
   ],
   "source": [
    "def convert_1(text):\n",
    "    arr = []\n",
    "    for i in ast.literal_eval(text):\n",
    "            arr.append(i['name'])\n",
    "    return arr\n",
    "\n",
    "movies_clean['genres'] = movies_v2['genres'].apply(convert_1)\n",
    "\n",
    "movies_clean['genres'] = movies_clean['genres'].apply(lambda x: \", \".join(x))\n",
    "\n",
    "\n",
    "movies_summary = movies_clean[['title','overview','genres']]\n",
    "movies_summary = movies_summary.dropna(subset=['title','overview','genres'])\n",
    "\n",
    "movies_summary.head()"
   ]
  },
  {
   "cell_type": "code",
   "execution_count": 33,
   "id": "a372b094",
   "metadata": {
    "execution": {
     "iopub.execute_input": "2022-09-09T05:04:35.076181Z",
     "iopub.status.busy": "2022-09-09T05:04:35.075189Z",
     "iopub.status.idle": "2022-09-09T05:04:35.213014Z",
     "shell.execute_reply": "2022-09-09T05:04:35.211889Z"
    },
    "papermill": {
     "duration": 0.168295,
     "end_time": "2022-09-09T05:04:35.215650",
     "exception": false,
     "start_time": "2022-09-09T05:04:35.047355",
     "status": "completed"
    },
    "tags": []
   },
   "outputs": [
    {
     "data": {
      "text/html": [
       "<div>\n",
       "<style scoped>\n",
       "    .dataframe tbody tr th:only-of-type {\n",
       "        vertical-align: middle;\n",
       "    }\n",
       "\n",
       "    .dataframe tbody tr th {\n",
       "        vertical-align: top;\n",
       "    }\n",
       "\n",
       "    .dataframe thead th {\n",
       "        text-align: right;\n",
       "    }\n",
       "</style>\n",
       "<table border=\"1\" class=\"dataframe\">\n",
       "  <thead>\n",
       "    <tr style=\"text-align: right;\">\n",
       "      <th></th>\n",
       "      <th>title</th>\n",
       "      <th>clean_tag</th>\n",
       "      <th>genres</th>\n",
       "    </tr>\n",
       "  </thead>\n",
       "  <tbody>\n",
       "    <tr>\n",
       "      <th>0</th>\n",
       "      <td>Avatar</td>\n",
       "      <td>in the nd century a paraplegic marine is dispa...</td>\n",
       "      <td>Action, Adventure, Fantasy, Science Fiction</td>\n",
       "    </tr>\n",
       "    <tr>\n",
       "      <th>1</th>\n",
       "      <td>Pirates of the Caribbean: At World's End</td>\n",
       "      <td>captain barbossa long believed to be dead has ...</td>\n",
       "      <td>Adventure, Fantasy, Action</td>\n",
       "    </tr>\n",
       "    <tr>\n",
       "      <th>2</th>\n",
       "      <td>Spectre</td>\n",
       "      <td>a cryptic message from bond s past sends him o...</td>\n",
       "      <td>Action, Adventure, Crime</td>\n",
       "    </tr>\n",
       "    <tr>\n",
       "      <th>3</th>\n",
       "      <td>The Dark Knight Rises</td>\n",
       "      <td>following the death of district attorney harve...</td>\n",
       "      <td>Action, Crime, Drama, Thriller</td>\n",
       "    </tr>\n",
       "    <tr>\n",
       "      <th>4</th>\n",
       "      <td>John Carter</td>\n",
       "      <td>john carter is a war weary former military cap...</td>\n",
       "      <td>Action, Adventure, Science Fiction</td>\n",
       "    </tr>\n",
       "    <tr>\n",
       "      <th>5</th>\n",
       "      <td>Spider-Man 3</td>\n",
       "      <td>the seemingly invincible spider man goes up ag...</td>\n",
       "      <td>Fantasy, Action, Adventure</td>\n",
       "    </tr>\n",
       "    <tr>\n",
       "      <th>6</th>\n",
       "      <td>Tangled</td>\n",
       "      <td>when the kingdoms most wanted and most charmin...</td>\n",
       "      <td>Animation, Family</td>\n",
       "    </tr>\n",
       "    <tr>\n",
       "      <th>7</th>\n",
       "      <td>Avengers: Age of Ultron</td>\n",
       "      <td>when tony stark tries to jumpstart a dormant p...</td>\n",
       "      <td>Action, Adventure, Science Fiction</td>\n",
       "    </tr>\n",
       "    <tr>\n",
       "      <th>8</th>\n",
       "      <td>Harry Potter and the Half-Blood Prince</td>\n",
       "      <td>as harry begins his sixth year at hogwarts he ...</td>\n",
       "      <td>Adventure, Fantasy, Family</td>\n",
       "    </tr>\n",
       "    <tr>\n",
       "      <th>9</th>\n",
       "      <td>Batman v Superman: Dawn of Justice</td>\n",
       "      <td>fearing the actions of a god like super hero l...</td>\n",
       "      <td>Action, Adventure, Fantasy</td>\n",
       "    </tr>\n",
       "  </tbody>\n",
       "</table>\n",
       "</div>"
      ],
      "text/plain": [
       "                                      title  \\\n",
       "0                                    Avatar   \n",
       "1  Pirates of the Caribbean: At World's End   \n",
       "2                                   Spectre   \n",
       "3                     The Dark Knight Rises   \n",
       "4                               John Carter   \n",
       "5                              Spider-Man 3   \n",
       "6                                   Tangled   \n",
       "7                   Avengers: Age of Ultron   \n",
       "8    Harry Potter and the Half-Blood Prince   \n",
       "9        Batman v Superman: Dawn of Justice   \n",
       "\n",
       "                                           clean_tag  \\\n",
       "0  in the nd century a paraplegic marine is dispa...   \n",
       "1  captain barbossa long believed to be dead has ...   \n",
       "2  a cryptic message from bond s past sends him o...   \n",
       "3  following the death of district attorney harve...   \n",
       "4  john carter is a war weary former military cap...   \n",
       "5  the seemingly invincible spider man goes up ag...   \n",
       "6  when the kingdoms most wanted and most charmin...   \n",
       "7  when tony stark tries to jumpstart a dormant p...   \n",
       "8  as harry begins his sixth year at hogwarts he ...   \n",
       "9  fearing the actions of a god like super hero l...   \n",
       "\n",
       "                                        genres  \n",
       "0  Action, Adventure, Fantasy, Science Fiction  \n",
       "1                   Adventure, Fantasy, Action  \n",
       "2                     Action, Adventure, Crime  \n",
       "3               Action, Crime, Drama, Thriller  \n",
       "4           Action, Adventure, Science Fiction  \n",
       "5                   Fantasy, Action, Adventure  \n",
       "6                            Animation, Family  \n",
       "7           Action, Adventure, Science Fiction  \n",
       "8                   Adventure, Fantasy, Family  \n",
       "9                   Action, Adventure, Fantasy  "
      ]
     },
     "execution_count": 33,
     "metadata": {},
     "output_type": "execute_result"
    }
   ],
   "source": [
    "import re\n",
    "def clean_text(text):\n",
    "    # remove backslash-apostrophe \n",
    "    text = re.sub(\"\\'\", \"\", text) \n",
    "    # remove everything except alphabets \n",
    "    text = re.sub(\"[^a-zA-Z]\",\" \",text) \n",
    "    # remove whitespaces \n",
    "    text = ' '.join(text.split()) \n",
    "    # convert text to lowercase \n",
    "    text = text.lower() \n",
    "    \n",
    "    return text\n",
    "\n",
    "movies_summary['clean_tag'] = movies_summary['overview'].apply(lambda x: clean_text(x))\n",
    "\n",
    "\n",
    "\n",
    "movies_summary_clean_1 = movies_summary[['title','clean_tag','genres']]\n",
    "\n",
    "movies_summary_clean_1.head(10)"
   ]
  },
  {
   "cell_type": "code",
   "execution_count": 34,
   "id": "d160ebb6",
   "metadata": {
    "execution": {
     "iopub.execute_input": "2022-09-09T05:04:35.270532Z",
     "iopub.status.busy": "2022-09-09T05:04:35.270100Z",
     "iopub.status.idle": "2022-09-09T05:04:35.277489Z",
     "shell.execute_reply": "2022-09-09T05:04:35.276405Z"
    },
    "papermill": {
     "duration": 0.038265,
     "end_time": "2022-09-09T05:04:35.279963",
     "exception": false,
     "start_time": "2022-09-09T05:04:35.241698",
     "status": "completed"
    },
    "tags": []
   },
   "outputs": [
    {
     "data": {
      "text/plain": [
       "'Action, Adventure, Fantasy, Science Fiction'"
      ]
     },
     "execution_count": 34,
     "metadata": {},
     "output_type": "execute_result"
    }
   ],
   "source": [
    "movies_summary_clean_1['genres'][0]"
   ]
  },
  {
   "cell_type": "code",
   "execution_count": 35,
   "id": "4e7c9849",
   "metadata": {
    "execution": {
     "iopub.execute_input": "2022-09-09T05:04:35.336576Z",
     "iopub.status.busy": "2022-09-09T05:04:35.336117Z",
     "iopub.status.idle": "2022-09-09T05:04:35.353847Z",
     "shell.execute_reply": "2022-09-09T05:04:35.353004Z"
    },
    "papermill": {
     "duration": 0.05108,
     "end_time": "2022-09-09T05:04:35.357593",
     "exception": false,
     "start_time": "2022-09-09T05:04:35.306513",
     "status": "completed"
    },
    "tags": []
   },
   "outputs": [
    {
     "name": "stderr",
     "output_type": "stream",
     "text": [
      "/opt/conda/lib/python3.7/site-packages/ipykernel_launcher.py:9: SettingWithCopyWarning: \n",
      "A value is trying to be set on a copy of a slice from a DataFrame.\n",
      "Try using .loc[row_indexer,col_indexer] = value instead\n",
      "\n",
      "See the caveats in the documentation: https://pandas.pydata.org/pandas-docs/stable/user_guide/indexing.html#returning-a-view-versus-a-copy\n",
      "  if __name__ == \"__main__\":\n"
     ]
    },
    {
     "data": {
      "text/plain": [
       "0       Action,Adventure,Fantasy,Science Fiction\n",
       "1                       Adventure,Fantasy,Action\n",
       "2                         Action,Adventure,Crime\n",
       "3                    Action,Crime,Drama,Thriller\n",
       "4               Action,Adventure,Science Fiction\n",
       "                          ...                   \n",
       "4804                       Action,Crime,Thriller\n",
       "4805                              Comedy,Romance\n",
       "4806               Comedy,Drama,Romance,TV Movie\n",
       "4807                                            \n",
       "4808                                 Documentary\n",
       "Name: genres, Length: 4806, dtype: object"
      ]
     },
     "execution_count": 35,
     "metadata": {},
     "output_type": "execute_result"
    }
   ],
   "source": [
    "def remove_spaces(x):\n",
    "    x=x.split(\",\")\n",
    "    nospace=[]\n",
    "    for item in x:\n",
    "        item=item.lstrip()\n",
    "        nospace.append(item)\n",
    "    return (\",\").join(nospace)\n",
    "\n",
    "movies_summary_clean_1['genres']=movies_summary_clean_1['genres'].apply(remove_spaces)\n",
    "movies_summary_clean_1['genres']\n"
   ]
  },
  {
   "cell_type": "code",
   "execution_count": 36,
   "id": "80e931f5",
   "metadata": {
    "execution": {
     "iopub.execute_input": "2022-09-09T05:04:35.412524Z",
     "iopub.status.busy": "2022-09-09T05:04:35.411840Z",
     "iopub.status.idle": "2022-09-09T05:04:35.424114Z",
     "shell.execute_reply": "2022-09-09T05:04:35.423278Z"
    },
    "papermill": {
     "duration": 0.042125,
     "end_time": "2022-09-09T05:04:35.426340",
     "exception": false,
     "start_time": "2022-09-09T05:04:35.384215",
     "status": "completed"
    },
    "tags": []
   },
   "outputs": [
    {
     "data": {
      "text/html": [
       "<div>\n",
       "<style scoped>\n",
       "    .dataframe tbody tr th:only-of-type {\n",
       "        vertical-align: middle;\n",
       "    }\n",
       "\n",
       "    .dataframe tbody tr th {\n",
       "        vertical-align: top;\n",
       "    }\n",
       "\n",
       "    .dataframe thead th {\n",
       "        text-align: right;\n",
       "    }\n",
       "</style>\n",
       "<table border=\"1\" class=\"dataframe\">\n",
       "  <thead>\n",
       "    <tr style=\"text-align: right;\">\n",
       "      <th></th>\n",
       "      <th>title</th>\n",
       "      <th>clean_tag</th>\n",
       "      <th>genres</th>\n",
       "    </tr>\n",
       "  </thead>\n",
       "  <tbody>\n",
       "    <tr>\n",
       "      <th>0</th>\n",
       "      <td>Avatar</td>\n",
       "      <td>in the nd century a paraplegic marine is dispa...</td>\n",
       "      <td>Action,Adventure,Fantasy,Science Fiction</td>\n",
       "    </tr>\n",
       "    <tr>\n",
       "      <th>1</th>\n",
       "      <td>Pirates of the Caribbean: At World's End</td>\n",
       "      <td>captain barbossa long believed to be dead has ...</td>\n",
       "      <td>Adventure,Fantasy,Action</td>\n",
       "    </tr>\n",
       "    <tr>\n",
       "      <th>2</th>\n",
       "      <td>Spectre</td>\n",
       "      <td>a cryptic message from bond s past sends him o...</td>\n",
       "      <td>Action,Adventure,Crime</td>\n",
       "    </tr>\n",
       "    <tr>\n",
       "      <th>3</th>\n",
       "      <td>The Dark Knight Rises</td>\n",
       "      <td>following the death of district attorney harve...</td>\n",
       "      <td>Action,Crime,Drama,Thriller</td>\n",
       "    </tr>\n",
       "    <tr>\n",
       "      <th>4</th>\n",
       "      <td>John Carter</td>\n",
       "      <td>john carter is a war weary former military cap...</td>\n",
       "      <td>Action,Adventure,Science Fiction</td>\n",
       "    </tr>\n",
       "    <tr>\n",
       "      <th>...</th>\n",
       "      <td>...</td>\n",
       "      <td>...</td>\n",
       "      <td>...</td>\n",
       "    </tr>\n",
       "    <tr>\n",
       "      <th>4804</th>\n",
       "      <td>El Mariachi</td>\n",
       "      <td>el mariachi just wants to play his guitar and ...</td>\n",
       "      <td>Action,Crime,Thriller</td>\n",
       "    </tr>\n",
       "    <tr>\n",
       "      <th>4805</th>\n",
       "      <td>Newlyweds</td>\n",
       "      <td>a newlywed couples honeymoon is upended by the...</td>\n",
       "      <td>Comedy,Romance</td>\n",
       "    </tr>\n",
       "    <tr>\n",
       "      <th>4806</th>\n",
       "      <td>Signed, Sealed, Delivered</td>\n",
       "      <td>signed sealed delivered introduces a dedicated...</td>\n",
       "      <td>Comedy,Drama,Romance,TV Movie</td>\n",
       "    </tr>\n",
       "    <tr>\n",
       "      <th>4807</th>\n",
       "      <td>Shanghai Calling</td>\n",
       "      <td>when ambitious new york attorney sam is sent t...</td>\n",
       "      <td></td>\n",
       "    </tr>\n",
       "    <tr>\n",
       "      <th>4808</th>\n",
       "      <td>My Date with Drew</td>\n",
       "      <td>ever since the second grade when he first saw ...</td>\n",
       "      <td>Documentary</td>\n",
       "    </tr>\n",
       "  </tbody>\n",
       "</table>\n",
       "<p>4806 rows × 3 columns</p>\n",
       "</div>"
      ],
      "text/plain": [
       "                                         title  \\\n",
       "0                                       Avatar   \n",
       "1     Pirates of the Caribbean: At World's End   \n",
       "2                                      Spectre   \n",
       "3                        The Dark Knight Rises   \n",
       "4                                  John Carter   \n",
       "...                                        ...   \n",
       "4804                               El Mariachi   \n",
       "4805                                 Newlyweds   \n",
       "4806                 Signed, Sealed, Delivered   \n",
       "4807                          Shanghai Calling   \n",
       "4808                         My Date with Drew   \n",
       "\n",
       "                                              clean_tag  \\\n",
       "0     in the nd century a paraplegic marine is dispa...   \n",
       "1     captain barbossa long believed to be dead has ...   \n",
       "2     a cryptic message from bond s past sends him o...   \n",
       "3     following the death of district attorney harve...   \n",
       "4     john carter is a war weary former military cap...   \n",
       "...                                                 ...   \n",
       "4804  el mariachi just wants to play his guitar and ...   \n",
       "4805  a newlywed couples honeymoon is upended by the...   \n",
       "4806  signed sealed delivered introduces a dedicated...   \n",
       "4807  when ambitious new york attorney sam is sent t...   \n",
       "4808  ever since the second grade when he first saw ...   \n",
       "\n",
       "                                        genres  \n",
       "0     Action,Adventure,Fantasy,Science Fiction  \n",
       "1                     Adventure,Fantasy,Action  \n",
       "2                       Action,Adventure,Crime  \n",
       "3                  Action,Crime,Drama,Thriller  \n",
       "4             Action,Adventure,Science Fiction  \n",
       "...                                        ...  \n",
       "4804                     Action,Crime,Thriller  \n",
       "4805                            Comedy,Romance  \n",
       "4806             Comedy,Drama,Romance,TV Movie  \n",
       "4807                                            \n",
       "4808                               Documentary  \n",
       "\n",
       "[4806 rows x 3 columns]"
      ]
     },
     "execution_count": 36,
     "metadata": {},
     "output_type": "execute_result"
    }
   ],
   "source": [
    "movies_summary_clean_1"
   ]
  },
  {
   "cell_type": "code",
   "execution_count": 37,
   "id": "91b41f62",
   "metadata": {
    "execution": {
     "iopub.execute_input": "2022-09-09T05:04:35.481299Z",
     "iopub.status.busy": "2022-09-09T05:04:35.480842Z",
     "iopub.status.idle": "2022-09-09T05:04:35.487128Z",
     "shell.execute_reply": "2022-09-09T05:04:35.486182Z"
    },
    "papermill": {
     "duration": 0.036929,
     "end_time": "2022-09-09T05:04:35.489577",
     "exception": false,
     "start_time": "2022-09-09T05:04:35.452648",
     "status": "completed"
    },
    "tags": []
   },
   "outputs": [],
   "source": [
    "from sklearn.model_selection import train_test_split\n",
    "train, test = train_test_split(movies_summary_clean_1)\n",
    "\n",
    "from sklearn.feature_extraction.text import CountVectorizer"
   ]
  },
  {
   "cell_type": "code",
   "execution_count": 38,
   "id": "2920ef52",
   "metadata": {
    "execution": {
     "iopub.execute_input": "2022-09-09T05:04:35.545105Z",
     "iopub.status.busy": "2022-09-09T05:04:35.544662Z",
     "iopub.status.idle": "2022-09-09T05:04:35.577957Z",
     "shell.execute_reply": "2022-09-09T05:04:35.576409Z"
    },
    "papermill": {
     "duration": 0.063905,
     "end_time": "2022-09-09T05:04:35.580590",
     "exception": false,
     "start_time": "2022-09-09T05:04:35.516685",
     "status": "completed"
    },
    "tags": []
   },
   "outputs": [
    {
     "name": "stdout",
     "output_type": "stream",
     "text": [
      "[[0 0 0 ... 0 0 0]\n",
      " [0 1 0 ... 0 1 0]\n",
      " [0 0 0 ... 0 0 0]\n",
      " ...\n",
      " [0 1 0 ... 0 0 0]\n",
      " [0 0 0 ... 0 0 0]\n",
      " [0 1 0 ... 0 0 0]]\n"
     ]
    },
    {
     "data": {
      "text/plain": [
       "array([0, 0, 0, 0, 1, 0, 0, 0, 0, 0, 0, 0, 0, 1, 0, 0, 0, 0, 0, 0, 0])"
      ]
     },
     "execution_count": 38,
     "metadata": {},
     "output_type": "execute_result"
    }
   ],
   "source": [
    "vectorizer = CountVectorizer(tokenizer = lambda x: x.split(\",\"), binary='true')\n",
    "y_train = vectorizer.fit_transform(train['genres']).toarray()\n",
    "y_test = vectorizer.transform(test['genres']).toarray()\n",
    "print(y_train)\n",
    "\n",
    "y_train[0]"
   ]
  },
  {
   "cell_type": "code",
   "execution_count": 39,
   "id": "b49a6c99",
   "metadata": {
    "execution": {
     "iopub.execute_input": "2022-09-09T05:04:35.635873Z",
     "iopub.status.busy": "2022-09-09T05:04:35.634830Z",
     "iopub.status.idle": "2022-09-09T05:04:35.643264Z",
     "shell.execute_reply": "2022-09-09T05:04:35.642077Z"
    },
    "papermill": {
     "duration": 0.038595,
     "end_time": "2022-09-09T05:04:35.645706",
     "exception": false,
     "start_time": "2022-09-09T05:04:35.607111",
     "status": "completed"
    },
    "tags": []
   },
   "outputs": [
    {
     "data": {
      "text/plain": [
       "[array(['comedy', 'music'], dtype='<U15')]"
      ]
     },
     "execution_count": 39,
     "metadata": {},
     "output_type": "execute_result"
    }
   ],
   "source": [
    "\n",
    "vectorizer.inverse_transform(y_train[[0]])"
   ]
  },
  {
   "cell_type": "code",
   "execution_count": 40,
   "id": "34ac6fb7",
   "metadata": {
    "execution": {
     "iopub.execute_input": "2022-09-09T05:04:35.701917Z",
     "iopub.status.busy": "2022-09-09T05:04:35.701463Z",
     "iopub.status.idle": "2022-09-09T05:04:42.556305Z",
     "shell.execute_reply": "2022-09-09T05:04:42.555065Z"
    },
    "papermill": {
     "duration": 6.886763,
     "end_time": "2022-09-09T05:04:42.559299",
     "exception": false,
     "start_time": "2022-09-09T05:04:35.672536",
     "status": "completed"
    },
    "tags": []
   },
   "outputs": [],
   "source": [
    "import tensorflow as tf\n",
    "from tensorflow.keras.preprocessing.text import Tokenizer\n",
    "from keras.preprocessing.sequence import pad_sequences\n",
    "from tensorflow import keras\n",
    "from tensorflow.keras import layers\n",
    "from tensorflow.keras.layers import Flatten"
   ]
  },
  {
   "cell_type": "code",
   "execution_count": 41,
   "id": "f3bed630",
   "metadata": {
    "execution": {
     "iopub.execute_input": "2022-09-09T05:04:42.617020Z",
     "iopub.status.busy": "2022-09-09T05:04:42.616293Z",
     "iopub.status.idle": "2022-09-09T05:04:42.826782Z",
     "shell.execute_reply": "2022-09-09T05:04:42.825219Z"
    },
    "papermill": {
     "duration": 0.242227,
     "end_time": "2022-09-09T05:04:42.829359",
     "exception": false,
     "start_time": "2022-09-09T05:04:42.587132",
     "status": "completed"
    },
    "tags": []
   },
   "outputs": [
    {
     "name": "stdout",
     "output_type": "stream",
     "text": [
      "18664\n"
     ]
    }
   ],
   "source": [
    "max_features = 20000 # this is the number of words we care about\n",
    "\n",
    "\n",
    "vect=Tokenizer(num_words=max_features, split=' ', oov_token='<unw>', filters=' ')\n",
    "vect.fit_on_texts(train['clean_tag'])\n",
    "vocab_size = len(vect.word_index) + 1\n",
    "print(vocab_size)"
   ]
  },
  {
   "cell_type": "code",
   "execution_count": 42,
   "id": "38c3f3db",
   "metadata": {
    "execution": {
     "iopub.execute_input": "2022-09-09T05:04:42.886546Z",
     "iopub.status.busy": "2022-09-09T05:04:42.885483Z",
     "iopub.status.idle": "2022-09-09T05:04:42.890582Z",
     "shell.execute_reply": "2022-09-09T05:04:42.889408Z"
    },
    "papermill": {
     "duration": 0.037134,
     "end_time": "2022-09-09T05:04:42.893260",
     "exception": false,
     "start_time": "2022-09-09T05:04:42.856126",
     "status": "completed"
    },
    "tags": []
   },
   "outputs": [],
   "source": [
    "#encoded_docs_train = vect.texts_to_sequences(train['clean_tag'])\n",
    "\n"
   ]
  },
  {
   "cell_type": "code",
   "execution_count": 43,
   "id": "ae0d0e76",
   "metadata": {
    "execution": {
     "iopub.execute_input": "2022-09-09T05:04:42.948884Z",
     "iopub.status.busy": "2022-09-09T05:04:42.948482Z",
     "iopub.status.idle": "2022-09-09T05:04:42.952960Z",
     "shell.execute_reply": "2022-09-09T05:04:42.951740Z"
    },
    "papermill": {
     "duration": 0.03517,
     "end_time": "2022-09-09T05:04:42.955260",
     "exception": false,
     "start_time": "2022-09-09T05:04:42.920090",
     "status": "completed"
    },
    "tags": []
   },
   "outputs": [],
   "source": [
    "#train['l'] = train['clean_tag'].apply(lambda x: len(str(x).split(' ')))\n",
    "\n",
    "#train['clean_tag'][0]\n",
    "#print(\"max length of sentence: \" + str(train.clean_tag.max()))"
   ]
  },
  {
   "cell_type": "code",
   "execution_count": 44,
   "id": "8bf6da57",
   "metadata": {
    "execution": {
     "iopub.execute_input": "2022-09-09T05:04:43.011159Z",
     "iopub.status.busy": "2022-09-09T05:04:43.010467Z",
     "iopub.status.idle": "2022-09-09T05:04:43.135368Z",
     "shell.execute_reply": "2022-09-09T05:04:43.134072Z"
    },
    "papermill": {
     "duration": 0.156195,
     "end_time": "2022-09-09T05:04:43.138169",
     "exception": false,
     "start_time": "2022-09-09T05:04:42.981974",
     "status": "completed"
    },
    "tags": []
   },
   "outputs": [],
   "source": [
    "encoded_docs_train = vect.texts_to_sequences(train['clean_tag'])\n",
    "max_length = vocab_size\n",
    "\n",
    "\n"
   ]
  },
  {
   "cell_type": "code",
   "execution_count": 45,
   "id": "08e2d510",
   "metadata": {
    "execution": {
     "iopub.execute_input": "2022-09-09T05:04:43.193515Z",
     "iopub.status.busy": "2022-09-09T05:04:43.193106Z",
     "iopub.status.idle": "2022-09-09T05:04:43.221684Z",
     "shell.execute_reply": "2022-09-09T05:04:43.220247Z"
    },
    "papermill": {
     "duration": 0.059816,
     "end_time": "2022-09-09T05:04:43.224480",
     "exception": false,
     "start_time": "2022-09-09T05:04:43.164664",
     "status": "completed"
    },
    "tags": []
   },
   "outputs": [
    {
     "name": "stdout",
     "output_type": "stream",
     "text": [
      "[[  32 2891  117 ...    0    0    0]\n",
      " [   3 2894 2895 ...    0    0    0]\n",
      " [ 239   66  304 ...    0    0    0]\n",
      " ...\n",
      " [   3  226    6 ...    0    0    0]\n",
      " [3125  912  567 ...    0    0    0]\n",
      " [   3   42    5 ...    0    0    0]]\n"
     ]
    }
   ],
   "source": [
    "\n",
    "padded_docs_train = pad_sequences(encoded_docs_train, maxlen=175, padding='post')\n",
    "print(padded_docs_train)"
   ]
  },
  {
   "cell_type": "code",
   "execution_count": 46,
   "id": "37dcc03c",
   "metadata": {
    "execution": {
     "iopub.execute_input": "2022-09-09T05:04:43.282846Z",
     "iopub.status.busy": "2022-09-09T05:04:43.282370Z",
     "iopub.status.idle": "2022-09-09T05:04:43.339266Z",
     "shell.execute_reply": "2022-09-09T05:04:43.338156Z"
    },
    "papermill": {
     "duration": 0.089234,
     "end_time": "2022-09-09T05:04:43.342047",
     "exception": false,
     "start_time": "2022-09-09T05:04:43.252813",
     "status": "completed"
    },
    "tags": []
   },
   "outputs": [],
   "source": [
    "encoded_docs_test =  vect.texts_to_sequences(test['clean_tag'])\n",
    "padded_docs_test = pad_sequences(encoded_docs_test, maxlen=175, padding='post')"
   ]
  },
  {
   "cell_type": "markdown",
   "id": "67328ccf",
   "metadata": {
    "papermill": {
     "duration": 0.027542,
     "end_time": "2022-09-09T05:04:43.396883",
     "exception": false,
     "start_time": "2022-09-09T05:04:43.369341",
     "status": "completed"
    },
    "tags": []
   },
   "source": [
    "Manuel Embedding config\n"
   ]
  },
  {
   "cell_type": "code",
   "execution_count": 47,
   "id": "e9c0d8f4",
   "metadata": {
    "execution": {
     "iopub.execute_input": "2022-09-09T05:04:43.453862Z",
     "iopub.status.busy": "2022-09-09T05:04:43.453144Z",
     "iopub.status.idle": "2022-09-09T05:04:43.550313Z",
     "shell.execute_reply": "2022-09-09T05:04:43.549097Z"
    },
    "papermill": {
     "duration": 0.127628,
     "end_time": "2022-09-09T05:04:43.552773",
     "exception": false,
     "start_time": "2022-09-09T05:04:43.425145",
     "status": "completed"
    },
    "tags": []
   },
   "outputs": [
    {
     "name": "stderr",
     "output_type": "stream",
     "text": [
      "2022-09-09 05:04:43.497931: I tensorflow/core/common_runtime/process_util.cc:146] Creating new thread pool with default inter op setting: 2. Tune using inter_op_parallelism_threads for best performance.\n"
     ]
    }
   ],
   "source": [
    "METRICS = [\n",
    "      keras.metrics.TruePositives(name='tp'),\n",
    "      keras.metrics.FalsePositives(name='fp'),\n",
    "      keras.metrics.TrueNegatives(name='tn'),\n",
    "      keras.metrics.FalseNegatives(name='fn'), \n",
    "      keras.metrics.BinaryAccuracy(name='accuracy'),\n",
    "      keras.metrics.Precision(name='precision'),\n",
    "      keras.metrics.Recall(name='recall'),\n",
    "      keras.metrics.AUC(name='auc'),\n",
    "]\n",
    "\n"
   ]
  },
  {
   "cell_type": "code",
   "execution_count": 48,
   "id": "50c8bf9e",
   "metadata": {
    "execution": {
     "iopub.execute_input": "2022-09-09T05:04:43.608768Z",
     "iopub.status.busy": "2022-09-09T05:04:43.608150Z",
     "iopub.status.idle": "2022-09-09T05:04:43.995591Z",
     "shell.execute_reply": "2022-09-09T05:04:43.993952Z"
    },
    "papermill": {
     "duration": 0.418384,
     "end_time": "2022-09-09T05:04:43.998176",
     "exception": false,
     "start_time": "2022-09-09T05:04:43.579792",
     "status": "completed"
    },
    "tags": []
   },
   "outputs": [
    {
     "name": "stdout",
     "output_type": "stream",
     "text": [
      "Model: \"sequential\"\n",
      "_________________________________________________________________\n",
      "Layer (type)                 Output Shape              Param #   \n",
      "=================================================================\n",
      "embedding (Embedding)        (None, 175, 50)           933200    \n",
      "_________________________________________________________________\n",
      "lstm (LSTM)                  (None, 128)               91648     \n",
      "_________________________________________________________________\n",
      "dropout (Dropout)            (None, 128)               0         \n",
      "_________________________________________________________________\n",
      "dense (Dense)                (None, 21)                2709      \n",
      "_________________________________________________________________\n",
      "flatten (Flatten)            (None, 21)                0         \n",
      "=================================================================\n",
      "Total params: 1,027,557\n",
      "Trainable params: 1,027,557\n",
      "Non-trainable params: 0\n",
      "_________________________________________________________________\n"
     ]
    }
   ],
   "source": [
    "\n",
    "\n",
    "model_new = keras.Sequential()\n",
    "# Configuring the parameters\n",
    "model_new.add(layers.Embedding(input_dim = vocab_size, output_dim=50, input_length=175))\n",
    "model_new.add(layers.LSTM(128)) \n",
    "model_new.add(layers.Dropout(0.1)) \n",
    "model_new.add(layers.Dense(21, activation='sigmoid'))\n",
    "model_new.add(Flatten())\n",
    "\n",
    "\n",
    "model_new.summary()"
   ]
  },
  {
   "cell_type": "code",
   "execution_count": 49,
   "id": "8607edf4",
   "metadata": {
    "execution": {
     "iopub.execute_input": "2022-09-09T05:04:44.054935Z",
     "iopub.status.busy": "2022-09-09T05:04:44.054186Z",
     "iopub.status.idle": "2022-09-09T05:04:44.070163Z",
     "shell.execute_reply": "2022-09-09T05:04:44.069188Z"
    },
    "papermill": {
     "duration": 0.047432,
     "end_time": "2022-09-09T05:04:44.072769",
     "exception": false,
     "start_time": "2022-09-09T05:04:44.025337",
     "status": "completed"
    },
    "tags": []
   },
   "outputs": [],
   "source": [
    "tf.keras.optimizers.SGD(\n",
    "    learning_rate=0.0001, momentum=0.7, nesterov=False, name=\"sgd\"\n",
    ")\n",
    "\n",
    "model_new.compile(optimizer='sgd', loss=\"binary_crossentropy\", metrics = METRICS)\n",
    "\n"
   ]
  },
  {
   "cell_type": "code",
   "execution_count": 50,
   "id": "c51896e5",
   "metadata": {
    "execution": {
     "iopub.execute_input": "2022-09-09T05:04:44.128431Z",
     "iopub.status.busy": "2022-09-09T05:04:44.127675Z",
     "iopub.status.idle": "2022-09-09T05:08:06.588994Z",
     "shell.execute_reply": "2022-09-09T05:08:06.587631Z"
    },
    "papermill": {
     "duration": 202.49204,
     "end_time": "2022-09-09T05:08:06.591757",
     "exception": false,
     "start_time": "2022-09-09T05:04:44.099717",
     "status": "completed"
    },
    "tags": []
   },
   "outputs": [
    {
     "name": "stderr",
     "output_type": "stream",
     "text": [
      "2022-09-09 05:04:44.187904: I tensorflow/compiler/mlir/mlir_graph_optimization_pass.cc:185] None of the MLIR Optimization Passes are enabled (registered 2)\n"
     ]
    },
    {
     "name": "stdout",
     "output_type": "stream",
     "text": [
      "Epoch 1/10\n",
      "102/102 [==============================] - 25s 204ms/step - loss: 0.6832 - tp: 1085.0000 - fp: 9007.0000 - tn: 50887.0000 - fn: 7124.0000 - accuracy: 0.7631 - precision: 0.1075 - recall: 0.1322 - auc: 0.4967 - val_loss: 0.6707 - val_tp: 0.0000e+00 - val_fp: 0.0000e+00 - val_tn: 6633.0000 - val_fn: 948.0000 - val_accuracy: 0.8750 - val_precision: 0.0000e+00 - val_recall: 0.0000e+00 - val_auc: 0.5891\n",
      "Epoch 2/10\n",
      "102/102 [==============================] - 20s 197ms/step - loss: 0.6583 - tp: 8.0000 - fp: 17.0000 - tn: 59877.0000 - fn: 8201.0000 - accuracy: 0.8793 - precision: 0.3200 - recall: 9.7454e-04 - auc: 0.5742 - val_loss: 0.6455 - val_tp: 0.0000e+00 - val_fp: 0.0000e+00 - val_tn: 6633.0000 - val_fn: 948.0000 - val_accuracy: 0.8750 - val_precision: 0.0000e+00 - val_recall: 0.0000e+00 - val_auc: 0.6561\n",
      "Epoch 3/10\n",
      "102/102 [==============================] - 19s 188ms/step - loss: 0.6317 - tp: 10.0000 - fp: 25.0000 - tn: 59869.0000 - fn: 8199.0000 - accuracy: 0.8792 - precision: 0.2857 - recall: 0.0012 - auc: 0.6064 - val_loss: 0.6169 - val_tp: 0.0000e+00 - val_fp: 0.0000e+00 - val_tn: 6633.0000 - val_fn: 948.0000 - val_accuracy: 0.8750 - val_precision: 0.0000e+00 - val_recall: 0.0000e+00 - val_auc: 0.6540\n",
      "Epoch 4/10\n",
      "102/102 [==============================] - 20s 194ms/step - loss: 0.6000 - tp: 12.0000 - fp: 45.0000 - tn: 59849.0000 - fn: 8197.0000 - accuracy: 0.8790 - precision: 0.2105 - recall: 0.0015 - auc: 0.6150 - val_loss: 0.5809 - val_tp: 0.0000e+00 - val_fp: 0.0000e+00 - val_tn: 6633.0000 - val_fn: 948.0000 - val_accuracy: 0.8750 - val_precision: 0.0000e+00 - val_recall: 0.0000e+00 - val_auc: 0.6587\n",
      "Epoch 5/10\n",
      "102/102 [==============================] - 20s 195ms/step - loss: 0.5580 - tp: 21.0000 - fp: 54.0000 - tn: 59840.0000 - fn: 8188.0000 - accuracy: 0.8790 - precision: 0.2800 - recall: 0.0026 - auc: 0.6235 - val_loss: 0.5325 - val_tp: 0.0000e+00 - val_fp: 0.0000e+00 - val_tn: 6633.0000 - val_fn: 948.0000 - val_accuracy: 0.8750 - val_precision: 0.0000e+00 - val_recall: 0.0000e+00 - val_auc: 0.6662\n",
      "Epoch 6/10\n",
      "102/102 [==============================] - 19s 189ms/step - loss: 0.5048 - tp: 43.0000 - fp: 95.0000 - tn: 59799.0000 - fn: 8166.0000 - accuracy: 0.8787 - precision: 0.3116 - recall: 0.0052 - auc: 0.6447 - val_loss: 0.4763 - val_tp: 0.0000e+00 - val_fp: 0.0000e+00 - val_tn: 6633.0000 - val_fn: 948.0000 - val_accuracy: 0.8750 - val_precision: 0.0000e+00 - val_recall: 0.0000e+00 - val_auc: 0.6937\n",
      "Epoch 7/10\n",
      "102/102 [==============================] - 20s 196ms/step - loss: 0.4511 - tp: 75.0000 - fp: 130.0000 - tn: 59764.0000 - fn: 8134.0000 - accuracy: 0.8787 - precision: 0.3659 - recall: 0.0091 - auc: 0.6743 - val_loss: 0.4280 - val_tp: 0.0000e+00 - val_fp: 0.0000e+00 - val_tn: 6633.0000 - val_fn: 948.0000 - val_accuracy: 0.8750 - val_precision: 0.0000e+00 - val_recall: 0.0000e+00 - val_auc: 0.7234\n",
      "Epoch 8/10\n",
      "102/102 [==============================] - 20s 196ms/step - loss: 0.4090 - tp: 151.0000 - fp: 203.0000 - tn: 59691.0000 - fn: 8058.0000 - accuracy: 0.8787 - precision: 0.4266 - recall: 0.0184 - auc: 0.7050 - val_loss: 0.3936 - val_tp: 0.0000e+00 - val_fp: 0.0000e+00 - val_tn: 6633.0000 - val_fn: 948.0000 - val_accuracy: 0.8750 - val_precision: 0.0000e+00 - val_recall: 0.0000e+00 - val_auc: 0.7443\n",
      "Epoch 9/10\n",
      "102/102 [==============================] - 19s 189ms/step - loss: 0.3798 - tp: 248.0000 - fp: 314.0000 - tn: 59580.0000 - fn: 7961.0000 - accuracy: 0.8785 - precision: 0.4413 - recall: 0.0302 - auc: 0.7304 - val_loss: 0.3701 - val_tp: 0.0000e+00 - val_fp: 0.0000e+00 - val_tn: 6633.0000 - val_fn: 948.0000 - val_accuracy: 0.8750 - val_precision: 0.0000e+00 - val_recall: 0.0000e+00 - val_auc: 0.7575\n",
      "Epoch 10/10\n",
      "102/102 [==============================] - 20s 193ms/step - loss: 0.3596 - tp: 308.0000 - fp: 385.0000 - tn: 59509.0000 - fn: 7901.0000 - accuracy: 0.8783 - precision: 0.4444 - recall: 0.0375 - auc: 0.7485 - val_loss: 0.3542 - val_tp: 0.0000e+00 - val_fp: 0.0000e+00 - val_tn: 6633.0000 - val_fn: 948.0000 - val_accuracy: 0.8750 - val_precision: 0.0000e+00 - val_recall: 0.0000e+00 - val_auc: 0.7739\n"
     ]
    }
   ],
   "source": [
    " hist = model_new.fit(padded_docs_train,y_train,\n",
    "                        epochs = 10, verbose = 1, validation_split = 0.10)"
   ]
  },
  {
   "cell_type": "code",
   "execution_count": 51,
   "id": "eea95233",
   "metadata": {
    "execution": {
     "iopub.execute_input": "2022-09-09T05:08:06.783712Z",
     "iopub.status.busy": "2022-09-09T05:08:06.782873Z",
     "iopub.status.idle": "2022-09-09T05:08:09.183322Z",
     "shell.execute_reply": "2022-09-09T05:08:09.182254Z"
    },
    "papermill": {
     "duration": 2.498557,
     "end_time": "2022-09-09T05:08:09.185750",
     "exception": false,
     "start_time": "2022-09-09T05:08:06.687193",
     "status": "completed"
    },
    "tags": []
   },
   "outputs": [
    {
     "data": {
      "text/plain": [
       "array([1, 0, 0, 0, 0, 0, 0, 0, 0, 0, 0, 0, 0, 0, 0, 0, 0, 0, 0, 0, 0])"
      ]
     },
     "execution_count": 51,
     "metadata": {},
     "output_type": "execute_result"
    }
   ],
   "source": [
    "scores = model_new.predict(padded_docs_test)\n",
    "scores[0]\n",
    "y_test[0]"
   ]
  },
  {
   "cell_type": "code",
   "execution_count": 52,
   "id": "0881bb64",
   "metadata": {
    "execution": {
     "iopub.execute_input": "2022-09-09T05:08:09.380371Z",
     "iopub.status.busy": "2022-09-09T05:08:09.379648Z",
     "iopub.status.idle": "2022-09-09T05:08:09.386341Z",
     "shell.execute_reply": "2022-09-09T05:08:09.385438Z"
    },
    "papermill": {
     "duration": 0.105022,
     "end_time": "2022-09-09T05:08:09.388431",
     "exception": false,
     "start_time": "2022-09-09T05:08:09.283409",
     "status": "completed"
    },
    "tags": []
   },
   "outputs": [
    {
     "data": {
      "text/plain": [
       "array([0.12461969, 0.2546083 , 0.20568526, 0.15414631, 0.43573093,\n",
       "       0.22060195, 0.13231751, 0.471129  , 0.16493347, 0.20867148,\n",
       "       0.15380281, 0.225445  , 0.16389424, 0.15184724, 0.12804094,\n",
       "       0.21243009, 0.18979445, 0.23312351, 0.1046373 , 0.14032668,\n",
       "       0.13089034], dtype=float32)"
      ]
     },
     "execution_count": 52,
     "metadata": {},
     "output_type": "execute_result"
    }
   ],
   "source": [
    "scores[0]"
   ]
  },
  {
   "cell_type": "code",
   "execution_count": 53,
   "id": "53c66b77",
   "metadata": {
    "execution": {
     "iopub.execute_input": "2022-09-09T05:08:09.580451Z",
     "iopub.status.busy": "2022-09-09T05:08:09.579654Z",
     "iopub.status.idle": "2022-09-09T05:08:09.763479Z",
     "shell.execute_reply": "2022-09-09T05:08:09.762271Z"
    },
    "papermill": {
     "duration": 0.282978,
     "end_time": "2022-09-09T05:08:09.766381",
     "exception": false,
     "start_time": "2022-09-09T05:08:09.483403",
     "status": "completed"
    },
    "tags": []
   },
   "outputs": [
    {
     "data": {
      "image/png": "[encoded data removed]",
      "text/plain": [
       "<Figure size 432x288 with 1 Axes>"
      ]
     },
     "metadata": {
      "needs_background": "light"
     },
     "output_type": "display_data"
    }
   ],
   "source": [
    "plt.plot(hist.history['loss'])\n",
    "plt.plot(hist.history['val_loss'])\n",
    "plt.title('Baseline Embedding model loss')\n",
    "plt.ylabel('loss')\n",
    "plt.xlabel('epoch')\n",
    "plt.legend(['train','val'], loc='upper left')\n",
    "plt.show()"
   ]
  },
  {
   "cell_type": "code",
   "execution_count": 54,
   "id": "f187a086",
   "metadata": {
    "execution": {
     "iopub.execute_input": "2022-09-09T05:08:10.029955Z",
     "iopub.status.busy": "2022-09-09T05:08:10.029514Z",
     "iopub.status.idle": "2022-09-09T05:08:12.076158Z",
     "shell.execute_reply": "2022-09-09T05:08:12.074899Z"
    },
    "papermill": {
     "duration": 2.215166,
     "end_time": "2022-09-09T05:08:12.078597",
     "exception": false,
     "start_time": "2022-09-09T05:08:09.863431",
     "status": "completed"
    },
    "tags": []
   },
   "outputs": [
    {
     "name": "stdout",
     "output_type": "stream",
     "text": [
      "38/38 [==============================] - 2s 52ms/step - loss: 0.3499 - tp: 0.0000e+00 - fp: 0.0000e+00 - tn: 22197.0000 - fn: 3045.0000 - accuracy: 0.8794 - precision: 0.0000e+00 - recall: 0.0000e+00 - auc: 0.7754\n"
     ]
    },
    {
     "data": {
      "text/plain": [
       "[0.3498610258102417,\n",
       " 0.0,\n",
       " 0.0,\n",
       " 22197.0,\n",
       " 3045.0,\n",
       " 0.8793675899505615,\n",
       " 0.0,\n",
       " 0.0,\n",
       " 0.7753960490226746]"
      ]
     },
     "execution_count": 54,
     "metadata": {},
     "output_type": "execute_result"
    }
   ],
   "source": [
    "model_new.evaluate(padded_docs_test, y_test)"
   ]
  },
  {
   "cell_type": "markdown",
   "id": "bf40d578",
   "metadata": {
    "papermill": {
     "duration": 0.097322,
     "end_time": "2022-09-09T05:08:12.273752",
     "exception": false,
     "start_time": "2022-09-09T05:08:12.176430",
     "status": "completed"
    },
    "tags": []
   },
   "source": [
    "Embedding using pretrained GloVe"
   ]
  },
  {
   "cell_type": "code",
   "execution_count": 55,
   "id": "6dde1217",
   "metadata": {
    "execution": {
     "iopub.execute_input": "2022-09-09T05:08:12.472812Z",
     "iopub.status.busy": "2022-09-09T05:08:12.471964Z",
     "iopub.status.idle": "2022-09-09T05:08:22.803477Z",
     "shell.execute_reply": "2022-09-09T05:08:22.802019Z"
    },
    "papermill": {
     "duration": 10.434321,
     "end_time": "2022-09-09T05:08:22.806197",
     "exception": false,
     "start_time": "2022-09-09T05:08:12.371876",
     "status": "completed"
    },
    "tags": []
   },
   "outputs": [
    {
     "name": "stdout",
     "output_type": "stream",
     "text": [
      "Found 400000 word vectors.\n"
     ]
    }
   ],
   "source": [
    "#../input/glove6b100dtxt/glove.6B.100d.txt\n",
    "embeddings_index_gloVe = {}\n",
    "f = open(os.path.join('../input/glove6b100dtxt/glove.6B.100d.txt'))\n",
    "for line in f:\n",
    "    values = line.split()\n",
    "    word = values[0]\n",
    "    coefs = np.asarray(values[1:], dtype='float32')\n",
    "    embeddings_index_gloVe[word] = coefs\n",
    "f.close()\n",
    "\n",
    "print('Found %s word vectors.' % len(embeddings_index_gloVe))\n",
    "\n",
    "#embeddings_index_gloVe\n"
   ]
  },
  {
   "cell_type": "code",
   "execution_count": 56,
   "id": "a38a7159",
   "metadata": {
    "execution": {
     "iopub.execute_input": "2022-09-09T05:08:23.007169Z",
     "iopub.status.busy": "2022-09-09T05:08:23.006713Z",
     "iopub.status.idle": "2022-09-09T05:08:23.012429Z",
     "shell.execute_reply": "2022-09-09T05:08:23.011041Z"
    },
    "papermill": {
     "duration": 0.110177,
     "end_time": "2022-09-09T05:08:23.016042",
     "exception": false,
     "start_time": "2022-09-09T05:08:22.905865",
     "status": "completed"
    },
    "tags": []
   },
   "outputs": [
    {
     "name": "stdout",
     "output_type": "stream",
     "text": [
      "Found 18663 unique tokens.\n"
     ]
    }
   ],
   "source": [
    "word_index = vect.word_index\n",
    "print('Found %s unique tokens.' % len(word_index))\n",
    "\n",
    "#word_index"
   ]
  },
  {
   "cell_type": "code",
   "execution_count": 57,
   "id": "ec2a6632",
   "metadata": {
    "execution": {
     "iopub.execute_input": "2022-09-09T05:08:23.218976Z",
     "iopub.status.busy": "2022-09-09T05:08:23.218584Z",
     "iopub.status.idle": "2022-09-09T05:08:23.281663Z",
     "shell.execute_reply": "2022-09-09T05:08:23.279573Z"
    },
    "papermill": {
     "duration": 0.169154,
     "end_time": "2022-09-09T05:08:23.284803",
     "exception": false,
     "start_time": "2022-09-09T05:08:23.115649",
     "status": "completed"
    },
    "tags": []
   },
   "outputs": [
    {
     "name": "stdout",
     "output_type": "stream",
     "text": [
      "18664\n",
      "Converted 17854 words (809 misses)\n"
     ]
    }
   ],
   "source": [
    "\n",
    "\n",
    "num_words = min(max_features, len(word_index)) + 1\n",
    "print(num_words)\n",
    "\n",
    "embedding_dim = 100\n",
    "hits = 0\n",
    "misses = 0\n",
    "\n",
    "# create a matrix of zeros, will be our embedding matrix used for our models embedding layer \n",
    "embedding_matrix_gloVe = np.zeros((num_words, embedding_dim))\n",
    "\n",
    "# f\n",
    "for word, i in word_index.items():\n",
    "    if i > max_features:\n",
    "        continue\n",
    "    embedding_vector = embeddings_index_gloVe.get(word)\n",
    "    if embedding_vector is not None:\n",
    "        # if word found add that words vector to the matrix\n",
    "        embedding_matrix_gloVe[i] = embedding_vector\n",
    "        hits += 1\n",
    "    else:\n",
    "        # assign a random vector if not found \n",
    "        embedding_matrix_gloVe[i] = np.random.randn(embedding_dim)\n",
    "        misses += 1\n",
    "print(\"Converted %d words (%d misses)\" % (hits, misses))"
   ]
  },
  {
   "cell_type": "code",
   "execution_count": 58,
   "id": "25ce4b64",
   "metadata": {
    "execution": {
     "iopub.execute_input": "2022-09-09T05:08:23.485441Z",
     "iopub.status.busy": "2022-09-09T05:08:23.485001Z",
     "iopub.status.idle": "2022-09-09T05:08:23.784879Z",
     "shell.execute_reply": "2022-09-09T05:08:23.783027Z"
    },
    "papermill": {
     "duration": 0.402581,
     "end_time": "2022-09-09T05:08:23.787773",
     "exception": false,
     "start_time": "2022-09-09T05:08:23.385192",
     "status": "completed"
    },
    "tags": []
   },
   "outputs": [
    {
     "name": "stdout",
     "output_type": "stream",
     "text": [
      "Model: \"sequential_1\"\n",
      "_________________________________________________________________\n",
      "Layer (type)                 Output Shape              Param #   \n",
      "=================================================================\n",
      "embedding_1 (Embedding)      (None, 175, 100)          1866400   \n",
      "_________________________________________________________________\n",
      "lstm_1 (LSTM)                (None, 128)               117248    \n",
      "_________________________________________________________________\n",
      "dropout_1 (Dropout)          (None, 128)               0         \n",
      "_________________________________________________________________\n",
      "dense_1 (Dense)              (None, 21)                2709      \n",
      "_________________________________________________________________\n",
      "flatten_1 (Flatten)          (None, 21)                0         \n",
      "=================================================================\n",
      "Total params: 1,986,357\n",
      "Trainable params: 119,957\n",
      "Non-trainable params: 1,866,400\n",
      "_________________________________________________________________\n"
     ]
    }
   ],
   "source": [
    "from keras.initializers import Constant\n",
    "\n",
    "\n",
    "model_gloVe = keras.Sequential()\n",
    "# Configuring the parameters\n",
    "model_gloVe.add(layers.Embedding(input_dim = num_words,output_dim = 100,weights =[embedding_matrix_gloVe],input_length=175,trainable=False))\n",
    "model_gloVe.add(layers.LSTM(128)) \n",
    "# Adding a dense output layer with sigmoid activation\n",
    "model_gloVe.add(layers.Dropout(0.1))\n",
    "model_gloVe.add(layers.Dense(units=21, activation='sigmoid'))\n",
    "model_gloVe.add(Flatten())\n",
    "\n",
    "\n",
    "\n",
    "\n",
    "model_gloVe.summary()\n",
    "\n",
    "\n"
   ]
  },
  {
   "cell_type": "code",
   "execution_count": 59,
   "id": "ca97c9e1",
   "metadata": {
    "execution": {
     "iopub.execute_input": "2022-09-09T05:08:23.993492Z",
     "iopub.status.busy": "2022-09-09T05:08:23.992603Z",
     "iopub.status.idle": "2022-09-09T05:11:23.464898Z",
     "shell.execute_reply": "2022-09-09T05:11:23.463436Z"
    },
    "papermill": {
     "duration": 179.577,
     "end_time": "2022-09-09T05:11:23.467950",
     "exception": false,
     "start_time": "2022-09-09T05:08:23.890950",
     "status": "completed"
    },
    "tags": []
   },
   "outputs": [
    {
     "name": "stdout",
     "output_type": "stream",
     "text": [
      "Epoch 1/10\n",
      "102/102 [==============================] - 22s 180ms/step - loss: 0.6820 - tp: 31.0000 - fp: 159.0000 - tn: 81932.0000 - fn: 11223.0000 - accuracy: 0.8781 - precision: 0.1632 - recall: 0.0028 - auc: 0.5551 - val_loss: 0.6709 - val_tp: 0.0000e+00 - val_fp: 5.0000 - val_tn: 6628.0000 - val_fn: 948.0000 - val_accuracy: 0.8743 - val_precision: 0.0000e+00 - val_recall: 0.0000e+00 - val_auc: 0.6206\n",
      "Epoch 2/10\n",
      "102/102 [==============================] - 18s 174ms/step - loss: 0.6594 - tp: 8.0000 - fp: 39.0000 - tn: 59855.0000 - fn: 8201.0000 - accuracy: 0.8790 - precision: 0.1702 - recall: 9.7454e-04 - auc: 0.6393 - val_loss: 0.6483 - val_tp: 0.0000e+00 - val_fp: 0.0000e+00 - val_tn: 6633.0000 - val_fn: 948.0000 - val_accuracy: 0.8750 - val_precision: 0.0000e+00 - val_recall: 0.0000e+00 - val_auc: 0.6614\n",
      "Epoch 3/10\n",
      "102/102 [==============================] - 17s 167ms/step - loss: 0.6356 - tp: 5.0000 - fp: 20.0000 - tn: 59874.0000 - fn: 8204.0000 - accuracy: 0.8792 - precision: 0.2000 - recall: 6.0909e-04 - auc: 0.6547 - val_loss: 0.6233 - val_tp: 0.0000e+00 - val_fp: 0.0000e+00 - val_tn: 6633.0000 - val_fn: 948.0000 - val_accuracy: 0.8750 - val_precision: 0.0000e+00 - val_recall: 0.0000e+00 - val_auc: 0.6735\n",
      "Epoch 4/10\n",
      "102/102 [==============================] - 18s 176ms/step - loss: 0.6078 - tp: 4.0000 - fp: 10.0000 - tn: 59884.0000 - fn: 8205.0000 - accuracy: 0.8794 - precision: 0.2857 - recall: 4.8727e-04 - auc: 0.6590 - val_loss: 0.5925 - val_tp: 0.0000e+00 - val_fp: 0.0000e+00 - val_tn: 6633.0000 - val_fn: 948.0000 - val_accuracy: 0.8750 - val_precision: 0.0000e+00 - val_recall: 0.0000e+00 - val_auc: 0.6790\n",
      "Epoch 5/10\n",
      "102/102 [==============================] - 17s 169ms/step - loss: 0.5714 - tp: 2.0000 - fp: 10.0000 - tn: 59884.0000 - fn: 8207.0000 - accuracy: 0.8793 - precision: 0.1667 - recall: 2.4364e-04 - auc: 0.6604 - val_loss: 0.5493 - val_tp: 0.0000e+00 - val_fp: 0.0000e+00 - val_tn: 6633.0000 - val_fn: 948.0000 - val_accuracy: 0.8750 - val_precision: 0.0000e+00 - val_recall: 0.0000e+00 - val_auc: 0.6909\n",
      "Epoch 6/10\n",
      "102/102 [==============================] - 18s 174ms/step - loss: 0.5192 - tp: 4.0000 - fp: 4.0000 - tn: 59890.0000 - fn: 8205.0000 - accuracy: 0.8795 - precision: 0.5000 - recall: 4.8727e-04 - auc: 0.6603 - val_loss: 0.4899 - val_tp: 0.0000e+00 - val_fp: 0.0000e+00 - val_tn: 6633.0000 - val_fn: 948.0000 - val_accuracy: 0.8750 - val_precision: 0.0000e+00 - val_recall: 0.0000e+00 - val_auc: 0.6972\n",
      "Epoch 7/10\n",
      "102/102 [==============================] - 17s 169ms/step - loss: 0.4590 - tp: 1.0000 - fp: 3.0000 - tn: 59891.0000 - fn: 8208.0000 - accuracy: 0.8794 - precision: 0.2500 - recall: 1.2182e-04 - auc: 0.6781 - val_loss: 0.4348 - val_tp: 0.0000e+00 - val_fp: 0.0000e+00 - val_tn: 6633.0000 - val_fn: 948.0000 - val_accuracy: 0.8750 - val_precision: 0.0000e+00 - val_recall: 0.0000e+00 - val_auc: 0.7132\n",
      "Epoch 8/10\n",
      "102/102 [==============================] - 18s 170ms/step - loss: 0.4124 - tp: 3.0000 - fp: 0.0000e+00 - tn: 59894.0000 - fn: 8206.0000 - accuracy: 0.8795 - precision: 1.0000 - recall: 3.6545e-04 - auc: 0.7078 - val_loss: 0.3975 - val_tp: 0.0000e+00 - val_fp: 0.0000e+00 - val_tn: 6633.0000 - val_fn: 948.0000 - val_accuracy: 0.8750 - val_precision: 0.0000e+00 - val_recall: 0.0000e+00 - val_auc: 0.7343\n",
      "Epoch 9/10\n",
      "102/102 [==============================] - 18s 175ms/step - loss: 0.3810 - tp: 4.0000 - fp: 4.0000 - tn: 59890.0000 - fn: 8205.0000 - accuracy: 0.8795 - precision: 0.5000 - recall: 4.8727e-04 - auc: 0.7366 - val_loss: 0.3731 - val_tp: 0.0000e+00 - val_fp: 0.0000e+00 - val_tn: 6633.0000 - val_fn: 948.0000 - val_accuracy: 0.8750 - val_precision: 0.0000e+00 - val_recall: 0.0000e+00 - val_auc: 0.7568\n",
      "Epoch 10/10\n",
      "102/102 [==============================] - 17s 166ms/step - loss: 0.3604 - tp: 21.0000 - fp: 22.0000 - tn: 59872.0000 - fn: 8188.0000 - accuracy: 0.8794 - precision: 0.4884 - recall: 0.0026 - auc: 0.7518 - val_loss: 0.3569 - val_tp: 0.0000e+00 - val_fp: 0.0000e+00 - val_tn: 6633.0000 - val_fn: 948.0000 - val_accuracy: 0.8750 - val_precision: 0.0000e+00 - val_recall: 0.0000e+00 - val_auc: 0.7655\n"
     ]
    }
   ],
   "source": [
    "tf.keras.optimizers.SGD(\n",
    "    learning_rate=0.0001, momentum=0.7, name=\"sgd\"\n",
    ")\n",
    "\n",
    "\n",
    "model_gloVe.compile(optimizer='sgd', loss=\"binary_crossentropy\", metrics = METRICS)\n",
    "history_gloVe = model_gloVe.fit(padded_docs_train,y_train, epochs = 10, verbose = 1, validation_split = 0.1)"
   ]
  },
  {
   "cell_type": "code",
   "execution_count": 60,
   "id": "a1a16639",
   "metadata": {
    "execution": {
     "iopub.execute_input": "2022-09-09T05:11:23.808545Z",
     "iopub.status.busy": "2022-09-09T05:11:23.807640Z",
     "iopub.status.idle": "2022-09-09T05:11:23.966560Z",
     "shell.execute_reply": "2022-09-09T05:11:23.965166Z"
    },
    "papermill": {
     "duration": 0.331114,
     "end_time": "2022-09-09T05:11:23.968803",
     "exception": false,
     "start_time": "2022-09-09T05:11:23.637689",
     "status": "completed"
    },
    "tags": []
   },
   "outputs": [
    {
     "data": {
      "image/png": "[encoded data removed]",
      "text/plain": [
       "<Figure size 432x288 with 1 Axes>"
      ]
     },
     "metadata": {
      "needs_background": "light"
     },
     "output_type": "display_data"
    }
   ],
   "source": [
    "plt.plot(history_gloVe.history['loss'])\n",
    "plt.plot(history_gloVe.history['val_loss'])\n",
    "plt.title('GloVe Embeddings Model loss')\n",
    "plt.ylabel('loss')\n",
    "plt.xlabel('epoch')\n",
    "plt.legend(['train','val'], loc='upper left')\n",
    "plt.show()"
   ]
  },
  {
   "cell_type": "code",
   "execution_count": 61,
   "id": "17a94fce",
   "metadata": {
    "execution": {
     "iopub.execute_input": "2022-09-09T05:11:24.301383Z",
     "iopub.status.busy": "2022-09-09T05:11:24.300658Z",
     "iopub.status.idle": "2022-09-09T05:11:26.818356Z",
     "shell.execute_reply": "2022-09-09T05:11:26.817020Z"
    },
    "papermill": {
     "duration": 2.685964,
     "end_time": "2022-09-09T05:11:26.821138",
     "exception": false,
     "start_time": "2022-09-09T05:11:24.135174",
     "status": "completed"
    },
    "tags": []
   },
   "outputs": [
    {
     "name": "stdout",
     "output_type": "stream",
     "text": [
      "38/38 [==============================] - 2s 57ms/step - loss: 0.3508 - tp: 0.0000e+00 - fp: 0.0000e+00 - tn: 22197.0000 - fn: 3045.0000 - accuracy: 0.8794 - precision: 0.0000e+00 - recall: 0.0000e+00 - auc: 0.7724\n"
     ]
    },
    {
     "data": {
      "text/plain": [
       "[0.35084086656570435,\n",
       " 0.0,\n",
       " 0.0,\n",
       " 22197.0,\n",
       " 3045.0,\n",
       " 0.8793675899505615,\n",
       " 0.0,\n",
       " 0.0,\n",
       " 0.7723852396011353]"
      ]
     },
     "execution_count": 61,
     "metadata": {},
     "output_type": "execute_result"
    }
   ],
   "source": [
    "model_gloVe.evaluate(padded_docs_test, y_test)"
   ]
  },
  {
   "cell_type": "code",
   "execution_count": 62,
   "id": "62602978",
   "metadata": {
    "execution": {
     "iopub.execute_input": "2022-09-09T05:11:27.228571Z",
     "iopub.status.busy": "2022-09-09T05:11:27.228148Z",
     "iopub.status.idle": "2022-09-09T05:11:27.420051Z",
     "shell.execute_reply": "2022-09-09T05:11:27.418842Z"
    },
    "papermill": {
     "duration": 0.425263,
     "end_time": "2022-09-09T05:11:27.423136",
     "exception": false,
     "start_time": "2022-09-09T05:11:26.997873",
     "status": "completed"
    },
    "tags": []
   },
   "outputs": [
    {
     "data": {
      "image/png": "[encoded data removed]",
      "text/plain": [
       "<Figure size 432x288 with 1 Axes>"
      ]
     },
     "metadata": {
      "needs_background": "light"
     },
     "output_type": "display_data"
    }
   ],
   "source": [
    "plt.plot(history_gloVe.history['auc'])\n",
    "plt.plot(history_gloVe.history['val_auc'])\n",
    "plt.title('AUC')\n",
    "plt.ylabel('loss')\n",
    "plt.xlabel('epoch')\n",
    "plt.legend(['train', 'test'], loc='upper left')\n",
    "plt.show()"
   ]
  },
  {
   "cell_type": "markdown",
   "id": "17a8112a",
   "metadata": {
    "papermill": {
     "duration": 0.175476,
     "end_time": "2022-09-09T05:11:27.775411",
     "exception": false,
     "start_time": "2022-09-09T05:11:27.599935",
     "status": "completed"
    },
    "tags": []
   },
   "source": [
    "Word2Vec embeddings trained using Google Negative News text corpus"
   ]
  },
  {
   "cell_type": "code",
   "execution_count": 63,
   "id": "dabd19c5",
   "metadata": {
    "execution": {
     "iopub.execute_input": "2022-09-09T05:11:28.130977Z",
     "iopub.status.busy": "2022-09-09T05:11:28.130591Z",
     "iopub.status.idle": "2022-09-09T05:11:28.294035Z",
     "shell.execute_reply": "2022-09-09T05:11:28.292823Z"
    },
    "papermill": {
     "duration": 0.344336,
     "end_time": "2022-09-09T05:11:28.296566",
     "exception": false,
     "start_time": "2022-09-09T05:11:27.952230",
     "status": "completed"
    },
    "tags": []
   },
   "outputs": [],
   "source": [
    "from time import time  # To time our operations\n",
    "from collections import defaultdict  # For word frequency\n",
    "from gensim.models.phrases import Phrases, Phraser\n",
    "\n",
    "import multiprocessing\n",
    "\n",
    "from gensim.models import Word2Vec"
   ]
  },
  {
   "cell_type": "code",
   "execution_count": 64,
   "id": "8bbc0dd4",
   "metadata": {
    "execution": {
     "iopub.execute_input": "2022-09-09T05:11:28.643826Z",
     "iopub.status.busy": "2022-09-09T05:11:28.642921Z",
     "iopub.status.idle": "2022-09-09T05:12:52.678800Z",
     "shell.execute_reply": "2022-09-09T05:12:52.677341Z"
    },
    "papermill": {
     "duration": 84.213756,
     "end_time": "2022-09-09T05:12:52.681851",
     "exception": false,
     "start_time": "2022-09-09T05:11:28.468095",
     "status": "completed"
    },
    "tags": []
   },
   "outputs": [
    {
     "name": "stderr",
     "output_type": "stream",
     "text": [
      "/opt/conda/lib/python3.7/site-packages/ipykernel_launcher.py:6: DeprecationWarning: Call to deprecated `word_vec` (Use get_vector instead).\n",
      "  \n"
     ]
    },
    {
     "name": "stdout",
     "output_type": "stream",
     "text": [
      "Loaded 3000000 word vectors.\n"
     ]
    }
   ],
   "source": [
    "import gensim.models.keyedvectors as word2vec\n",
    "word2vecDict = word2vec.KeyedVectors.load_word2vec_format(\"../input/googlenewsvectorsnegative300/GoogleNews-vectors-negative300.bin\", binary=True)\n",
    "#embed_size = 100\n",
    "embeddings_index_vec = dict()\n",
    "for word in word2vecDict.index_to_key:\n",
    "    embeddings_index_vec[word] = word2vecDict.word_vec(word)\n",
    "print('Loaded %s word vectors.' % len(embeddings_index_vec))\n",
    "            \n"
   ]
  },
  {
   "cell_type": "code",
   "execution_count": 65,
   "id": "ac730144",
   "metadata": {
    "execution": {
     "iopub.execute_input": "2022-09-09T05:12:53.025681Z",
     "iopub.status.busy": "2022-09-09T05:12:53.025214Z",
     "iopub.status.idle": "2022-09-09T05:12:53.262175Z",
     "shell.execute_reply": "2022-09-09T05:12:53.260863Z"
    },
    "papermill": {
     "duration": 0.411552,
     "end_time": "2022-09-09T05:12:53.264896",
     "exception": false,
     "start_time": "2022-09-09T05:12:52.853344",
     "status": "completed"
    },
    "tags": []
   },
   "outputs": [
    {
     "name": "stdout",
     "output_type": "stream",
     "text": [
      "18664\n",
      "Converted 15669 words (2994 misses)\n"
     ]
    }
   ],
   "source": [
    "num_words = min(max_features, len(word_index)) + 1\n",
    "print(num_words)\n",
    "\n",
    "hits = 0\n",
    "misses = 0\n",
    "\n",
    "embedding_dim = 300\n",
    "\n",
    "# empty matrix of zeros\n",
    "embedding_matrix_vec = np.zeros((num_words, embedding_dim))\n",
    "\n",
    "# for each word tokenizied find that same word in pre-trained embedding dictionary\n",
    "for word, i in word_index.items():\n",
    "    if i > max_features:\n",
    "        continue\n",
    "    embedding_vector = embeddings_index_vec.get(word)\n",
    "    if embedding_vector is not None:\n",
    "        # if word found add its vector representation to the embedding matrix\n",
    "        embedding_matrix_vec[i] = embedding_vector\n",
    "        hits += 1\n",
    "    else:\n",
    "        #  assign a random vector if word not found in embedding dictionary \n",
    "        embedding_matrix_vec[i] = np.random.randn(embedding_dim)\n",
    "        misses += 1\n",
    "print(\"Converted %d words (%d misses)\" % (hits, misses))"
   ]
  },
  {
   "cell_type": "code",
   "execution_count": 66,
   "id": "cde063d1",
   "metadata": {
    "execution": {
     "iopub.execute_input": "2022-09-09T05:12:53.612197Z",
     "iopub.status.busy": "2022-09-09T05:12:53.611043Z",
     "iopub.status.idle": "2022-09-09T05:12:53.620794Z",
     "shell.execute_reply": "2022-09-09T05:12:53.619673Z"
    },
    "papermill": {
     "duration": 0.184546,
     "end_time": "2022-09-09T05:12:53.623144",
     "exception": false,
     "start_time": "2022-09-09T05:12:53.438598",
     "status": "completed"
    },
    "tags": []
   },
   "outputs": [
    {
     "data": {
      "text/plain": [
       "array([[ 0.        ,  0.        ,  0.        , ...,  0.        ,\n",
       "         0.        ,  0.        ],\n",
       "       [-0.59959228,  2.08533519, -0.72142533, ..., -0.13356175,\n",
       "        -0.08586876,  1.45860428],\n",
       "       [ 0.08007812,  0.10498047,  0.04980469, ...,  0.00366211,\n",
       "         0.04760742, -0.06884766],\n",
       "       ...,\n",
       "       [ 0.17285156, -0.08447266, -0.29101562, ...,  0.13574219,\n",
       "        -0.16796875, -0.0100708 ],\n",
       "       [ 0.20898438, -0.26367188, -0.06542969, ...,  0.29492188,\n",
       "        -0.11816406, -0.25195312],\n",
       "       [ 0.04003906, -0.08447266,  0.11816406, ..., -0.10546875,\n",
       "        -0.14453125,  0.19433594]])"
      ]
     },
     "execution_count": 66,
     "metadata": {},
     "output_type": "execute_result"
    }
   ],
   "source": [
    "embedding_matrix_vec"
   ]
  },
  {
   "cell_type": "code",
   "execution_count": 67,
   "id": "c79f96b3",
   "metadata": {
    "execution": {
     "iopub.execute_input": "2022-09-09T05:12:53.965771Z",
     "iopub.status.busy": "2022-09-09T05:12:53.964740Z",
     "iopub.status.idle": "2022-09-09T05:12:54.355811Z",
     "shell.execute_reply": "2022-09-09T05:12:54.354532Z"
    },
    "papermill": {
     "duration": 0.566184,
     "end_time": "2022-09-09T05:12:54.358620",
     "exception": false,
     "start_time": "2022-09-09T05:12:53.792436",
     "status": "completed"
    },
    "tags": []
   },
   "outputs": [
    {
     "name": "stdout",
     "output_type": "stream",
     "text": [
      "Model: \"sequential_2\"\n",
      "_________________________________________________________________\n",
      "Layer (type)                 Output Shape              Param #   \n",
      "=================================================================\n",
      "embedding_2 (Embedding)      (None, 175, 300)          5599200   \n",
      "_________________________________________________________________\n",
      "lstm_2 (LSTM)                (None, 128)               219648    \n",
      "_________________________________________________________________\n",
      "dropout_2 (Dropout)          (None, 128)               0         \n",
      "_________________________________________________________________\n",
      "dense_2 (Dense)              (None, 21)                2709      \n",
      "_________________________________________________________________\n",
      "flatten_2 (Flatten)          (None, 21)                0         \n",
      "=================================================================\n",
      "Total params: 5,821,557\n",
      "Trainable params: 222,357\n",
      "Non-trainable params: 5,599,200\n",
      "_________________________________________________________________\n"
     ]
    }
   ],
   "source": [
    "from keras.initializers import Constant\n",
    "\n",
    "model_word2vec = keras.Sequential()\n",
    "# Configuring the parameters\n",
    "model_word2vec.add(layers.Embedding(vocab_size,300,weights=[embedding_matrix_vec],input_length=175,trainable=False))\n",
    "model_word2vec.add(layers.LSTM(128)) \n",
    "model_word2vec.add(layers.Dropout(0.1))\n",
    "model_word2vec.add(layers.Dense(units=21, activation='sigmoid'))\n",
    "model_word2vec.add(Flatten())\n",
    "\n",
    "\n",
    "\n",
    "model_word2vec.summary()"
   ]
  },
  {
   "cell_type": "code",
   "execution_count": 68,
   "id": "8e7aaa5f",
   "metadata": {
    "execution": {
     "iopub.execute_input": "2022-09-09T05:12:54.721226Z",
     "iopub.status.busy": "2022-09-09T05:12:54.720538Z",
     "iopub.status.idle": "2022-09-09T05:16:33.335925Z",
     "shell.execute_reply": "2022-09-09T05:16:33.334482Z"
    },
    "papermill": {
     "duration": 218.791759,
     "end_time": "2022-09-09T05:16:33.338843",
     "exception": false,
     "start_time": "2022-09-09T05:12:54.547084",
     "status": "completed"
    },
    "tags": []
   },
   "outputs": [
    {
     "name": "stdout",
     "output_type": "stream",
     "text": [
      "Epoch 1/10\n",
      "102/102 [==============================] - 27s 223ms/step - loss: 0.6842 - tp: 2807.0000 - fp: 4293.0000 - tn: 77798.0000 - fn: 8447.0000 - accuracy: 0.8635 - precision: 0.3954 - recall: 0.2494 - auc: 0.6148 - val_loss: 0.6752 - val_tp: 316.0000 - val_fp: 405.0000 - val_tn: 6228.0000 - val_fn: 632.0000 - val_accuracy: 0.8632 - val_precision: 0.4383 - val_recall: 0.3333 - val_auc: 0.7535\n",
      "Epoch 2/10\n",
      "102/102 [==============================] - 22s 212ms/step - loss: 0.6663 - tp: 2862.0000 - fp: 4293.0000 - tn: 55601.0000 - fn: 5347.0000 - accuracy: 0.8584 - precision: 0.4000 - recall: 0.3486 - auc: 0.7537 - val_loss: 0.6574 - val_tp: 316.0000 - val_fp: 406.0000 - val_tn: 6227.0000 - val_fn: 632.0000 - val_accuracy: 0.8631 - val_precision: 0.4377 - val_recall: 0.3333 - val_auc: 0.7579\n",
      "Epoch 3/10\n",
      "102/102 [==============================] - 21s 205ms/step - loss: 0.6478 - tp: 2808.0000 - fp: 4226.0000 - tn: 55668.0000 - fn: 5401.0000 - accuracy: 0.8586 - precision: 0.3992 - recall: 0.3421 - auc: 0.7626 - val_loss: 0.6385 - val_tp: 316.0000 - val_fp: 406.0000 - val_tn: 6227.0000 - val_fn: 632.0000 - val_accuracy: 0.8631 - val_precision: 0.4377 - val_recall: 0.3333 - val_auc: 0.7676\n",
      "Epoch 4/10\n",
      "102/102 [==============================] - 21s 211ms/step - loss: 0.6275 - tp: 2790.0000 - fp: 4150.0000 - tn: 55744.0000 - fn: 5419.0000 - accuracy: 0.8595 - precision: 0.4020 - recall: 0.3399 - auc: 0.7680 - val_loss: 0.6168 - val_tp: 316.0000 - val_fp: 406.0000 - val_tn: 6227.0000 - val_fn: 632.0000 - val_accuracy: 0.8631 - val_precision: 0.4377 - val_recall: 0.3333 - val_auc: 0.7689\n",
      "Epoch 5/10\n",
      "102/102 [==============================] - 21s 210ms/step - loss: 0.6032 - tp: 2768.0000 - fp: 4122.0000 - tn: 55772.0000 - fn: 5441.0000 - accuracy: 0.8596 - precision: 0.4017 - recall: 0.3372 - auc: 0.7649 - val_loss: 0.5894 - val_tp: 316.0000 - val_fp: 406.0000 - val_tn: 6227.0000 - val_fn: 632.0000 - val_accuracy: 0.8631 - val_precision: 0.4377 - val_recall: 0.3333 - val_auc: 0.7657\n",
      "Epoch 6/10\n",
      "102/102 [==============================] - 21s 207ms/step - loss: 0.5707 - tp: 2677.0000 - fp: 3917.0000 - tn: 55977.0000 - fn: 5532.0000 - accuracy: 0.8613 - precision: 0.4060 - recall: 0.3261 - auc: 0.7654 - val_loss: 0.5511 - val_tp: 316.0000 - val_fp: 406.0000 - val_tn: 6227.0000 - val_fn: 632.0000 - val_accuracy: 0.8631 - val_precision: 0.4377 - val_recall: 0.3333 - val_auc: 0.7647\n",
      "Epoch 7/10\n",
      "102/102 [==============================] - 22s 212ms/step - loss: 0.5249 - tp: 2465.0000 - fp: 3500.0000 - tn: 56394.0000 - fn: 5744.0000 - accuracy: 0.8643 - precision: 0.4132 - recall: 0.3003 - auc: 0.7645 - val_loss: 0.4995 - val_tp: 316.0000 - val_fp: 406.0000 - val_tn: 6227.0000 - val_fn: 632.0000 - val_accuracy: 0.8631 - val_precision: 0.4377 - val_recall: 0.3333 - val_auc: 0.7650\n",
      "Epoch 8/10\n",
      "102/102 [==============================] - 21s 210ms/step - loss: 0.4720 - tp: 2064.0000 - fp: 2711.0000 - tn: 57183.0000 - fn: 6145.0000 - accuracy: 0.8700 - precision: 0.4323 - recall: 0.2514 - auc: 0.7652 - val_loss: 0.4483 - val_tp: 177.0000 - val_fp: 184.0000 - val_tn: 6449.0000 - val_fn: 771.0000 - val_accuracy: 0.8740 - val_precision: 0.4903 - val_recall: 0.1867 - val_auc: 0.7665\n",
      "Epoch 9/10\n",
      "102/102 [==============================] - 21s 203ms/step - loss: 0.4257 - tp: 1658.0000 - fp: 2030.0000 - tn: 57864.0000 - fn: 6551.0000 - accuracy: 0.8740 - precision: 0.4496 - recall: 0.2020 - auc: 0.7697 - val_loss: 0.4091 - val_tp: 177.0000 - val_fp: 184.0000 - val_tn: 6449.0000 - val_fn: 771.0000 - val_accuracy: 0.8740 - val_precision: 0.4903 - val_recall: 0.1867 - val_auc: 0.7729\n",
      "Epoch 10/10\n",
      "102/102 [==============================] - 21s 211ms/step - loss: 0.3917 - tp: 1282.0000 - fp: 1511.0000 - tn: 58383.0000 - fn: 6927.0000 - accuracy: 0.8761 - precision: 0.4590 - recall: 0.1562 - auc: 0.7733 - val_loss: 0.3813 - val_tp: 177.0000 - val_fp: 184.0000 - val_tn: 6449.0000 - val_fn: 771.0000 - val_accuracy: 0.8740 - val_precision: 0.4903 - val_recall: 0.1867 - val_auc: 0.7771\n"
     ]
    }
   ],
   "source": [
    "model_word2vec.compile(optimizer='sgd', loss=\"binary_crossentropy\", metrics = METRICS)\n",
    "history_word2vec = model_word2vec.fit(padded_docs_train,y_train,\n",
    "                        epochs = 10,\n",
    "                        verbose = 1, validation_split = 0.1)\n",
    "\n"
   ]
  },
  {
   "cell_type": "code",
   "execution_count": 69,
   "id": "6030e758",
   "metadata": {
    "execution": {
     "iopub.execute_input": "2022-09-09T05:16:33.841313Z",
     "iopub.status.busy": "2022-09-09T05:16:33.840237Z",
     "iopub.status.idle": "2022-09-09T05:16:36.536145Z",
     "shell.execute_reply": "2022-09-09T05:16:36.534908Z"
    },
    "papermill": {
     "duration": 2.947723,
     "end_time": "2022-09-09T05:16:36.538775",
     "exception": false,
     "start_time": "2022-09-09T05:16:33.591052",
     "status": "completed"
    },
    "tags": []
   },
   "outputs": [
    {
     "name": "stdout",
     "output_type": "stream",
     "text": [
      "38/38 [==============================] - 3s 69ms/step - loss: 0.3761 - tp: 580.0000 - fp: 622.0000 - tn: 21575.0000 - fn: 2465.0000 - accuracy: 0.8777 - precision: 0.4825 - recall: 0.1905 - auc: 0.7884\n"
     ]
    },
    {
     "data": {
      "text/plain": [
       "[0.37611714005470276,\n",
       " 580.0,\n",
       " 622.0,\n",
       " 21575.0,\n",
       " 2465.0,\n",
       " 0.877703845500946,\n",
       " 0.4825291037559509,\n",
       " 0.190476194024086,\n",
       " 0.7883800268173218]"
      ]
     },
     "execution_count": 69,
     "metadata": {},
     "output_type": "execute_result"
    }
   ],
   "source": [
    "model_word2vec.evaluate(padded_docs_test, y_test)"
   ]
  },
  {
   "cell_type": "code",
   "execution_count": 70,
   "id": "41cecd8e",
   "metadata": {
    "execution": {
     "iopub.execute_input": "2022-09-09T05:16:37.090520Z",
     "iopub.status.busy": "2022-09-09T05:16:37.090093Z",
     "iopub.status.idle": "2022-09-09T05:16:37.312054Z",
     "shell.execute_reply": "2022-09-09T05:16:37.311039Z"
    },
    "papermill": {
     "duration": 0.47202,
     "end_time": "2022-09-09T05:16:37.314648",
     "exception": false,
     "start_time": "2022-09-09T05:16:36.842628",
     "status": "completed"
    },
    "tags": []
   },
   "outputs": [
    {
     "data": {
      "image/png": "[encoded data removed]",
      "text/plain": [
       "<Figure size 432x288 with 1 Axes>"
      ]
     },
     "metadata": {
      "needs_background": "light"
     },
     "output_type": "display_data"
    }
   ],
   "source": [
    "plt.plot(history_word2vec.history['loss'])\n",
    "plt.plot(history_word2vec.history['val_loss'])\n",
    "plt.title(' Word2Vec Embeddings model loss')\n",
    "plt.ylabel('loss')\n",
    "plt.xlabel('epoch')\n",
    "plt.legend(['train', 'validation'], loc='upper left')\n",
    "plt.show()"
   ]
  },
  {
   "cell_type": "code",
   "execution_count": 71,
   "id": "6bd2aa3c",
   "metadata": {
    "execution": {
     "iopub.execute_input": "2022-09-09T05:16:37.805797Z",
     "iopub.status.busy": "2022-09-09T05:16:37.805359Z",
     "iopub.status.idle": "2022-09-09T05:16:46.155450Z",
     "shell.execute_reply": "2022-09-09T05:16:46.153706Z"
    },
    "papermill": {
     "duration": 8.598561,
     "end_time": "2022-09-09T05:16:46.158128",
     "exception": false,
     "start_time": "2022-09-09T05:16:37.559567",
     "status": "completed"
    },
    "tags": []
   },
   "outputs": [
    {
     "name": "stderr",
     "output_type": "stream",
     "text": [
      "64701it [00:04, 13205.57it/s]"
     ]
    },
    {
     "name": "stdout",
     "output_type": "stream",
     "text": [
      "['the', 'united']\n",
      "300\n"
     ]
    },
    {
     "name": "stderr",
     "output_type": "stream",
     "text": [
      "108404it [00:08, 14156.86it/s]"
     ]
    },
    {
     "name": "stdout",
     "output_type": "stream",
     "text": [
      "['the', 'national']\n",
      "300\n"
     ]
    },
    {
     "name": "stderr",
     "output_type": "stream",
     "text": [
      "111052it [00:08, 13332.67it/s]"
     ]
    },
    {
     "name": "stdout",
     "output_type": "stream",
     "text": [
      "['of', 'thrust']\n",
      "300\n",
      "Loaded 110995 word vectors.\n"
     ]
    },
    {
     "name": "stderr",
     "output_type": "stream",
     "text": [
      "\n"
     ]
    }
   ],
   "source": [
    "from tqdm import tqdm\n",
    "\n",
    "\n",
    "embeddings_index_fast_text = dict()\n",
    "f = open('../input/fasttext/wiki.simple.vec')\n",
    "\n",
    "for line in tqdm(f):\n",
    "    try:\n",
    "        # split up line into an indexed array\n",
    "        values = line.split()\n",
    "        # first index is word\n",
    "        word = values[0]\n",
    "        # store the rest of the values in the array as a new array\n",
    "        coefs = np.asarray(values[1:], dtype='float32')\n",
    "        # ignore values without headers as word\n",
    "        if len(coefs)==300:\n",
    "            embeddings_index_fast_text[word] = coefs #300 dimension\n",
    "        else:\n",
    "            continue\n",
    "    except:\n",
    "        # split up line into an indexed array\n",
    "        values = line.split()\n",
    "        # first index is word or sometimes the second as well\n",
    "        word = values[1]\n",
    "        # store the rest of the values in the array as a new array\n",
    "        coefs = np.asarray(values[2:], dtype='float32')\n",
    "        print(values[:2])\n",
    "        print(len(coefs))\n",
    "        embeddings_index_fast_text[word] = coefs #300 dimension\n",
    "f.close()\n",
    "print('Loaded %s word vectors.' % len(embeddings_index_fast_text))"
   ]
  },
  {
   "cell_type": "code",
   "execution_count": 72,
   "id": "1d041097",
   "metadata": {
    "execution": {
     "iopub.execute_input": "2022-09-09T05:16:46.665126Z",
     "iopub.status.busy": "2022-09-09T05:16:46.664676Z",
     "iopub.status.idle": "2022-09-09T05:16:46.806669Z",
     "shell.execute_reply": "2022-09-09T05:16:46.805341Z"
    },
    "papermill": {
     "duration": 0.396932,
     "end_time": "2022-09-09T05:16:46.809541",
     "exception": false,
     "start_time": "2022-09-09T05:16:46.412609",
     "status": "completed"
    },
    "tags": []
   },
   "outputs": [
    {
     "name": "stdout",
     "output_type": "stream",
     "text": [
      "18664\n",
      "Converted 15780 words (2883 misses)\n"
     ]
    }
   ],
   "source": [
    "num_words = min(max_features, len(word_index)) + 1\n",
    "print(num_words)\n",
    "\n",
    "hits = 0\n",
    "misses = 0\n",
    "embedding_dim = 300\n",
    "\n",
    "\n",
    "embedding_matrix_fasttext = np.zeros((num_words, embedding_dim))\n",
    "\n",
    "\n",
    "for word, i in word_index.items():\n",
    "    if i > max_features:\n",
    "        continue\n",
    "    embedding_vector = embeddings_index_fast_text.get(word)\n",
    "    if embedding_vector is not None:\n",
    "   \n",
    "        embedding_matrix_fasttext[i] = embedding_vector\n",
    "        hits += 1\n",
    "    else:\n",
    "       \n",
    "        embedding_matrix_fasttext[i] = np.random.randn(embedding_dim)\n",
    "        misses += 1 \n",
    "print(\"Converted %d words (%d misses)\" % (hits, misses))"
   ]
  },
  {
   "cell_type": "code",
   "execution_count": 73,
   "id": "f2bb1bbc",
   "metadata": {
    "execution": {
     "iopub.execute_input": "2022-09-09T05:16:47.369813Z",
     "iopub.status.busy": "2022-09-09T05:16:47.369416Z",
     "iopub.status.idle": "2022-09-09T05:16:47.749067Z",
     "shell.execute_reply": "2022-09-09T05:16:47.746353Z"
    },
    "papermill": {
     "duration": 0.692714,
     "end_time": "2022-09-09T05:16:47.752521",
     "exception": false,
     "start_time": "2022-09-09T05:16:47.059807",
     "status": "completed"
    },
    "tags": []
   },
   "outputs": [
    {
     "name": "stdout",
     "output_type": "stream",
     "text": [
      "Model: \"sequential_3\"\n",
      "_________________________________________________________________\n",
      "Layer (type)                 Output Shape              Param #   \n",
      "=================================================================\n",
      "embedding_3 (Embedding)      (None, 175, 300)          5599200   \n",
      "_________________________________________________________________\n",
      "lstm_3 (LSTM)                (None, 128)               219648    \n",
      "_________________________________________________________________\n",
      "dropout_3 (Dropout)          (None, 128)               0         \n",
      "_________________________________________________________________\n",
      "dense_3 (Dense)              (None, 21)                2709      \n",
      "_________________________________________________________________\n",
      "flatten_3 (Flatten)          (None, 21)                0         \n",
      "=================================================================\n",
      "Total params: 5,821,557\n",
      "Trainable params: 222,357\n",
      "Non-trainable params: 5,599,200\n",
      "_________________________________________________________________\n"
     ]
    }
   ],
   "source": [
    "model_fast_text = keras.Sequential()\n",
    "# Configuring the parameters embeddings_initializer=Constant(embedding_matrix)\n",
    "model_fast_text.add(layers.Embedding(input_dim = vocab_size, output_dim = 300,weights = [embedding_matrix_fasttext],input_length=175,trainable=False))\n",
    "model_fast_text.add(layers.LSTM(128)) \n",
    "model_fast_text.add(layers.Dropout(0.1))\n",
    "model_fast_text.add(layers.Dense(units=21, activation='sigmoid'))\n",
    "model_fast_text.add(Flatten())\n",
    "\n",
    "\n",
    "model_fast_text.summary()"
   ]
  },
  {
   "cell_type": "code",
   "execution_count": 74,
   "id": "227b1fe1",
   "metadata": {
    "execution": {
     "iopub.execute_input": "2022-09-09T05:16:48.300724Z",
     "iopub.status.busy": "2022-09-09T05:16:48.299949Z",
     "iopub.status.idle": "2022-09-09T05:20:30.545187Z",
     "shell.execute_reply": "2022-09-09T05:20:30.543728Z"
    },
    "papermill": {
     "duration": 222.509046,
     "end_time": "2022-09-09T05:20:30.548247",
     "exception": false,
     "start_time": "2022-09-09T05:16:48.039201",
     "status": "completed"
    },
    "tags": []
   },
   "outputs": [
    {
     "name": "stdout",
     "output_type": "stream",
     "text": [
      "Epoch 1/10\n",
      "102/102 [==============================] - 26s 221ms/step - loss: 0.6825 - tp: 686.0000 - fp: 1004.0000 - tn: 81087.0000 - fn: 10568.0000 - accuracy: 0.8760 - precision: 0.4059 - recall: 0.0610 - auc: 0.5919 - val_loss: 0.6718 - val_tp: 2.0000 - val_fp: 9.0000 - val_tn: 6624.0000 - val_fn: 946.0000 - val_accuracy: 0.8740 - val_precision: 0.1818 - val_recall: 0.0021 - val_auc: 0.6358\n",
      "Epoch 2/10\n",
      "102/102 [==============================] - 22s 213ms/step - loss: 0.6611 - tp: 73.0000 - fp: 184.0000 - tn: 59710.0000 - fn: 8136.0000 - accuracy: 0.8778 - precision: 0.2840 - recall: 0.0089 - auc: 0.6233 - val_loss: 0.6502 - val_tp: 0.0000e+00 - val_fp: 3.0000 - val_tn: 6630.0000 - val_fn: 948.0000 - val_accuracy: 0.8746 - val_precision: 0.0000e+00 - val_recall: 0.0000e+00 - val_auc: 0.6498\n",
      "Epoch 3/10\n",
      "102/102 [==============================] - 22s 213ms/step - loss: 0.6385 - tp: 49.0000 - fp: 136.0000 - tn: 59758.0000 - fn: 8160.0000 - accuracy: 0.8782 - precision: 0.2649 - recall: 0.0060 - auc: 0.6336 - val_loss: 0.6265 - val_tp: 0.0000e+00 - val_fp: 1.0000 - val_tn: 6632.0000 - val_fn: 948.0000 - val_accuracy: 0.8748 - val_precision: 0.0000e+00 - val_recall: 0.0000e+00 - val_auc: 0.6507\n",
      "Epoch 4/10\n",
      "102/102 [==============================] - 21s 207ms/step - loss: 0.6120 - tp: 68.0000 - fp: 150.0000 - tn: 59744.0000 - fn: 8141.0000 - accuracy: 0.8783 - precision: 0.3119 - recall: 0.0083 - auc: 0.6376 - val_loss: 0.5968 - val_tp: 0.0000e+00 - val_fp: 0.0000e+00 - val_tn: 6633.0000 - val_fn: 948.0000 - val_accuracy: 0.8750 - val_precision: 0.0000e+00 - val_recall: 0.0000e+00 - val_auc: 0.6561\n",
      "Epoch 5/10\n",
      "102/102 [==============================] - 22s 214ms/step - loss: 0.5769 - tp: 65.0000 - fp: 174.0000 - tn: 59720.0000 - fn: 8144.0000 - accuracy: 0.8779 - precision: 0.2720 - recall: 0.0079 - auc: 0.6392 - val_loss: 0.5544 - val_tp: 0.0000e+00 - val_fp: 0.0000e+00 - val_tn: 6633.0000 - val_fn: 948.0000 - val_accuracy: 0.8750 - val_precision: 0.0000e+00 - val_recall: 0.0000e+00 - val_auc: 0.6569\n",
      "Epoch 6/10\n",
      "102/102 [==============================] - 22s 214ms/step - loss: 0.5248 - tp: 69.0000 - fp: 145.0000 - tn: 59749.0000 - fn: 8140.0000 - accuracy: 0.8783 - precision: 0.3224 - recall: 0.0084 - auc: 0.6466 - val_loss: 0.4940 - val_tp: 0.0000e+00 - val_fp: 0.0000e+00 - val_tn: 6633.0000 - val_fn: 948.0000 - val_accuracy: 0.8750 - val_precision: 0.0000e+00 - val_recall: 0.0000e+00 - val_auc: 0.6704\n",
      "Epoch 7/10\n",
      "102/102 [==============================] - 21s 207ms/step - loss: 0.4634 - tp: 71.0000 - fp: 134.0000 - tn: 59760.0000 - fn: 8138.0000 - accuracy: 0.8785 - precision: 0.3463 - recall: 0.0086 - auc: 0.6766 - val_loss: 0.4360 - val_tp: 0.0000e+00 - val_fp: 0.0000e+00 - val_tn: 6633.0000 - val_fn: 948.0000 - val_accuracy: 0.8750 - val_precision: 0.0000e+00 - val_recall: 0.0000e+00 - val_auc: 0.7032\n",
      "Epoch 8/10\n",
      "102/102 [==============================] - 22s 213ms/step - loss: 0.4131 - tp: 42.0000 - fp: 58.0000 - tn: 59836.0000 - fn: 8167.0000 - accuracy: 0.8792 - precision: 0.4200 - recall: 0.0051 - auc: 0.7116 - val_loss: 0.3954 - val_tp: 0.0000e+00 - val_fp: 0.0000e+00 - val_tn: 6633.0000 - val_fn: 948.0000 - val_accuracy: 0.8750 - val_precision: 0.0000e+00 - val_recall: 0.0000e+00 - val_auc: 0.7337\n",
      "Epoch 9/10\n",
      "102/102 [==============================] - 22s 219ms/step - loss: 0.3797 - tp: 19.0000 - fp: 35.0000 - tn: 59859.0000 - fn: 8190.0000 - accuracy: 0.8792 - precision: 0.3519 - recall: 0.0023 - auc: 0.7325 - val_loss: 0.3692 - val_tp: 0.0000e+00 - val_fp: 0.0000e+00 - val_tn: 6633.0000 - val_fn: 948.0000 - val_accuracy: 0.8750 - val_precision: 0.0000e+00 - val_recall: 0.0000e+00 - val_auc: 0.7507\n",
      "Epoch 10/10\n",
      "102/102 [==============================] - 22s 219ms/step - loss: 0.3577 - tp: 25.0000 - fp: 26.0000 - tn: 59868.0000 - fn: 8184.0000 - accuracy: 0.8794 - precision: 0.4902 - recall: 0.0030 - auc: 0.7479 - val_loss: 0.3521 - val_tp: 0.0000e+00 - val_fp: 0.0000e+00 - val_tn: 6633.0000 - val_fn: 948.0000 - val_accuracy: 0.8750 - val_precision: 0.0000e+00 - val_recall: 0.0000e+00 - val_auc: 0.7666\n"
     ]
    }
   ],
   "source": [
    "model_fast_text.compile(optimizer='sgd', loss=\"binary_crossentropy\", metrics = METRICS)\n",
    "history_fast_text = model_fast_text.fit(padded_docs_train,y_train,\n",
    "                        epochs = 10,\n",
    "                        verbose = 1, validation_split = 0.1)"
   ]
  },
  {
   "cell_type": "code",
   "execution_count": 75,
   "id": "d956efc3",
   "metadata": {
    "execution": {
     "iopub.execute_input": "2022-09-09T05:20:31.225292Z",
     "iopub.status.busy": "2022-09-09T05:20:31.224651Z",
     "iopub.status.idle": "2022-09-09T05:20:31.433411Z",
     "shell.execute_reply": "2022-09-09T05:20:31.431788Z"
    },
    "papermill": {
     "duration": 0.550711,
     "end_time": "2022-09-09T05:20:31.436465",
     "exception": false,
     "start_time": "2022-09-09T05:20:30.885754",
     "status": "completed"
    },
    "tags": []
   },
   "outputs": [
    {
     "data": {
      "image/png": "[encoded data removed]",
      "text/plain": [
       "<Figure size 432x288 with 1 Axes>"
      ]
     },
     "metadata": {
      "needs_background": "light"
     },
     "output_type": "display_data"
    }
   ],
   "source": [
    "plt.plot(history_fast_text.history['loss'])\n",
    "plt.plot(history_fast_text.history['val_loss'])\n",
    "plt.title('fast_text Embeddings model loss')\n",
    "plt.ylabel('loss')\n",
    "plt.xlabel('epoch')\n",
    "plt.legend(['train', 'validation'], loc='upper left')\n",
    "plt.show()"
   ]
  },
  {
   "cell_type": "code",
   "execution_count": 76,
   "id": "ce330431",
   "metadata": {
    "execution": {
     "iopub.execute_input": "2022-09-09T05:20:32.093826Z",
     "iopub.status.busy": "2022-09-09T05:20:32.093422Z",
     "iopub.status.idle": "2022-09-09T05:20:34.734845Z",
     "shell.execute_reply": "2022-09-09T05:20:34.733429Z"
    },
    "papermill": {
     "duration": 2.969682,
     "end_time": "2022-09-09T05:20:34.737439",
     "exception": false,
     "start_time": "2022-09-09T05:20:31.767757",
     "status": "completed"
    },
    "tags": []
   },
   "outputs": [
    {
     "name": "stdout",
     "output_type": "stream",
     "text": [
      "38/38 [==============================] - 3s 67ms/step - loss: 0.3474 - tp: 0.0000e+00 - fp: 0.0000e+00 - tn: 22197.0000 - fn: 3045.0000 - accuracy: 0.8794 - precision: 0.0000e+00 - recall: 0.0000e+00 - auc: 0.7690\n"
     ]
    },
    {
     "data": {
      "text/plain": [
       "[0.34741678833961487,\n",
       " 0.0,\n",
       " 0.0,\n",
       " 22197.0,\n",
       " 3045.0,\n",
       " 0.8793675899505615,\n",
       " 0.0,\n",
       " 0.0,\n",
       " 0.7689993977546692]"
      ]
     },
     "execution_count": 76,
     "metadata": {},
     "output_type": "execute_result"
    }
   ],
   "source": [
    "model_fast_text.evaluate(padded_docs_test, y_test)"
   ]
  },
  {
   "cell_type": "code",
   "execution_count": 77,
   "id": "c28a522a",
   "metadata": {
    "execution": {
     "iopub.execute_input": "2022-09-09T05:20:35.443463Z",
     "iopub.status.busy": "2022-09-09T05:20:35.442697Z",
     "iopub.status.idle": "2022-09-09T05:20:35.612549Z",
     "shell.execute_reply": "2022-09-09T05:20:35.611287Z"
    },
    "papermill": {
     "duration": 0.497548,
     "end_time": "2022-09-09T05:20:35.615560",
     "exception": false,
     "start_time": "2022-09-09T05:20:35.118012",
     "status": "completed"
    },
    "tags": []
   },
   "outputs": [
    {
     "data": {
      "image/png": "[encoded data removed]",
      "text/plain": [
       "<Figure size 432x288 with 1 Axes>"
      ]
     },
     "metadata": {
      "needs_background": "light"
     },
     "output_type": "display_data"
    }
   ],
   "source": [
    "wordCount = {'word2vec':15645,'glove':17850,'fasttext':15755}\n",
    "\n",
    "ind = np.arange(0,3,1)  # the x locations for the groups\n",
    "width = 0.35       # the width of the bars\n",
    "\n",
    "plt.title('Number of common words used in different embeddings')\n",
    "embNames = list(wordCount.keys())\n",
    "embVals = list(wordCount.values())\n",
    "plt.barh(ind,embVals,align='center', height=0.5, color='m',tick_label=embNames)\n",
    "plt.show()"
   ]
  }
 ],
 "metadata": {
  "kernelspec": {
   "display_name": "Python 3",
   "language": "python",
   "name": "python3"
  },
  "language_info": {
   "codemirror_mode": {
    "name": "ipython",
    "version": 3
   },
   "file_extension": ".py",
   "mimetype": "text/x-python",
   "name": "python",
   "nbconvert_exporter": "python",
   "pygments_lexer": "ipython3",
   "version": "3.7.12"
  },
  "papermill": {
   "default_parameters": {},
   "duration": 990.990202,
   "end_time": "2022-09-09T05:20:38.560672",
   "environment_variables": {},
   "exception": null,
   "input_path": "__notebook__.ipynb",
   "output_path": "__notebook__.ipynb",
   "parameters": {},
   "start_time": "2022-09-09T05:04:07.570470",
   "version": "2.3.4"
  }
 },
 "nbformat": 4,
 "nbformat_minor": 5
}
