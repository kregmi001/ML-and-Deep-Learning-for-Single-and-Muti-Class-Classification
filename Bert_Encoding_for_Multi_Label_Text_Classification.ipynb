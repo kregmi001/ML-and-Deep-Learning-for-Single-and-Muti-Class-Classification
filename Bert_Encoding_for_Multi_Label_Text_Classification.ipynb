{
  "metadata": {
    "kernelspec": {
      "language": "python",
      "display_name": "Python 3",
      "name": "python3"
    },
    "language_info": {
      "name": "python",
      "version": "3.7.12",
      "mimetype": "text/x-python",
      "codemirror_mode": {
        "name": "ipython",
        "version": 3
      },
      "pygments_lexer": "ipython3",
      "nbconvert_exporter": "python",
      "file_extension": ".py"
    },
    "colab": {
      "provenance": [],
      "collapsed_sections": []
    }
  },
  "nbformat_minor": 0,
  "nbformat": 4,
  "cells": [
    {
      "cell_type": "code",
      "source": [
        "# This Python 3 environment comes with many helpful analytics libraries installed\n",
        "# It is defined by the kaggle/python Docker image: https://github.com/kaggle/docker-python\n",
        "# For example, here's several helpful packages to load\n",
        "\n",
        "import numpy as np # linear algebra\n",
        "import pandas as pd # data processing, CSV file I/O (e.g. pd.read_csv)\n",
        "import seaborn as sns\n",
        "import matplotlib.pyplot as plt\n",
        "import ast\n",
        "from sklearn.model_selection import train_test_split\n",
        "import tensorflow as tf\n"
      ],
      "metadata": {
        "_uuid": "8f2839f25d086af736a60e9eeb907d3b93b6e0e5",
        "_cell_guid": "b1076dfc-b9ad-4769-8c92-a6c4dae69d19",
        "execution": {
          "iopub.status.busy": "2022-08-10T23:36:29.243977Z",
          "iopub.execute_input": "2022-08-10T23:36:29.244475Z",
          "iopub.status.idle": "2022-08-10T23:36:29.279101Z",
          "shell.execute_reply.started": "2022-08-10T23:36:29.244427Z",
          "shell.execute_reply": "2022-08-10T23:36:29.278038Z"
        },
        "trusted": true,
        "id": "cejUpINFNUHM"
      },
      "execution_count": null,
      "outputs": []
    },
    {
      "cell_type": "code",
      "source": [
        "from google.colab import drive\n",
        "drive.mount('/content/drive/')"
      ],
      "metadata": {
        "id": "2aRMHR68vZvg",
        "colab": {
          "base_uri": "https://localhost:8080/"
        },
        "outputId": "f6d54ac1-8552-4356-88ec-b3db7c52ad69"
      },
      "execution_count": null,
      "outputs": [
        {
          "output_type": "stream",
          "name": "stdout",
          "text": [
            "Mounted at /content/drive/\n"
          ]
        }
      ]
    },
    {
      "cell_type": "code",
      "source": [
        "movies_v2 = pd.read_csv('/content/drive/My Drive/bertmodel/tmdb_5000_movies.csv')  \n",
        "credits_v2 = pd.read_csv('/content/drive/My Drive/bertmodel/tmdb_5000_credits.csv')\n",
        "movies_v2 = movies_v2.merge(credits_v2,on='title')\n",
        "\n",
        "\n",
        "movies_clean = movies_v2[['title','keywords','cast','popularity','overview','genres']]\n",
        "movies_clean.dropna(inplace=True)\n",
        "movies_clean.head(5)"
      ],
      "metadata": {
        "id": "MHv_9YOXuSKe",
        "colab": {
          "base_uri": "https://localhost:8080/",
          "height": 446
        },
        "outputId": "16ca6c75-fcf9-4ad2-9413-a31764cc195e"
      },
      "execution_count": null,
      "outputs": [
        {
          "output_type": "stream",
          "name": "stderr",
          "text": [
            "/usr/local/lib/python3.7/dist-packages/pandas/util/_decorators.py:311: SettingWithCopyWarning: \n",
            "A value is trying to be set on a copy of a slice from a DataFrame\n",
            "\n",
            "See the caveats in the documentation: https://pandas.pydata.org/pandas-docs/stable/user_guide/indexing.html#returning-a-view-versus-a-copy\n",
            "  return func(*args, **kwargs)\n"
          ]
        },
        {
          "output_type": "execute_result",
          "data": {
            "text/plain": [
              "                                      title  \\\n",
              "0                                    Avatar   \n",
              "1  Pirates of the Caribbean: At World's End   \n",
              "2                                   Spectre   \n",
              "3                     The Dark Knight Rises   \n",
              "4                               John Carter   \n",
              "\n",
              "                                            keywords  \\\n",
              "0  [{\"id\": 1463, \"name\": \"culture clash\"}, {\"id\":...   \n",
              "1  [{\"id\": 270, \"name\": \"ocean\"}, {\"id\": 726, \"na...   \n",
              "2  [{\"id\": 470, \"name\": \"spy\"}, {\"id\": 818, \"name...   \n",
              "3  [{\"id\": 849, \"name\": \"dc comics\"}, {\"id\": 853,...   \n",
              "4  [{\"id\": 818, \"name\": \"based on novel\"}, {\"id\":...   \n",
              "\n",
              "                                                cast  popularity  \\\n",
              "0  [{\"cast_id\": 242, \"character\": \"Jake Sully\", \"...  150.437577   \n",
              "1  [{\"cast_id\": 4, \"character\": \"Captain Jack Spa...  139.082615   \n",
              "2  [{\"cast_id\": 1, \"character\": \"James Bond\", \"cr...  107.376788   \n",
              "3  [{\"cast_id\": 2, \"character\": \"Bruce Wayne / Ba...  112.312950   \n",
              "4  [{\"cast_id\": 5, \"character\": \"John Carter\", \"c...   43.926995   \n",
              "\n",
              "                                            overview  \\\n",
              "0  In the 22nd century, a paraplegic Marine is di...   \n",
              "1  Captain Barbossa, long believed to be dead, ha...   \n",
              "2  A cryptic message from Bond’s past sends him o...   \n",
              "3  Following the death of District Attorney Harve...   \n",
              "4  John Carter is a war-weary, former military ca...   \n",
              "\n",
              "                                              genres  \n",
              "0  [{\"id\": 28, \"name\": \"Action\"}, {\"id\": 12, \"nam...  \n",
              "1  [{\"id\": 12, \"name\": \"Adventure\"}, {\"id\": 14, \"...  \n",
              "2  [{\"id\": 28, \"name\": \"Action\"}, {\"id\": 12, \"nam...  \n",
              "3  [{\"id\": 28, \"name\": \"Action\"}, {\"id\": 80, \"nam...  \n",
              "4  [{\"id\": 28, \"name\": \"Action\"}, {\"id\": 12, \"nam...  "
            ],
            "text/html": [
              "\n",
              "  <div id=\"df-11c180a2-094e-4003-b620-b8f2a7e1d441\">\n",
              "    <div class=\"colab-df-container\">\n",
              "      <div>\n",
              "<style scoped>\n",
              "    .dataframe tbody tr th:only-of-type {\n",
              "        vertical-align: middle;\n",
              "    }\n",
              "\n",
              "    .dataframe tbody tr th {\n",
              "        vertical-align: top;\n",
              "    }\n",
              "\n",
              "    .dataframe thead th {\n",
              "        text-align: right;\n",
              "    }\n",
              "</style>\n",
              "<table border=\"1\" class=\"dataframe\">\n",
              "  <thead>\n",
              "    <tr style=\"text-align: right;\">\n",
              "      <th></th>\n",
              "      <th>title</th>\n",
              "      <th>keywords</th>\n",
              "      <th>cast</th>\n",
              "      <th>popularity</th>\n",
              "      <th>overview</th>\n",
              "      <th>genres</th>\n",
              "    </tr>\n",
              "  </thead>\n",
              "  <tbody>\n",
              "    <tr>\n",
              "      <th>0</th>\n",
              "      <td>Avatar</td>\n",
              "      <td>[{\"id\": 1463, \"name\": \"culture clash\"}, {\"id\":...</td>\n",
              "      <td>[{\"cast_id\": 242, \"character\": \"Jake Sully\", \"...</td>\n",
              "      <td>150.437577</td>\n",
              "      <td>In the 22nd century, a paraplegic Marine is di...</td>\n",
              "      <td>[{\"id\": 28, \"name\": \"Action\"}, {\"id\": 12, \"nam...</td>\n",
              "    </tr>\n",
              "    <tr>\n",
              "      <th>1</th>\n",
              "      <td>Pirates of the Caribbean: At World's End</td>\n",
              "      <td>[{\"id\": 270, \"name\": \"ocean\"}, {\"id\": 726, \"na...</td>\n",
              "      <td>[{\"cast_id\": 4, \"character\": \"Captain Jack Spa...</td>\n",
              "      <td>139.082615</td>\n",
              "      <td>Captain Barbossa, long believed to be dead, ha...</td>\n",
              "      <td>[{\"id\": 12, \"name\": \"Adventure\"}, {\"id\": 14, \"...</td>\n",
              "    </tr>\n",
              "    <tr>\n",
              "      <th>2</th>\n",
              "      <td>Spectre</td>\n",
              "      <td>[{\"id\": 470, \"name\": \"spy\"}, {\"id\": 818, \"name...</td>\n",
              "      <td>[{\"cast_id\": 1, \"character\": \"James Bond\", \"cr...</td>\n",
              "      <td>107.376788</td>\n",
              "      <td>A cryptic message from Bond’s past sends him o...</td>\n",
              "      <td>[{\"id\": 28, \"name\": \"Action\"}, {\"id\": 12, \"nam...</td>\n",
              "    </tr>\n",
              "    <tr>\n",
              "      <th>3</th>\n",
              "      <td>The Dark Knight Rises</td>\n",
              "      <td>[{\"id\": 849, \"name\": \"dc comics\"}, {\"id\": 853,...</td>\n",
              "      <td>[{\"cast_id\": 2, \"character\": \"Bruce Wayne / Ba...</td>\n",
              "      <td>112.312950</td>\n",
              "      <td>Following the death of District Attorney Harve...</td>\n",
              "      <td>[{\"id\": 28, \"name\": \"Action\"}, {\"id\": 80, \"nam...</td>\n",
              "    </tr>\n",
              "    <tr>\n",
              "      <th>4</th>\n",
              "      <td>John Carter</td>\n",
              "      <td>[{\"id\": 818, \"name\": \"based on novel\"}, {\"id\":...</td>\n",
              "      <td>[{\"cast_id\": 5, \"character\": \"John Carter\", \"c...</td>\n",
              "      <td>43.926995</td>\n",
              "      <td>John Carter is a war-weary, former military ca...</td>\n",
              "      <td>[{\"id\": 28, \"name\": \"Action\"}, {\"id\": 12, \"nam...</td>\n",
              "    </tr>\n",
              "  </tbody>\n",
              "</table>\n",
              "</div>\n",
              "      <button class=\"colab-df-convert\" onclick=\"convertToInteractive('df-11c180a2-094e-4003-b620-b8f2a7e1d441')\"\n",
              "              title=\"Convert this dataframe to an interactive table.\"\n",
              "              style=\"display:none;\">\n",
              "        \n",
              "  <svg xmlns=\"http://www.w3.org/2000/svg\" height=\"24px\"viewBox=\"0 0 24 24\"\n",
              "       width=\"24px\">\n",
              "    <path d=\"M0 0h24v24H0V0z\" fill=\"none\"/>\n",
              "    <path d=\"M18.56 5.44l.94 2.06.94-2.06 2.06-.94-2.06-.94-.94-2.06-.94 2.06-2.06.94zm-11 1L8.5 8.5l.94-2.06 2.06-.94-2.06-.94L8.5 2.5l-.94 2.06-2.06.94zm10 10l.94 2.06.94-2.06 2.06-.94-2.06-.94-.94-2.06-.94 2.06-2.06.94z\"/><path d=\"M17.41 7.96l-1.37-1.37c-.4-.4-.92-.59-1.43-.59-.52 0-1.04.2-1.43.59L10.3 9.45l-7.72 7.72c-.78.78-.78 2.05 0 2.83L4 21.41c.39.39.9.59 1.41.59.51 0 1.02-.2 1.41-.59l7.78-7.78 2.81-2.81c.8-.78.8-2.07 0-2.86zM5.41 20L4 18.59l7.72-7.72 1.47 1.35L5.41 20z\"/>\n",
              "  </svg>\n",
              "      </button>\n",
              "      \n",
              "  <style>\n",
              "    .colab-df-container {\n",
              "      display:flex;\n",
              "      flex-wrap:wrap;\n",
              "      gap: 12px;\n",
              "    }\n",
              "\n",
              "    .colab-df-convert {\n",
              "      background-color: #E8F0FE;\n",
              "      border: none;\n",
              "      border-radius: 50%;\n",
              "      cursor: pointer;\n",
              "      display: none;\n",
              "      fill: #1967D2;\n",
              "      height: 32px;\n",
              "      padding: 0 0 0 0;\n",
              "      width: 32px;\n",
              "    }\n",
              "\n",
              "    .colab-df-convert:hover {\n",
              "      background-color: #E2EBFA;\n",
              "      box-shadow: 0px 1px 2px rgba(60, 64, 67, 0.3), 0px 1px 3px 1px rgba(60, 64, 67, 0.15);\n",
              "      fill: #174EA6;\n",
              "    }\n",
              "\n",
              "    [theme=dark] .colab-df-convert {\n",
              "      background-color: #3B4455;\n",
              "      fill: #D2E3FC;\n",
              "    }\n",
              "\n",
              "    [theme=dark] .colab-df-convert:hover {\n",
              "      background-color: #434B5C;\n",
              "      box-shadow: 0px 1px 3px 1px rgba(0, 0, 0, 0.15);\n",
              "      filter: drop-shadow(0px 1px 2px rgba(0, 0, 0, 0.3));\n",
              "      fill: #FFFFFF;\n",
              "    }\n",
              "  </style>\n",
              "\n",
              "      <script>\n",
              "        const buttonEl =\n",
              "          document.querySelector('#df-11c180a2-094e-4003-b620-b8f2a7e1d441 button.colab-df-convert');\n",
              "        buttonEl.style.display =\n",
              "          google.colab.kernel.accessAllowed ? 'block' : 'none';\n",
              "\n",
              "        async function convertToInteractive(key) {\n",
              "          const element = document.querySelector('#df-11c180a2-094e-4003-b620-b8f2a7e1d441');\n",
              "          const dataTable =\n",
              "            await google.colab.kernel.invokeFunction('convertToInteractive',\n",
              "                                                     [key], {});\n",
              "          if (!dataTable) return;\n",
              "\n",
              "          const docLinkHtml = 'Like what you see? Visit the ' +\n",
              "            '<a target=\"_blank\" href=https://colab.research.google.com/notebooks/data_table.ipynb>data table notebook</a>'\n",
              "            + ' to learn more about interactive tables.';\n",
              "          element.innerHTML = '';\n",
              "          dataTable['output_type'] = 'display_data';\n",
              "          await google.colab.output.renderOutput(dataTable, element);\n",
              "          const docLink = document.createElement('div');\n",
              "          docLink.innerHTML = docLinkHtml;\n",
              "          element.appendChild(docLink);\n",
              "        }\n",
              "      </script>\n",
              "    </div>\n",
              "  </div>\n",
              "  "
            ]
          },
          "metadata": {},
          "execution_count": 2
        }
      ]
    },
    {
      "cell_type": "code",
      "source": [
        "def convert_1(text):\n",
        "    arr = []\n",
        "    for i in ast.literal_eval(text):\n",
        "            arr.append(i['name'])\n",
        "    return arr\n",
        "\n",
        "movies_clean['genres'] = movies_v2['genres'].apply(convert_1)\n",
        "\n",
        "movies_clean['genres'] = movies_clean['genres'].apply(lambda x: \", \".join(x))\n",
        "\n",
        "\n",
        "movies_summary = movies_clean[['title','overview','genres']]\n",
        "movies_summary = movies_summary.dropna(subset=['title','overview','genres'])\n",
        "\n",
        "movies_summary.head()"
      ],
      "metadata": {
        "id": "c6_PvmfauT2b",
        "colab": {
          "base_uri": "https://localhost:8080/",
          "height": 440
        },
        "outputId": "b6c60bd4-6bc4-4cec-ff59-a9c612bf18eb"
      },
      "execution_count": null,
      "outputs": [
        {
          "output_type": "stream",
          "name": "stderr",
          "text": [
            "/usr/local/lib/python3.7/dist-packages/ipykernel_launcher.py:7: SettingWithCopyWarning: \n",
            "A value is trying to be set on a copy of a slice from a DataFrame.\n",
            "Try using .loc[row_indexer,col_indexer] = value instead\n",
            "\n",
            "See the caveats in the documentation: https://pandas.pydata.org/pandas-docs/stable/user_guide/indexing.html#returning-a-view-versus-a-copy\n",
            "  import sys\n",
            "/usr/local/lib/python3.7/dist-packages/ipykernel_launcher.py:9: SettingWithCopyWarning: \n",
            "A value is trying to be set on a copy of a slice from a DataFrame.\n",
            "Try using .loc[row_indexer,col_indexer] = value instead\n",
            "\n",
            "See the caveats in the documentation: https://pandas.pydata.org/pandas-docs/stable/user_guide/indexing.html#returning-a-view-versus-a-copy\n",
            "  if __name__ == '__main__':\n"
          ]
        },
        {
          "output_type": "execute_result",
          "data": {
            "text/plain": [
              "                                      title  \\\n",
              "0                                    Avatar   \n",
              "1  Pirates of the Caribbean: At World's End   \n",
              "2                                   Spectre   \n",
              "3                     The Dark Knight Rises   \n",
              "4                               John Carter   \n",
              "\n",
              "                                            overview  \\\n",
              "0  In the 22nd century, a paraplegic Marine is di...   \n",
              "1  Captain Barbossa, long believed to be dead, ha...   \n",
              "2  A cryptic message from Bond’s past sends him o...   \n",
              "3  Following the death of District Attorney Harve...   \n",
              "4  John Carter is a war-weary, former military ca...   \n",
              "\n",
              "                                        genres  \n",
              "0  Action, Adventure, Fantasy, Science Fiction  \n",
              "1                   Adventure, Fantasy, Action  \n",
              "2                     Action, Adventure, Crime  \n",
              "3               Action, Crime, Drama, Thriller  \n",
              "4           Action, Adventure, Science Fiction  "
            ],
            "text/html": [
              "\n",
              "  <div id=\"df-c285c2a2-9055-42b0-95db-755bed7690ca\">\n",
              "    <div class=\"colab-df-container\">\n",
              "      <div>\n",
              "<style scoped>\n",
              "    .dataframe tbody tr th:only-of-type {\n",
              "        vertical-align: middle;\n",
              "    }\n",
              "\n",
              "    .dataframe tbody tr th {\n",
              "        vertical-align: top;\n",
              "    }\n",
              "\n",
              "    .dataframe thead th {\n",
              "        text-align: right;\n",
              "    }\n",
              "</style>\n",
              "<table border=\"1\" class=\"dataframe\">\n",
              "  <thead>\n",
              "    <tr style=\"text-align: right;\">\n",
              "      <th></th>\n",
              "      <th>title</th>\n",
              "      <th>overview</th>\n",
              "      <th>genres</th>\n",
              "    </tr>\n",
              "  </thead>\n",
              "  <tbody>\n",
              "    <tr>\n",
              "      <th>0</th>\n",
              "      <td>Avatar</td>\n",
              "      <td>In the 22nd century, a paraplegic Marine is di...</td>\n",
              "      <td>Action, Adventure, Fantasy, Science Fiction</td>\n",
              "    </tr>\n",
              "    <tr>\n",
              "      <th>1</th>\n",
              "      <td>Pirates of the Caribbean: At World's End</td>\n",
              "      <td>Captain Barbossa, long believed to be dead, ha...</td>\n",
              "      <td>Adventure, Fantasy, Action</td>\n",
              "    </tr>\n",
              "    <tr>\n",
              "      <th>2</th>\n",
              "      <td>Spectre</td>\n",
              "      <td>A cryptic message from Bond’s past sends him o...</td>\n",
              "      <td>Action, Adventure, Crime</td>\n",
              "    </tr>\n",
              "    <tr>\n",
              "      <th>3</th>\n",
              "      <td>The Dark Knight Rises</td>\n",
              "      <td>Following the death of District Attorney Harve...</td>\n",
              "      <td>Action, Crime, Drama, Thriller</td>\n",
              "    </tr>\n",
              "    <tr>\n",
              "      <th>4</th>\n",
              "      <td>John Carter</td>\n",
              "      <td>John Carter is a war-weary, former military ca...</td>\n",
              "      <td>Action, Adventure, Science Fiction</td>\n",
              "    </tr>\n",
              "  </tbody>\n",
              "</table>\n",
              "</div>\n",
              "      <button class=\"colab-df-convert\" onclick=\"convertToInteractive('df-c285c2a2-9055-42b0-95db-755bed7690ca')\"\n",
              "              title=\"Convert this dataframe to an interactive table.\"\n",
              "              style=\"display:none;\">\n",
              "        \n",
              "  <svg xmlns=\"http://www.w3.org/2000/svg\" height=\"24px\"viewBox=\"0 0 24 24\"\n",
              "       width=\"24px\">\n",
              "    <path d=\"M0 0h24v24H0V0z\" fill=\"none\"/>\n",
              "    <path d=\"M18.56 5.44l.94 2.06.94-2.06 2.06-.94-2.06-.94-.94-2.06-.94 2.06-2.06.94zm-11 1L8.5 8.5l.94-2.06 2.06-.94-2.06-.94L8.5 2.5l-.94 2.06-2.06.94zm10 10l.94 2.06.94-2.06 2.06-.94-2.06-.94-.94-2.06-.94 2.06-2.06.94z\"/><path d=\"M17.41 7.96l-1.37-1.37c-.4-.4-.92-.59-1.43-.59-.52 0-1.04.2-1.43.59L10.3 9.45l-7.72 7.72c-.78.78-.78 2.05 0 2.83L4 21.41c.39.39.9.59 1.41.59.51 0 1.02-.2 1.41-.59l7.78-7.78 2.81-2.81c.8-.78.8-2.07 0-2.86zM5.41 20L4 18.59l7.72-7.72 1.47 1.35L5.41 20z\"/>\n",
              "  </svg>\n",
              "      </button>\n",
              "      \n",
              "  <style>\n",
              "    .colab-df-container {\n",
              "      display:flex;\n",
              "      flex-wrap:wrap;\n",
              "      gap: 12px;\n",
              "    }\n",
              "\n",
              "    .colab-df-convert {\n",
              "      background-color: #E8F0FE;\n",
              "      border: none;\n",
              "      border-radius: 50%;\n",
              "      cursor: pointer;\n",
              "      display: none;\n",
              "      fill: #1967D2;\n",
              "      height: 32px;\n",
              "      padding: 0 0 0 0;\n",
              "      width: 32px;\n",
              "    }\n",
              "\n",
              "    .colab-df-convert:hover {\n",
              "      background-color: #E2EBFA;\n",
              "      box-shadow: 0px 1px 2px rgba(60, 64, 67, 0.3), 0px 1px 3px 1px rgba(60, 64, 67, 0.15);\n",
              "      fill: #174EA6;\n",
              "    }\n",
              "\n",
              "    [theme=dark] .colab-df-convert {\n",
              "      background-color: #3B4455;\n",
              "      fill: #D2E3FC;\n",
              "    }\n",
              "\n",
              "    [theme=dark] .colab-df-convert:hover {\n",
              "      background-color: #434B5C;\n",
              "      box-shadow: 0px 1px 3px 1px rgba(0, 0, 0, 0.15);\n",
              "      filter: drop-shadow(0px 1px 2px rgba(0, 0, 0, 0.3));\n",
              "      fill: #FFFFFF;\n",
              "    }\n",
              "  </style>\n",
              "\n",
              "      <script>\n",
              "        const buttonEl =\n",
              "          document.querySelector('#df-c285c2a2-9055-42b0-95db-755bed7690ca button.colab-df-convert');\n",
              "        buttonEl.style.display =\n",
              "          google.colab.kernel.accessAllowed ? 'block' : 'none';\n",
              "\n",
              "        async function convertToInteractive(key) {\n",
              "          const element = document.querySelector('#df-c285c2a2-9055-42b0-95db-755bed7690ca');\n",
              "          const dataTable =\n",
              "            await google.colab.kernel.invokeFunction('convertToInteractive',\n",
              "                                                     [key], {});\n",
              "          if (!dataTable) return;\n",
              "\n",
              "          const docLinkHtml = 'Like what you see? Visit the ' +\n",
              "            '<a target=\"_blank\" href=https://colab.research.google.com/notebooks/data_table.ipynb>data table notebook</a>'\n",
              "            + ' to learn more about interactive tables.';\n",
              "          element.innerHTML = '';\n",
              "          dataTable['output_type'] = 'display_data';\n",
              "          await google.colab.output.renderOutput(dataTable, element);\n",
              "          const docLink = document.createElement('div');\n",
              "          docLink.innerHTML = docLinkHtml;\n",
              "          element.appendChild(docLink);\n",
              "        }\n",
              "      </script>\n",
              "    </div>\n",
              "  </div>\n",
              "  "
            ]
          },
          "metadata": {},
          "execution_count": 3
        }
      ]
    },
    {
      "cell_type": "code",
      "source": [
        "import re\n",
        "def clean_text(text):\n",
        "    # remove backslash-apostrophe \n",
        "    text = re.sub(\"\\'\", \"\", text) \n",
        "    # remove everything except alphabets \n",
        "    text = re.sub(\"[^a-zA-Z]\",\" \",text) \n",
        "    # remove whitespaces \n",
        "    text = ' '.join(text.split()) \n",
        "    # convert text to lowercase \n",
        "    text = text.lower() \n",
        "    \n",
        "    return text\n",
        "\n",
        "movies_summary['clean_tag'] = movies_summary['overview'].apply(lambda x: clean_text(x))\n",
        "\n",
        "\n",
        "\n",
        "movies_summary_clean_1 = movies_summary[['title','clean_tag','genres']]\n",
        "\n",
        "movies_summary_clean_1.head(10)"
      ],
      "metadata": {
        "id": "S3D4qt6eucpT",
        "colab": {
          "base_uri": "https://localhost:8080/",
          "height": 363
        },
        "outputId": "24cb83f3-ff85-46f0-ebd0-71932f0b24fa"
      },
      "execution_count": null,
      "outputs": [
        {
          "output_type": "execute_result",
          "data": {
            "text/plain": [
              "                                      title  \\\n",
              "0                                    Avatar   \n",
              "1  Pirates of the Caribbean: At World's End   \n",
              "2                                   Spectre   \n",
              "3                     The Dark Knight Rises   \n",
              "4                               John Carter   \n",
              "5                              Spider-Man 3   \n",
              "6                                   Tangled   \n",
              "7                   Avengers: Age of Ultron   \n",
              "8    Harry Potter and the Half-Blood Prince   \n",
              "9        Batman v Superman: Dawn of Justice   \n",
              "\n",
              "                                           clean_tag  \\\n",
              "0  in the nd century a paraplegic marine is dispa...   \n",
              "1  captain barbossa long believed to be dead has ...   \n",
              "2  a cryptic message from bond s past sends him o...   \n",
              "3  following the death of district attorney harve...   \n",
              "4  john carter is a war weary former military cap...   \n",
              "5  the seemingly invincible spider man goes up ag...   \n",
              "6  when the kingdoms most wanted and most charmin...   \n",
              "7  when tony stark tries to jumpstart a dormant p...   \n",
              "8  as harry begins his sixth year at hogwarts he ...   \n",
              "9  fearing the actions of a god like super hero l...   \n",
              "\n",
              "                                        genres  \n",
              "0  Action, Adventure, Fantasy, Science Fiction  \n",
              "1                   Adventure, Fantasy, Action  \n",
              "2                     Action, Adventure, Crime  \n",
              "3               Action, Crime, Drama, Thriller  \n",
              "4           Action, Adventure, Science Fiction  \n",
              "5                   Fantasy, Action, Adventure  \n",
              "6                            Animation, Family  \n",
              "7           Action, Adventure, Science Fiction  \n",
              "8                   Adventure, Fantasy, Family  \n",
              "9                   Action, Adventure, Fantasy  "
            ],
            "text/html": [
              "\n",
              "  <div id=\"df-e0aaa538-ba20-400b-a421-7bb5319203b1\">\n",
              "    <div class=\"colab-df-container\">\n",
              "      <div>\n",
              "<style scoped>\n",
              "    .dataframe tbody tr th:only-of-type {\n",
              "        vertical-align: middle;\n",
              "    }\n",
              "\n",
              "    .dataframe tbody tr th {\n",
              "        vertical-align: top;\n",
              "    }\n",
              "\n",
              "    .dataframe thead th {\n",
              "        text-align: right;\n",
              "    }\n",
              "</style>\n",
              "<table border=\"1\" class=\"dataframe\">\n",
              "  <thead>\n",
              "    <tr style=\"text-align: right;\">\n",
              "      <th></th>\n",
              "      <th>title</th>\n",
              "      <th>clean_tag</th>\n",
              "      <th>genres</th>\n",
              "    </tr>\n",
              "  </thead>\n",
              "  <tbody>\n",
              "    <tr>\n",
              "      <th>0</th>\n",
              "      <td>Avatar</td>\n",
              "      <td>in the nd century a paraplegic marine is dispa...</td>\n",
              "      <td>Action, Adventure, Fantasy, Science Fiction</td>\n",
              "    </tr>\n",
              "    <tr>\n",
              "      <th>1</th>\n",
              "      <td>Pirates of the Caribbean: At World's End</td>\n",
              "      <td>captain barbossa long believed to be dead has ...</td>\n",
              "      <td>Adventure, Fantasy, Action</td>\n",
              "    </tr>\n",
              "    <tr>\n",
              "      <th>2</th>\n",
              "      <td>Spectre</td>\n",
              "      <td>a cryptic message from bond s past sends him o...</td>\n",
              "      <td>Action, Adventure, Crime</td>\n",
              "    </tr>\n",
              "    <tr>\n",
              "      <th>3</th>\n",
              "      <td>The Dark Knight Rises</td>\n",
              "      <td>following the death of district attorney harve...</td>\n",
              "      <td>Action, Crime, Drama, Thriller</td>\n",
              "    </tr>\n",
              "    <tr>\n",
              "      <th>4</th>\n",
              "      <td>John Carter</td>\n",
              "      <td>john carter is a war weary former military cap...</td>\n",
              "      <td>Action, Adventure, Science Fiction</td>\n",
              "    </tr>\n",
              "    <tr>\n",
              "      <th>5</th>\n",
              "      <td>Spider-Man 3</td>\n",
              "      <td>the seemingly invincible spider man goes up ag...</td>\n",
              "      <td>Fantasy, Action, Adventure</td>\n",
              "    </tr>\n",
              "    <tr>\n",
              "      <th>6</th>\n",
              "      <td>Tangled</td>\n",
              "      <td>when the kingdoms most wanted and most charmin...</td>\n",
              "      <td>Animation, Family</td>\n",
              "    </tr>\n",
              "    <tr>\n",
              "      <th>7</th>\n",
              "      <td>Avengers: Age of Ultron</td>\n",
              "      <td>when tony stark tries to jumpstart a dormant p...</td>\n",
              "      <td>Action, Adventure, Science Fiction</td>\n",
              "    </tr>\n",
              "    <tr>\n",
              "      <th>8</th>\n",
              "      <td>Harry Potter and the Half-Blood Prince</td>\n",
              "      <td>as harry begins his sixth year at hogwarts he ...</td>\n",
              "      <td>Adventure, Fantasy, Family</td>\n",
              "    </tr>\n",
              "    <tr>\n",
              "      <th>9</th>\n",
              "      <td>Batman v Superman: Dawn of Justice</td>\n",
              "      <td>fearing the actions of a god like super hero l...</td>\n",
              "      <td>Action, Adventure, Fantasy</td>\n",
              "    </tr>\n",
              "  </tbody>\n",
              "</table>\n",
              "</div>\n",
              "      <button class=\"colab-df-convert\" onclick=\"convertToInteractive('df-e0aaa538-ba20-400b-a421-7bb5319203b1')\"\n",
              "              title=\"Convert this dataframe to an interactive table.\"\n",
              "              style=\"display:none;\">\n",
              "        \n",
              "  <svg xmlns=\"http://www.w3.org/2000/svg\" height=\"24px\"viewBox=\"0 0 24 24\"\n",
              "       width=\"24px\">\n",
              "    <path d=\"M0 0h24v24H0V0z\" fill=\"none\"/>\n",
              "    <path d=\"M18.56 5.44l.94 2.06.94-2.06 2.06-.94-2.06-.94-.94-2.06-.94 2.06-2.06.94zm-11 1L8.5 8.5l.94-2.06 2.06-.94-2.06-.94L8.5 2.5l-.94 2.06-2.06.94zm10 10l.94 2.06.94-2.06 2.06-.94-2.06-.94-.94-2.06-.94 2.06-2.06.94z\"/><path d=\"M17.41 7.96l-1.37-1.37c-.4-.4-.92-.59-1.43-.59-.52 0-1.04.2-1.43.59L10.3 9.45l-7.72 7.72c-.78.78-.78 2.05 0 2.83L4 21.41c.39.39.9.59 1.41.59.51 0 1.02-.2 1.41-.59l7.78-7.78 2.81-2.81c.8-.78.8-2.07 0-2.86zM5.41 20L4 18.59l7.72-7.72 1.47 1.35L5.41 20z\"/>\n",
              "  </svg>\n",
              "      </button>\n",
              "      \n",
              "  <style>\n",
              "    .colab-df-container {\n",
              "      display:flex;\n",
              "      flex-wrap:wrap;\n",
              "      gap: 12px;\n",
              "    }\n",
              "\n",
              "    .colab-df-convert {\n",
              "      background-color: #E8F0FE;\n",
              "      border: none;\n",
              "      border-radius: 50%;\n",
              "      cursor: pointer;\n",
              "      display: none;\n",
              "      fill: #1967D2;\n",
              "      height: 32px;\n",
              "      padding: 0 0 0 0;\n",
              "      width: 32px;\n",
              "    }\n",
              "\n",
              "    .colab-df-convert:hover {\n",
              "      background-color: #E2EBFA;\n",
              "      box-shadow: 0px 1px 2px rgba(60, 64, 67, 0.3), 0px 1px 3px 1px rgba(60, 64, 67, 0.15);\n",
              "      fill: #174EA6;\n",
              "    }\n",
              "\n",
              "    [theme=dark] .colab-df-convert {\n",
              "      background-color: #3B4455;\n",
              "      fill: #D2E3FC;\n",
              "    }\n",
              "\n",
              "    [theme=dark] .colab-df-convert:hover {\n",
              "      background-color: #434B5C;\n",
              "      box-shadow: 0px 1px 3px 1px rgba(0, 0, 0, 0.15);\n",
              "      filter: drop-shadow(0px 1px 2px rgba(0, 0, 0, 0.3));\n",
              "      fill: #FFFFFF;\n",
              "    }\n",
              "  </style>\n",
              "\n",
              "      <script>\n",
              "        const buttonEl =\n",
              "          document.querySelector('#df-e0aaa538-ba20-400b-a421-7bb5319203b1 button.colab-df-convert');\n",
              "        buttonEl.style.display =\n",
              "          google.colab.kernel.accessAllowed ? 'block' : 'none';\n",
              "\n",
              "        async function convertToInteractive(key) {\n",
              "          const element = document.querySelector('#df-e0aaa538-ba20-400b-a421-7bb5319203b1');\n",
              "          const dataTable =\n",
              "            await google.colab.kernel.invokeFunction('convertToInteractive',\n",
              "                                                     [key], {});\n",
              "          if (!dataTable) return;\n",
              "\n",
              "          const docLinkHtml = 'Like what you see? Visit the ' +\n",
              "            '<a target=\"_blank\" href=https://colab.research.google.com/notebooks/data_table.ipynb>data table notebook</a>'\n",
              "            + ' to learn more about interactive tables.';\n",
              "          element.innerHTML = '';\n",
              "          dataTable['output_type'] = 'display_data';\n",
              "          await google.colab.output.renderOutput(dataTable, element);\n",
              "          const docLink = document.createElement('div');\n",
              "          docLink.innerHTML = docLinkHtml;\n",
              "          element.appendChild(docLink);\n",
              "        }\n",
              "      </script>\n",
              "    </div>\n",
              "  </div>\n",
              "  "
            ]
          },
          "metadata": {},
          "execution_count": 4
        }
      ]
    },
    {
      "cell_type": "code",
      "source": [
        "def remove_spaces(x):\n",
        "    x=x.split(\",\")\n",
        "    nospace=[]\n",
        "    for item in x:\n",
        "        item=item.lstrip()\n",
        "        nospace.append(item)\n",
        "    return (\",\").join(nospace)\n",
        "\n",
        "movies_summary_clean_1['genres']=movies_summary_clean_1['genres'].apply(remove_spaces)\n",
        "movies_summary_clean_1['genres']\n"
      ],
      "metadata": {
        "id": "c5mpewJ8ufQb",
        "colab": {
          "base_uri": "https://localhost:8080/"
        },
        "outputId": "922e0ba4-ff3b-4e5e-f904-b3dba221b880"
      },
      "execution_count": null,
      "outputs": [
        {
          "output_type": "stream",
          "name": "stderr",
          "text": [
            "/usr/local/lib/python3.7/dist-packages/ipykernel_launcher.py:9: SettingWithCopyWarning: \n",
            "A value is trying to be set on a copy of a slice from a DataFrame.\n",
            "Try using .loc[row_indexer,col_indexer] = value instead\n",
            "\n",
            "See the caveats in the documentation: https://pandas.pydata.org/pandas-docs/stable/user_guide/indexing.html#returning-a-view-versus-a-copy\n",
            "  if __name__ == '__main__':\n"
          ]
        },
        {
          "output_type": "execute_result",
          "data": {
            "text/plain": [
              "0       Action,Adventure,Fantasy,Science Fiction\n",
              "1                       Adventure,Fantasy,Action\n",
              "2                         Action,Adventure,Crime\n",
              "3                    Action,Crime,Drama,Thriller\n",
              "4               Action,Adventure,Science Fiction\n",
              "                          ...                   \n",
              "4804                       Action,Crime,Thriller\n",
              "4805                              Comedy,Romance\n",
              "4806               Comedy,Drama,Romance,TV Movie\n",
              "4807                                            \n",
              "4808                                 Documentary\n",
              "Name: genres, Length: 4806, dtype: object"
            ]
          },
          "metadata": {},
          "execution_count": 5
        }
      ]
    },
    {
      "cell_type": "code",
      "source": [
        "from sklearn.model_selection import train_test_split\n",
        "train, test = train_test_split(movies_summary_clean_1)\n",
        "\n",
        "from sklearn.feature_extraction.text import CountVectorizer"
      ],
      "metadata": {
        "id": "8F4qD4SeuzVu"
      },
      "execution_count": null,
      "outputs": []
    },
    {
      "cell_type": "code",
      "source": [
        "vectorizer = CountVectorizer(tokenizer = lambda x: x.split(\",\"), binary='true')\n",
        "y_train_text = train['genres']\n",
        "y_train = vectorizer.fit_transform(train['genres']).toarray()\n",
        "y_test = vectorizer.transform(test['genres']).toarray()\n",
        "print(y_train)\n",
        "\n",
        "y_train[0]"
      ],
      "metadata": {
        "id": "X5GxF3h9u18G",
        "colab": {
          "base_uri": "https://localhost:8080/"
        },
        "outputId": "ca14ed5b-235f-4057-a4c2-ad55e4469609"
      },
      "execution_count": null,
      "outputs": [
        {
          "output_type": "stream",
          "name": "stdout",
          "text": [
            "[[0 0 1 ... 0 0 0]\n",
            " [0 0 1 ... 0 0 0]\n",
            " [0 0 0 ... 0 0 0]\n",
            " ...\n",
            " [0 1 1 ... 0 0 0]\n",
            " [0 0 0 ... 0 0 0]\n",
            " [0 0 0 ... 0 0 1]]\n"
          ]
        },
        {
          "output_type": "execute_result",
          "data": {
            "text/plain": [
              "array([0, 0, 1, 0, 0, 0, 0, 1, 0, 1, 0, 0, 0, 0, 0, 1, 0, 0, 0, 0, 0])"
            ]
          },
          "metadata": {},
          "execution_count": 7
        }
      ]
    },
    {
      "cell_type": "code",
      "source": [
        "y_train_text[0]"
      ],
      "metadata": {
        "colab": {
          "base_uri": "https://localhost:8080/",
          "height": 35
        },
        "id": "aTuRC7Wg2I1i",
        "outputId": "df5ccd25-e8bf-442f-82cb-021e0a19e50d"
      },
      "execution_count": null,
      "outputs": [
        {
          "output_type": "execute_result",
          "data": {
            "text/plain": [
              "'Action,Adventure,Fantasy,Science Fiction'"
            ],
            "application/vnd.google.colaboratory.intrinsic+json": {
              "type": "string"
            }
          },
          "metadata": {},
          "execution_count": 10
        }
      ]
    },
    {
      "cell_type": "code",
      "source": [
        "y_train_text.value_counts()\n"
      ],
      "metadata": {
        "colab": {
          "base_uri": "https://localhost:8080/"
        },
        "id": "ZPvPXN3UYYuF",
        "outputId": "e8c574ed-0e87-4ba9-ae59-3d243655a418"
      },
      "execution_count": null,
      "outputs": [
        {
          "output_type": "execute_result",
          "data": {
            "text/plain": [
              "Drama                                      278\n",
              "Comedy                                     225\n",
              "Drama,Romance                              126\n",
              "Comedy,Romance                             110\n",
              "Comedy,Drama                               106\n",
              "                                          ... \n",
              "Action,Crime,Comedy                          1\n",
              "Mystery,Drama,Adventure                      1\n",
              "Horror,Drama,Science Fiction                 1\n",
              "Crime,Comedy,Adventure                       1\n",
              "Science Fiction,Animation,Comedy,Family      1\n",
              "Name: genres, Length: 980, dtype: int64"
            ]
          },
          "metadata": {},
          "execution_count": 11
        }
      ]
    },
    {
      "cell_type": "code",
      "source": [
        "train['genres']"
      ],
      "metadata": {
        "colab": {
          "base_uri": "https://localhost:8080/"
        },
        "id": "PUjvFz-qXuxR",
        "outputId": "dd96c4c0-9fc3-484e-c8cd-160bad5004a1"
      },
      "execution_count": null,
      "outputs": [
        {
          "output_type": "execute_result",
          "data": {
            "text/plain": [
              "22                     Adventure,Fantasy\n",
              "2724                Comedy,Drama,Romance\n",
              "2739                     Horror,Thriller\n",
              "4072                         Drama,Crime\n",
              "4366                      Drama,Thriller\n",
              "                      ...               \n",
              "2888               Drama,Horror,Thriller\n",
              "39      Adventure,Action,Science Fiction\n",
              "3659                        Comedy,Drama\n",
              "2433                              Family\n",
              "3108                               Drama\n",
              "Name: genres, Length: 3604, dtype: object"
            ]
          },
          "metadata": {},
          "execution_count": 12
        }
      ]
    },
    {
      "cell_type": "code",
      "source": [
        "import tensorflow as tf\n",
        "from tensorflow import keras\n",
        "from tensorflow.keras.preprocessing.text import Tokenizer\n",
        "from keras_preprocessing.sequence import pad_sequences\n",
        "from tensorflow.keras import layers\n",
        "from tensorflow.keras.layers import Flatten"
      ],
      "metadata": {
        "id": "0Y6cNyBSu4Nb"
      },
      "execution_count": null,
      "outputs": []
    },
    {
      "cell_type": "code",
      "source": [
        "test"
      ],
      "metadata": {
        "colab": {
          "base_uri": "https://localhost:8080/",
          "height": 424
        },
        "id": "qE-d4t1kzIXo",
        "outputId": "ca9ff421-ae7e-4bf4-8eb2-0a22141b9965"
      },
      "execution_count": null,
      "outputs": [
        {
          "output_type": "execute_result",
          "data": {
            "text/plain": [
              "                                     title  \\\n",
              "3848                          Evil Dead II   \n",
              "44                               Furious 7   \n",
              "2102                         The Conjuring   \n",
              "2939                    Invaders from Mars   \n",
              "153   Mission: Impossible - Ghost Protocol   \n",
              "...                                    ...   \n",
              "4586                           Quinceañera   \n",
              "106                        Shrek the Third   \n",
              "3161                               Red Dog   \n",
              "2778             The Widow of Saint-Pierre   \n",
              "657             Resident Evil: Retribution   \n",
              "\n",
              "                                              clean_tag  \\\n",
              "3848  ash williams and his girlfriend linda find a l...   \n",
              "44    deckard shaw seeks revenge against dominic tor...   \n",
              "2102  paranormal investigators ed and lorraine warre...   \n",
              "2939  in this remake of the classic s sf tale a boy ...   \n",
              "153   in the th installment of the mission impossibl...   \n",
              "...                                                 ...   \n",
              "4586  as magdalenas th birthday approaches her simpl...   \n",
              "106   the king of far far away has died and shrek an...   \n",
              "3161  based on the legendary true story of the red d...   \n",
              "2778  in on the isolated french island of saint pier...   \n",
              "657   the umbrella corporation s deadly t virus cont...   \n",
              "\n",
              "                                         genres  \n",
              "3848                      Horror,Comedy,Fantasy  \n",
              "44                                       Action  \n",
              "2102                            Horror,Thriller  \n",
              "2939                            Science Fiction  \n",
              "153                   Action,Thriller,Adventure  \n",
              "...                                         ...  \n",
              "4586                                      Drama  \n",
              "106   Fantasy,Adventure,Animation,Comedy,Family  \n",
              "3161                        Drama,Comedy,Family  \n",
              "2778                              Romance,Drama  \n",
              "657               Action,Horror,Science Fiction  \n",
              "\n",
              "[1202 rows x 3 columns]"
            ],
            "text/html": [
              "\n",
              "  <div id=\"df-05d29a04-01f3-4181-abeb-3247f1fa5c0a\">\n",
              "    <div class=\"colab-df-container\">\n",
              "      <div>\n",
              "<style scoped>\n",
              "    .dataframe tbody tr th:only-of-type {\n",
              "        vertical-align: middle;\n",
              "    }\n",
              "\n",
              "    .dataframe tbody tr th {\n",
              "        vertical-align: top;\n",
              "    }\n",
              "\n",
              "    .dataframe thead th {\n",
              "        text-align: right;\n",
              "    }\n",
              "</style>\n",
              "<table border=\"1\" class=\"dataframe\">\n",
              "  <thead>\n",
              "    <tr style=\"text-align: right;\">\n",
              "      <th></th>\n",
              "      <th>title</th>\n",
              "      <th>clean_tag</th>\n",
              "      <th>genres</th>\n",
              "    </tr>\n",
              "  </thead>\n",
              "  <tbody>\n",
              "    <tr>\n",
              "      <th>3848</th>\n",
              "      <td>Evil Dead II</td>\n",
              "      <td>ash williams and his girlfriend linda find a l...</td>\n",
              "      <td>Horror,Comedy,Fantasy</td>\n",
              "    </tr>\n",
              "    <tr>\n",
              "      <th>44</th>\n",
              "      <td>Furious 7</td>\n",
              "      <td>deckard shaw seeks revenge against dominic tor...</td>\n",
              "      <td>Action</td>\n",
              "    </tr>\n",
              "    <tr>\n",
              "      <th>2102</th>\n",
              "      <td>The Conjuring</td>\n",
              "      <td>paranormal investigators ed and lorraine warre...</td>\n",
              "      <td>Horror,Thriller</td>\n",
              "    </tr>\n",
              "    <tr>\n",
              "      <th>2939</th>\n",
              "      <td>Invaders from Mars</td>\n",
              "      <td>in this remake of the classic s sf tale a boy ...</td>\n",
              "      <td>Science Fiction</td>\n",
              "    </tr>\n",
              "    <tr>\n",
              "      <th>153</th>\n",
              "      <td>Mission: Impossible - Ghost Protocol</td>\n",
              "      <td>in the th installment of the mission impossibl...</td>\n",
              "      <td>Action,Thriller,Adventure</td>\n",
              "    </tr>\n",
              "    <tr>\n",
              "      <th>...</th>\n",
              "      <td>...</td>\n",
              "      <td>...</td>\n",
              "      <td>...</td>\n",
              "    </tr>\n",
              "    <tr>\n",
              "      <th>4586</th>\n",
              "      <td>Quinceañera</td>\n",
              "      <td>as magdalenas th birthday approaches her simpl...</td>\n",
              "      <td>Drama</td>\n",
              "    </tr>\n",
              "    <tr>\n",
              "      <th>106</th>\n",
              "      <td>Shrek the Third</td>\n",
              "      <td>the king of far far away has died and shrek an...</td>\n",
              "      <td>Fantasy,Adventure,Animation,Comedy,Family</td>\n",
              "    </tr>\n",
              "    <tr>\n",
              "      <th>3161</th>\n",
              "      <td>Red Dog</td>\n",
              "      <td>based on the legendary true story of the red d...</td>\n",
              "      <td>Drama,Comedy,Family</td>\n",
              "    </tr>\n",
              "    <tr>\n",
              "      <th>2778</th>\n",
              "      <td>The Widow of Saint-Pierre</td>\n",
              "      <td>in on the isolated french island of saint pier...</td>\n",
              "      <td>Romance,Drama</td>\n",
              "    </tr>\n",
              "    <tr>\n",
              "      <th>657</th>\n",
              "      <td>Resident Evil: Retribution</td>\n",
              "      <td>the umbrella corporation s deadly t virus cont...</td>\n",
              "      <td>Action,Horror,Science Fiction</td>\n",
              "    </tr>\n",
              "  </tbody>\n",
              "</table>\n",
              "<p>1202 rows × 3 columns</p>\n",
              "</div>\n",
              "      <button class=\"colab-df-convert\" onclick=\"convertToInteractive('df-05d29a04-01f3-4181-abeb-3247f1fa5c0a')\"\n",
              "              title=\"Convert this dataframe to an interactive table.\"\n",
              "              style=\"display:none;\">\n",
              "        \n",
              "  <svg xmlns=\"http://www.w3.org/2000/svg\" height=\"24px\"viewBox=\"0 0 24 24\"\n",
              "       width=\"24px\">\n",
              "    <path d=\"M0 0h24v24H0V0z\" fill=\"none\"/>\n",
              "    <path d=\"M18.56 5.44l.94 2.06.94-2.06 2.06-.94-2.06-.94-.94-2.06-.94 2.06-2.06.94zm-11 1L8.5 8.5l.94-2.06 2.06-.94-2.06-.94L8.5 2.5l-.94 2.06-2.06.94zm10 10l.94 2.06.94-2.06 2.06-.94-2.06-.94-.94-2.06-.94 2.06-2.06.94z\"/><path d=\"M17.41 7.96l-1.37-1.37c-.4-.4-.92-.59-1.43-.59-.52 0-1.04.2-1.43.59L10.3 9.45l-7.72 7.72c-.78.78-.78 2.05 0 2.83L4 21.41c.39.39.9.59 1.41.59.51 0 1.02-.2 1.41-.59l7.78-7.78 2.81-2.81c.8-.78.8-2.07 0-2.86zM5.41 20L4 18.59l7.72-7.72 1.47 1.35L5.41 20z\"/>\n",
              "  </svg>\n",
              "      </button>\n",
              "      \n",
              "  <style>\n",
              "    .colab-df-container {\n",
              "      display:flex;\n",
              "      flex-wrap:wrap;\n",
              "      gap: 12px;\n",
              "    }\n",
              "\n",
              "    .colab-df-convert {\n",
              "      background-color: #E8F0FE;\n",
              "      border: none;\n",
              "      border-radius: 50%;\n",
              "      cursor: pointer;\n",
              "      display: none;\n",
              "      fill: #1967D2;\n",
              "      height: 32px;\n",
              "      padding: 0 0 0 0;\n",
              "      width: 32px;\n",
              "    }\n",
              "\n",
              "    .colab-df-convert:hover {\n",
              "      background-color: #E2EBFA;\n",
              "      box-shadow: 0px 1px 2px rgba(60, 64, 67, 0.3), 0px 1px 3px 1px rgba(60, 64, 67, 0.15);\n",
              "      fill: #174EA6;\n",
              "    }\n",
              "\n",
              "    [theme=dark] .colab-df-convert {\n",
              "      background-color: #3B4455;\n",
              "      fill: #D2E3FC;\n",
              "    }\n",
              "\n",
              "    [theme=dark] .colab-df-convert:hover {\n",
              "      background-color: #434B5C;\n",
              "      box-shadow: 0px 1px 3px 1px rgba(0, 0, 0, 0.15);\n",
              "      filter: drop-shadow(0px 1px 2px rgba(0, 0, 0, 0.3));\n",
              "      fill: #FFFFFF;\n",
              "    }\n",
              "  </style>\n",
              "\n",
              "      <script>\n",
              "        const buttonEl =\n",
              "          document.querySelector('#df-05d29a04-01f3-4181-abeb-3247f1fa5c0a button.colab-df-convert');\n",
              "        buttonEl.style.display =\n",
              "          google.colab.kernel.accessAllowed ? 'block' : 'none';\n",
              "\n",
              "        async function convertToInteractive(key) {\n",
              "          const element = document.querySelector('#df-05d29a04-01f3-4181-abeb-3247f1fa5c0a');\n",
              "          const dataTable =\n",
              "            await google.colab.kernel.invokeFunction('convertToInteractive',\n",
              "                                                     [key], {});\n",
              "          if (!dataTable) return;\n",
              "\n",
              "          const docLinkHtml = 'Like what you see? Visit the ' +\n",
              "            '<a target=\"_blank\" href=https://colab.research.google.com/notebooks/data_table.ipynb>data table notebook</a>'\n",
              "            + ' to learn more about interactive tables.';\n",
              "          element.innerHTML = '';\n",
              "          dataTable['output_type'] = 'display_data';\n",
              "          await google.colab.output.renderOutput(dataTable, element);\n",
              "          const docLink = document.createElement('div');\n",
              "          docLink.innerHTML = docLinkHtml;\n",
              "          element.appendChild(docLink);\n",
              "        }\n",
              "      </script>\n",
              "    </div>\n",
              "  </div>\n",
              "  "
            ]
          },
          "metadata": {},
          "execution_count": 17
        }
      ]
    },
    {
      "cell_type": "code",
      "source": [
        "train['clean_tag'][0]"
      ],
      "metadata": {
        "colab": {
          "base_uri": "https://localhost:8080/",
          "height": 53
        },
        "id": "_ckb-1NpoXeC",
        "outputId": "68533f77-356b-480a-9482-aa4a400460ad"
      },
      "execution_count": null,
      "outputs": [
        {
          "output_type": "execute_result",
          "data": {
            "text/plain": [
              "'in the nd century a paraplegic marine is dispatched to the moon pandora on a unique mission but becomes torn between following orders and protecting an alien civilization'"
            ],
            "application/vnd.google.colaboratory.intrinsic+json": {
              "type": "string"
            }
          },
          "metadata": {},
          "execution_count": 23
        }
      ]
    },
    {
      "cell_type": "code",
      "source": [
        "max_features = 20000 # this is the number of words we care about\n",
        "\n",
        "\n",
        "vect=Tokenizer(num_words=max_features, split=' ', oov_token='<unw>', filters=' ')\n",
        "vect.fit_on_texts(train['clean_tag'])\n",
        "vocab_size = len(vect.word_index) + 1\n",
        "print(vocab_size)"
      ],
      "metadata": {
        "colab": {
          "base_uri": "https://localhost:8080/"
        },
        "id": "zHZhKvBuzZNa",
        "outputId": "085fce58-33d2-4a42-99a8-629f857aa39a"
      },
      "execution_count": null,
      "outputs": [
        {
          "output_type": "stream",
          "name": "stdout",
          "text": [
            "18625\n"
          ]
        }
      ]
    },
    {
      "cell_type": "code",
      "source": [
        "encoded_docs_train = vect.texts_to_sequences(train['clean_tag'])\n",
        "max_length = vocab_size\n",
        "vocab_size"
      ],
      "metadata": {
        "id": "sGYM5eC_zawK",
        "colab": {
          "base_uri": "https://localhost:8080/"
        },
        "outputId": "d115ad58-37ee-4fb0-aee9-6a4f782b3430"
      },
      "execution_count": null,
      "outputs": [
        {
          "output_type": "execute_result",
          "data": {
            "text/plain": [
              "18625"
            ]
          },
          "metadata": {},
          "execution_count": 10
        }
      ]
    },
    {
      "cell_type": "code",
      "source": [
        "padded_docs_train = pad_sequences(encoded_docs_train, maxlen=175, padding='post')\n",
        "print(padded_docs_train)"
      ],
      "metadata": {
        "colab": {
          "base_uri": "https://localhost:8080/"
        },
        "id": "HLRQ5oMdzecD",
        "outputId": "7f2aedcc-9e5a-442a-f22b-d8c815bc232e"
      },
      "execution_count": null,
      "outputs": [
        {
          "output_type": "stream",
          "name": "stdout",
          "text": [
            "[[   7   45  665 ...    0    0    0]\n",
            " [7021  372   28 ...    0    0    0]\n",
            " [  48 5420  666 ...    0    0    0]\n",
            " ...\n",
            " [7536    9 1244 ...    0    0    0]\n",
            " [  19    8   46 ...    0    0    0]\n",
            " [   7    2 1698 ...    0    0    0]]\n"
          ]
        }
      ]
    },
    {
      "cell_type": "code",
      "source": [
        "padded_docs_train[0]"
      ],
      "metadata": {
        "id": "na-ZYyQUzhzx",
        "colab": {
          "base_uri": "https://localhost:8080/"
        },
        "outputId": "1be5440f-5ac4-4542-9408-b867243fb51e"
      },
      "execution_count": null,
      "outputs": [
        {
          "output_type": "execute_result",
          "data": {
            "text/plain": [
              "array([    7,    45,   665,     3,   471,  1814,   573,     5,    14,\n",
              "         953,  7019,  2334,     2,   495,    10,     3,    38,   484,\n",
              "        3315,     4,  3790,     3,  1815,    82,  2926,   137,   722,\n",
              "        5417,  1098,    10,   141,     6,     2,   507,    45,   115,\n",
              "         841,  1964,     2,   102,  4448,   186,    15,    17,    71,\n",
              "           7,     2,  1099,     6,  1053,     5,   881,  3316,    21,\n",
              "          14,  5418,   911,     5,  1224,    21,  2588,   216,     2,\n",
              "         912,     6,   842,    45, 10026,  5419,   912,     5,   408,\n",
              "          31,     3,  1474,  7020,    16,  3317,     3,  3791,   625,\n",
              "           7,   954,  1225,    79,   665,     0,     0,     0,     0,\n",
              "           0,     0,     0,     0,     0,     0,     0,     0,     0,\n",
              "           0,     0,     0,     0,     0,     0,     0,     0,     0,\n",
              "           0,     0,     0,     0,     0,     0,     0,     0,     0,\n",
              "           0,     0,     0,     0,     0,     0,     0,     0,     0,\n",
              "           0,     0,     0,     0,     0,     0,     0,     0,     0,\n",
              "           0,     0,     0,     0,     0,     0,     0,     0,     0,\n",
              "           0,     0,     0,     0,     0,     0,     0,     0,     0,\n",
              "           0,     0,     0,     0,     0,     0,     0,     0,     0,\n",
              "           0,     0,     0,     0,     0,     0,     0,     0,     0,\n",
              "           0,     0,     0,     0], dtype=int32)"
            ]
          },
          "metadata": {},
          "execution_count": 22
        }
      ]
    },
    {
      "cell_type": "markdown",
      "source": [
        "## Multi-Label Text Classification with BERT Langauge Model "
      ],
      "metadata": {
        "id": "d68fhs9NNUHT"
      }
    },
    {
      "cell_type": "code",
      "source": [
        "!pip install tensorflow-text"
      ],
      "metadata": {
        "colab": {
          "base_uri": "https://localhost:8080/",
          "height": 1000
        },
        "id": "YFdVZs3tsEoe",
        "outputId": "d94e2543-fa40-4c4c-cab4-43a3aee28754"
      },
      "execution_count": null,
      "outputs": [
        {
          "output_type": "stream",
          "name": "stdout",
          "text": [
            "Looking in indexes: https://pypi.org/simple, https://us-python.pkg.dev/colab-wheels/public/simple/\n",
            "Collecting tensorflow-text\n",
            "  Downloading tensorflow_text-2.9.0-cp37-cp37m-manylinux_2_17_x86_64.manylinux2014_x86_64.whl (4.6 MB)\n",
            "\u001b[K     |████████████████████████████████| 4.6 MB 35.2 MB/s \n",
            "\u001b[?25hCollecting tensorflow<2.10,>=2.9.0\n",
            "  Downloading tensorflow-2.9.2-cp37-cp37m-manylinux_2_17_x86_64.manylinux2014_x86_64.whl (511.8 MB)\n",
            "\u001b[K     |████████████████████████████████| 511.8 MB 10 kB/s \n",
            "\u001b[?25hRequirement already satisfied: tensorflow-hub>=0.8.0 in /usr/local/lib/python3.7/dist-packages (from tensorflow-text) (0.12.0)\n",
            "Requirement already satisfied: numpy>=1.20 in /usr/local/lib/python3.7/dist-packages (from tensorflow<2.10,>=2.9.0->tensorflow-text) (1.21.6)\n",
            "Collecting keras<2.10.0,>=2.9.0rc0\n",
            "  Downloading keras-2.9.0-py2.py3-none-any.whl (1.6 MB)\n",
            "\u001b[K     |████████████████████████████████| 1.6 MB 43.6 MB/s \n",
            "\u001b[?25hRequirement already satisfied: grpcio<2.0,>=1.24.3 in /usr/local/lib/python3.7/dist-packages (from tensorflow<2.10,>=2.9.0->tensorflow-text) (1.47.0)\n",
            "Collecting flatbuffers<2,>=1.12\n",
            "  Downloading flatbuffers-1.12-py2.py3-none-any.whl (15 kB)\n",
            "Requirement already satisfied: six>=1.12.0 in /usr/local/lib/python3.7/dist-packages (from tensorflow<2.10,>=2.9.0->tensorflow-text) (1.15.0)\n",
            "Collecting tensorboard<2.10,>=2.9\n",
            "  Downloading tensorboard-2.9.1-py3-none-any.whl (5.8 MB)\n",
            "\u001b[K     |████████████████████████████████| 5.8 MB 85.5 MB/s \n",
            "\u001b[?25hCollecting tensorflow-estimator<2.10.0,>=2.9.0rc0\n",
            "  Downloading tensorflow_estimator-2.9.0-py2.py3-none-any.whl (438 kB)\n",
            "\u001b[K     |████████████████████████████████| 438 kB 73.8 MB/s \n",
            "\u001b[?25hRequirement already satisfied: libclang>=13.0.0 in /usr/local/lib/python3.7/dist-packages (from tensorflow<2.10,>=2.9.0->tensorflow-text) (14.0.6)\n",
            "Requirement already satisfied: typing-extensions>=3.6.6 in /usr/local/lib/python3.7/dist-packages (from tensorflow<2.10,>=2.9.0->tensorflow-text) (4.1.1)\n",
            "Requirement already satisfied: termcolor>=1.1.0 in /usr/local/lib/python3.7/dist-packages (from tensorflow<2.10,>=2.9.0->tensorflow-text) (1.1.0)\n",
            "Requirement already satisfied: packaging in /usr/local/lib/python3.7/dist-packages (from tensorflow<2.10,>=2.9.0->tensorflow-text) (21.3)\n",
            "Requirement already satisfied: keras-preprocessing>=1.1.1 in /usr/local/lib/python3.7/dist-packages (from tensorflow<2.10,>=2.9.0->tensorflow-text) (1.1.2)\n",
            "Requirement already satisfied: setuptools in /usr/local/lib/python3.7/dist-packages (from tensorflow<2.10,>=2.9.0->tensorflow-text) (57.4.0)\n",
            "Collecting gast<=0.4.0,>=0.2.1\n",
            "  Downloading gast-0.4.0-py3-none-any.whl (9.8 kB)\n",
            "Requirement already satisfied: protobuf<3.20,>=3.9.2 in /usr/local/lib/python3.7/dist-packages (from tensorflow<2.10,>=2.9.0->tensorflow-text) (3.17.3)\n",
            "Requirement already satisfied: google-pasta>=0.1.1 in /usr/local/lib/python3.7/dist-packages (from tensorflow<2.10,>=2.9.0->tensorflow-text) (0.2.0)\n",
            "Requirement already satisfied: astunparse>=1.6.0 in /usr/local/lib/python3.7/dist-packages (from tensorflow<2.10,>=2.9.0->tensorflow-text) (1.6.3)\n",
            "Requirement already satisfied: opt-einsum>=2.3.2 in /usr/local/lib/python3.7/dist-packages (from tensorflow<2.10,>=2.9.0->tensorflow-text) (3.3.0)\n",
            "Requirement already satisfied: h5py>=2.9.0 in /usr/local/lib/python3.7/dist-packages (from tensorflow<2.10,>=2.9.0->tensorflow-text) (3.1.0)\n",
            "Requirement already satisfied: tensorflow-io-gcs-filesystem>=0.23.1 in /usr/local/lib/python3.7/dist-packages (from tensorflow<2.10,>=2.9.0->tensorflow-text) (0.26.0)\n",
            "Requirement already satisfied: wrapt>=1.11.0 in /usr/local/lib/python3.7/dist-packages (from tensorflow<2.10,>=2.9.0->tensorflow-text) (1.14.1)\n",
            "Requirement already satisfied: absl-py>=1.0.0 in /usr/local/lib/python3.7/dist-packages (from tensorflow<2.10,>=2.9.0->tensorflow-text) (1.2.0)\n",
            "Requirement already satisfied: wheel<1.0,>=0.23.0 in /usr/local/lib/python3.7/dist-packages (from astunparse>=1.6.0->tensorflow<2.10,>=2.9.0->tensorflow-text) (0.37.1)\n",
            "Requirement already satisfied: cached-property in /usr/local/lib/python3.7/dist-packages (from h5py>=2.9.0->tensorflow<2.10,>=2.9.0->tensorflow-text) (1.5.2)\n",
            "Requirement already satisfied: tensorboard-data-server<0.7.0,>=0.6.0 in /usr/local/lib/python3.7/dist-packages (from tensorboard<2.10,>=2.9->tensorflow<2.10,>=2.9.0->tensorflow-text) (0.6.1)\n",
            "Requirement already satisfied: tensorboard-plugin-wit>=1.6.0 in /usr/local/lib/python3.7/dist-packages (from tensorboard<2.10,>=2.9->tensorflow<2.10,>=2.9.0->tensorflow-text) (1.8.1)\n",
            "Requirement already satisfied: markdown>=2.6.8 in /usr/local/lib/python3.7/dist-packages (from tensorboard<2.10,>=2.9->tensorflow<2.10,>=2.9.0->tensorflow-text) (3.4.1)\n",
            "Requirement already satisfied: werkzeug>=1.0.1 in /usr/local/lib/python3.7/dist-packages (from tensorboard<2.10,>=2.9->tensorflow<2.10,>=2.9.0->tensorflow-text) (1.0.1)\n",
            "Requirement already satisfied: google-auth-oauthlib<0.5,>=0.4.1 in /usr/local/lib/python3.7/dist-packages (from tensorboard<2.10,>=2.9->tensorflow<2.10,>=2.9.0->tensorflow-text) (0.4.6)\n",
            "Requirement already satisfied: requests<3,>=2.21.0 in /usr/local/lib/python3.7/dist-packages (from tensorboard<2.10,>=2.9->tensorflow<2.10,>=2.9.0->tensorflow-text) (2.23.0)\n",
            "Requirement already satisfied: google-auth<3,>=1.6.3 in /usr/local/lib/python3.7/dist-packages (from tensorboard<2.10,>=2.9->tensorflow<2.10,>=2.9.0->tensorflow-text) (1.35.0)\n",
            "Requirement already satisfied: pyasn1-modules>=0.2.1 in /usr/local/lib/python3.7/dist-packages (from google-auth<3,>=1.6.3->tensorboard<2.10,>=2.9->tensorflow<2.10,>=2.9.0->tensorflow-text) (0.2.8)\n",
            "Requirement already satisfied: cachetools<5.0,>=2.0.0 in /usr/local/lib/python3.7/dist-packages (from google-auth<3,>=1.6.3->tensorboard<2.10,>=2.9->tensorflow<2.10,>=2.9.0->tensorflow-text) (4.2.4)\n",
            "Requirement already satisfied: rsa<5,>=3.1.4 in /usr/local/lib/python3.7/dist-packages (from google-auth<3,>=1.6.3->tensorboard<2.10,>=2.9->tensorflow<2.10,>=2.9.0->tensorflow-text) (4.9)\n",
            "Requirement already satisfied: requests-oauthlib>=0.7.0 in /usr/local/lib/python3.7/dist-packages (from google-auth-oauthlib<0.5,>=0.4.1->tensorboard<2.10,>=2.9->tensorflow<2.10,>=2.9.0->tensorflow-text) (1.3.1)\n",
            "Requirement already satisfied: importlib-metadata>=4.4 in /usr/local/lib/python3.7/dist-packages (from markdown>=2.6.8->tensorboard<2.10,>=2.9->tensorflow<2.10,>=2.9.0->tensorflow-text) (4.12.0)\n",
            "Requirement already satisfied: zipp>=0.5 in /usr/local/lib/python3.7/dist-packages (from importlib-metadata>=4.4->markdown>=2.6.8->tensorboard<2.10,>=2.9->tensorflow<2.10,>=2.9.0->tensorflow-text) (3.8.1)\n",
            "Requirement already satisfied: pyasn1<0.5.0,>=0.4.6 in /usr/local/lib/python3.7/dist-packages (from pyasn1-modules>=0.2.1->google-auth<3,>=1.6.3->tensorboard<2.10,>=2.9->tensorflow<2.10,>=2.9.0->tensorflow-text) (0.4.8)\n",
            "Requirement already satisfied: urllib3!=1.25.0,!=1.25.1,<1.26,>=1.21.1 in /usr/local/lib/python3.7/dist-packages (from requests<3,>=2.21.0->tensorboard<2.10,>=2.9->tensorflow<2.10,>=2.9.0->tensorflow-text) (1.24.3)\n",
            "Requirement already satisfied: certifi>=2017.4.17 in /usr/local/lib/python3.7/dist-packages (from requests<3,>=2.21.0->tensorboard<2.10,>=2.9->tensorflow<2.10,>=2.9.0->tensorflow-text) (2022.6.15)\n",
            "Requirement already satisfied: chardet<4,>=3.0.2 in /usr/local/lib/python3.7/dist-packages (from requests<3,>=2.21.0->tensorboard<2.10,>=2.9->tensorflow<2.10,>=2.9.0->tensorflow-text) (3.0.4)\n",
            "Requirement already satisfied: idna<3,>=2.5 in /usr/local/lib/python3.7/dist-packages (from requests<3,>=2.21.0->tensorboard<2.10,>=2.9->tensorflow<2.10,>=2.9.0->tensorflow-text) (2.10)\n",
            "Requirement already satisfied: oauthlib>=3.0.0 in /usr/local/lib/python3.7/dist-packages (from requests-oauthlib>=0.7.0->google-auth-oauthlib<0.5,>=0.4.1->tensorboard<2.10,>=2.9->tensorflow<2.10,>=2.9.0->tensorflow-text) (3.2.0)\n",
            "Requirement already satisfied: pyparsing!=3.0.5,>=2.0.2 in /usr/local/lib/python3.7/dist-packages (from packaging->tensorflow<2.10,>=2.9.0->tensorflow-text) (3.0.9)\n",
            "Installing collected packages: tensorflow-estimator, tensorboard, keras, gast, flatbuffers, tensorflow, tensorflow-text\n",
            "  Attempting uninstall: tensorflow-estimator\n",
            "    Found existing installation: tensorflow-estimator 2.8.0\n",
            "    Uninstalling tensorflow-estimator-2.8.0:\n",
            "      Successfully uninstalled tensorflow-estimator-2.8.0\n",
            "  Attempting uninstall: tensorboard\n",
            "    Found existing installation: tensorboard 2.8.0\n",
            "    Uninstalling tensorboard-2.8.0:\n",
            "      Successfully uninstalled tensorboard-2.8.0\n",
            "  Attempting uninstall: keras\n",
            "    Found existing installation: keras 2.8.0\n",
            "    Uninstalling keras-2.8.0:\n",
            "      Successfully uninstalled keras-2.8.0\n",
            "  Attempting uninstall: gast\n",
            "    Found existing installation: gast 0.5.3\n",
            "    Uninstalling gast-0.5.3:\n",
            "      Successfully uninstalled gast-0.5.3\n",
            "  Attempting uninstall: flatbuffers\n",
            "    Found existing installation: flatbuffers 2.0.7\n",
            "    Uninstalling flatbuffers-2.0.7:\n",
            "      Successfully uninstalled flatbuffers-2.0.7\n",
            "  Attempting uninstall: tensorflow\n",
            "    Found existing installation: tensorflow 2.8.2+zzzcolab20220719082949\n",
            "    Uninstalling tensorflow-2.8.2+zzzcolab20220719082949:\n",
            "      Successfully uninstalled tensorflow-2.8.2+zzzcolab20220719082949\n",
            "Successfully installed flatbuffers-1.12 gast-0.4.0 keras-2.9.0 tensorboard-2.9.1 tensorflow-2.9.2 tensorflow-estimator-2.9.0 tensorflow-text-2.9.0\n"
          ]
        },
        {
          "output_type": "display_data",
          "data": {
            "application/vnd.colab-display-data+json": {
              "pip_warning": {
                "packages": [
                  "flatbuffers",
                  "gast",
                  "keras",
                  "tensorboard",
                  "tensorflow",
                  "tensorflow_estimator"
                ]
              }
            }
          },
          "metadata": {}
        }
      ]
    },
    {
      "cell_type": "code",
      "source": [
        "train['clean_tag']"
      ],
      "metadata": {
        "colab": {
          "base_uri": "https://localhost:8080/"
        },
        "id": "IVznHqa739Xn",
        "outputId": "5080d01a-8d51-4bdf-8608-e9136fba57ac"
      },
      "execution_count": null,
      "outputs": [
        {
          "output_type": "execute_result",
          "data": {
            "text/plain": [
              "587     a civilian oil rig crew is recruited to conduc...\n",
              "4137    after serving time in prison former drug addic...\n",
              "2905    in five years after the gamilons began an inva...\n",
              "3493    a dentist finds himself a murder suspect after...\n",
              "1084    a young couple living in a connecticut suburb ...\n",
              "                              ...                        \n",
              "4516    tilen an attractive high school student swears...\n",
              "1175    in the antarctic after an expedition with dr d...\n",
              "3749    theres a deadly zombie epidemic threatening hu...\n",
              "2482    a teenager journeys through a series of foster...\n",
              "4665    what s the matter with kathy jordan trovillion...\n",
              "Name: clean_tag, Length: 3604, dtype: object"
            ]
          },
          "metadata": {},
          "execution_count": 12
        }
      ]
    },
    {
      "cell_type": "code",
      "source": [
        "import tensorflow as tf\n",
        "import tensorflow_hub as hub\n"
      ],
      "metadata": {
        "id": "BSdmXO8trl63"
      },
      "execution_count": null,
      "outputs": []
    },
    {
      "cell_type": "code",
      "source": [
        "import tensorflow_text as text"
      ],
      "metadata": {
        "id": "0JSjlELcsDpK"
      },
      "execution_count": null,
      "outputs": []
    },
    {
      "cell_type": "code",
      "source": [
        "# loading of BERT Base preprocessing and encoder model from tenserflow hub \n",
        "\n",
        "bert_preprocess = hub.KerasLayer(\"https://tfhub.dev/tensorflow/bert_en_uncased_preprocess/3\")\n",
        "bert_encoder = hub.KerasLayer(\"https://tfhub.dev/tensorflow/bert_en_uncased_L-12_H-768_A-12/4\")"
      ],
      "metadata": {
        "id": "IrdKqAkqryFI"
      },
      "execution_count": null,
      "outputs": []
    },
    {
      "cell_type": "code",
      "source": [
        "# visualization of text transformation with BERT preprocessing on training set\n",
        "\n",
        "text_preprocessed_train = bert_preprocess(train['clean_tag'])\n",
        "\n",
        "text_preprocessed_train.keys()\n",
        "\n",
        "text_preprocessed_train"
      ],
      "metadata": {
        "colab": {
          "base_uri": "https://localhost:8080/"
        },
        "id": "fHWaIDzb4Spz",
        "outputId": "61358d33-355c-4fe7-bc62-9566a83eb107"
      },
      "execution_count": null,
      "outputs": [
        {
          "output_type": "execute_result",
          "data": {
            "text/plain": [
              "{'input_word_ids': <tf.Tensor: shape=(3604, 128), dtype=int32, numpy=\n",
              " array([[  101,  2035, 29475, ...,     0,     0,     0],\n",
              "        [  101,  1996,  2158, ...,     0,     0,     0],\n",
              "        [  101,  2019,  9577, ...,     0,     0,     0],\n",
              "        ...,\n",
              "        [  101,  1996,  2569, ...,     0,     0,     0],\n",
              "        [  101,  1996,  2466, ...,     0,     0,     0],\n",
              "        [  101,  2924, 27307, ...,     0,     0,     0]], dtype=int32)>,\n",
              " 'input_mask': <tf.Tensor: shape=(3604, 128), dtype=int32, numpy=\n",
              " array([[1, 1, 1, ..., 0, 0, 0],\n",
              "        [1, 1, 1, ..., 0, 0, 0],\n",
              "        [1, 1, 1, ..., 0, 0, 0],\n",
              "        ...,\n",
              "        [1, 1, 1, ..., 0, 0, 0],\n",
              "        [1, 1, 1, ..., 0, 0, 0],\n",
              "        [1, 1, 1, ..., 0, 0, 0]], dtype=int32)>,\n",
              " 'input_type_ids': <tf.Tensor: shape=(3604, 128), dtype=int32, numpy=\n",
              " array([[0, 0, 0, ..., 0, 0, 0],\n",
              "        [0, 0, 0, ..., 0, 0, 0],\n",
              "        [0, 0, 0, ..., 0, 0, 0],\n",
              "        ...,\n",
              "        [0, 0, 0, ..., 0, 0, 0],\n",
              "        [0, 0, 0, ..., 0, 0, 0],\n",
              "        [0, 0, 0, ..., 0, 0, 0]], dtype=int32)>}"
            ]
          },
          "metadata": {},
          "execution_count": 15
        }
      ]
    },
    {
      "cell_type": "markdown",
      "source": [
        "Creation of BERT Layers and Neural Networks layers "
      ],
      "metadata": {
        "id": "wnqJ4-_R6d34"
      }
    },
    {
      "cell_type": "code",
      "source": [
        "text_input = tf.keras.layers.Input(shape=(), dtype=tf.string, name='text')\n",
        "preprocessed_text = bert_preprocess(text_input)\n",
        "outputs = bert_encoder(preprocessed_text)\n",
        "\n",
        "# Neural network layers\n",
        "l = tf.keras.layers.Dropout(0.1, name=\"dropout\")(outputs['pooled_output'])\n",
        "l = tf.keras.layers.Dense(21, activation='sigmoid', name=\"output\")(l)\n",
        "\n",
        "# Use inputs and outputs to construct a final model\n",
        "model = tf.keras.Model(inputs=[text_input], outputs = [l])"
      ],
      "metadata": {
        "id": "6Lc2vXs320xg"
      },
      "execution_count": null,
      "outputs": []
    },
    {
      "cell_type": "code",
      "source": [
        "METRICS = [\n",
        "      keras.metrics.TruePositives(name='tp'),\n",
        "      keras.metrics.FalsePositives(name='fp'),\n",
        "      keras.metrics.TrueNegatives(name='tn'),\n",
        "      keras.metrics.FalseNegatives(name='fn'), \n",
        "      keras.metrics.BinaryAccuracy(name='accuracy'),\n",
        "      keras.metrics.Precision(name='precision'),\n",
        "      keras.metrics.Recall(name='recall'),\n",
        "      keras.metrics.AUC(name='auc'),\n",
        "]\n",
        "\n",
        "model.compile(optimizer='sgd', loss='binary_crossentropy', metrics = METRICS)"
      ],
      "metadata": {
        "id": "nJCBY1cv3Wa7"
      },
      "execution_count": null,
      "outputs": []
    },
    {
      "cell_type": "markdown",
      "source": [
        "Training with default parameters "
      ],
      "metadata": {
        "id": "ttvvYjF56pUD"
      }
    },
    {
      "cell_type": "code",
      "source": [
        "hist = model.fit(train['clean_tag'], y_train, epochs=5, verbose = 1, validation_split = 0.1)"
      ],
      "metadata": {
        "colab": {
          "base_uri": "https://localhost:8080/"
        },
        "id": "DpRHgJbF3Nww",
        "outputId": "9e9df91b-78c4-4afe-c46f-8a7a2db506c9"
      },
      "execution_count": null,
      "outputs": [
        {
          "output_type": "stream",
          "name": "stdout",
          "text": [
            "Epoch 1/5\n",
            "102/102 [==============================] - 1666s 16s/step - loss: 0.4551 - tp: 2308.0000 - fp: 7411.0000 - tn: 52448.0000 - fn: 5936.0000 - accuracy: 0.8040 - precision: 0.2375 - recall: 0.2800 - auc: 0.6725 - val_loss: 0.3407 - val_tp: 72.0000 - val_fp: 103.0000 - val_tn: 6573.0000 - val_fn: 833.0000 - val_accuracy: 0.8765 - val_precision: 0.4114 - val_recall: 0.0796 - val_auc: 0.7513\n",
            "Epoch 2/5\n",
            "102/102 [==============================] - 1625s 16s/step - loss: 0.3275 - tp: 797.0000 - fp: 994.0000 - tn: 58865.0000 - fn: 7447.0000 - accuracy: 0.8761 - precision: 0.4450 - recall: 0.0967 - auc: 0.7647 - val_loss: 0.3225 - val_tp: 57.0000 - val_fp: 83.0000 - val_tn: 6593.0000 - val_fn: 848.0000 - val_accuracy: 0.8772 - val_precision: 0.4071 - val_recall: 0.0630 - val_auc: 0.7653\n",
            "Epoch 3/5\n",
            "102/102 [==============================] - 1564s 15s/step - loss: 0.3177 - tp: 772.0000 - fp: 897.0000 - tn: 58962.0000 - fn: 7472.0000 - accuracy: 0.8771 - precision: 0.4626 - recall: 0.0936 - auc: 0.7754 - val_loss: 0.3186 - val_tp: 56.0000 - val_fp: 79.0000 - val_tn: 6597.0000 - val_fn: 849.0000 - val_accuracy: 0.8776 - val_precision: 0.4148 - val_recall: 0.0619 - val_auc: 0.7708\n",
            "Epoch 4/5\n",
            "102/102 [==============================] - 1548s 15s/step - loss: 0.3142 - tp: 794.0000 - fp: 870.0000 - tn: 58989.0000 - fn: 7450.0000 - accuracy: 0.8778 - precision: 0.4772 - recall: 0.0963 - auc: 0.7815 - val_loss: 0.3165 - val_tp: 70.0000 - val_fp: 85.0000 - val_tn: 6591.0000 - val_fn: 835.0000 - val_accuracy: 0.8786 - val_precision: 0.4516 - val_recall: 0.0773 - val_auc: 0.7729\n",
            "Epoch 5/5\n",
            "102/102 [==============================] - 1546s 15s/step - loss: 0.3119 - tp: 780.0000 - fp: 897.0000 - tn: 58962.0000 - fn: 7464.0000 - accuracy: 0.8772 - precision: 0.4651 - recall: 0.0946 - auc: 0.7853 - val_loss: 0.3151 - val_tp: 68.0000 - val_fp: 84.0000 - val_tn: 6592.0000 - val_fn: 837.0000 - val_accuracy: 0.8785 - val_precision: 0.4474 - val_recall: 0.0751 - val_auc: 0.7756\n"
          ]
        }
      ]
    },
    {
      "cell_type": "code",
      "source": [
        "plt.plot(hist.history['loss'])\n",
        "plt.plot(hist.history['val_loss'])\n",
        "plt.title('Bert + Functional model loss')\n",
        "plt.ylabel('loss')\n",
        "plt.xlabel('epoch')\n",
        "plt.legend(['train','val'], loc='upper left')\n",
        "plt.show()"
      ],
      "metadata": {
        "colab": {
          "base_uri": "https://localhost:8080/",
          "height": 295
        },
        "id": "qatA4qz0J3K2",
        "outputId": "a9bbb3ed-c94c-4459-89d5-dd478d5cff9f"
      },
      "execution_count": null,
      "outputs": [
        {
          "output_type": "display_data",
          "data": {
            "text/plain": [
              "<Figure size 432x288 with 1 Axes>"
            ],
            "image/png": "[encoded data removed]"
          },
          "metadata": {
            "needs_background": "light"
          }
        }
      ]
    },
    {
      "cell_type": "code",
      "source": [
        "model.evaluate(test['clean_tag'], y_test)"
      ],
      "metadata": {
        "colab": {
          "base_uri": "https://localhost:8080/"
        },
        "id": "4G0N0e-3hXxn",
        "outputId": "094c5a68-f306-4efb-8228-ea05e795bd68"
      },
      "execution_count": null,
      "outputs": [
        {
          "output_type": "stream",
          "name": "stdout",
          "text": [
            "38/38 [==============================] - 547s 14s/step - loss: 0.3050 - tp: 256.0000 - fp: 212.0000 - tn: 21977.0000 - fn: 2797.0000 - accuracy: 0.8808 - precision: 0.5470 - recall: 0.0839 - auc: 0.7982\n"
          ]
        },
        {
          "output_type": "execute_result",
          "data": {
            "text/plain": [
              "[0.3049566149711609,\n",
              " 256.0,\n",
              " 212.0,\n",
              " 21977.0,\n",
              " 2797.0,\n",
              " 0.8807939291000366,\n",
              " 0.5470085740089417,\n",
              " 0.08385194838047028,\n",
              " 0.7981988787651062]"
            ]
          },
          "metadata": {},
          "execution_count": 19
        }
      ]
    },
    {
      "cell_type": "markdown",
      "source": [
        "Model training with SGD optimizer tuning"
      ],
      "metadata": {
        "id": "XophRuZG6zJX"
      }
    },
    {
      "cell_type": "code",
      "source": [
        "#Bert layers\n",
        "text_input = tf.keras.layers.Input(shape=(), dtype=tf.string, name='text')\n",
        "preprocessed_text = bert_preprocess(text_input)\n",
        "outputs = bert_encoder(preprocessed_text)\n",
        "\n",
        "# Neural network layers\n",
        "layer_1 = tf.keras.layers.Dropout(0.1, name=\"dropout\")(outputs['pooled_output'])\n",
        "layer_2 = tf.keras.layers.Dense(21, activation='sigmoid', name=\"output\")(layer_1)\n",
        "\n",
        "# Final model with input and outputs defined from tasks above\n",
        "model_1 = tf.keras.Model(inputs=[text_input], outputs = [layer_2])\n",
        "\n"
      ],
      "metadata": {
        "id": "7Khid2oAWD8F"
      },
      "execution_count": null,
      "outputs": []
    },
    {
      "cell_type": "code",
      "source": [
        "tf.keras.optimizers.SGD(\n",
        "    learning_rate=0.0001, momentum=0.9, nesterov=False, name=\"sgd\"\n",
        ")\n",
        "\n",
        "model_1.compile(optimizer='sgd', loss=\"binary_crossentropy\", metrics = METRICS)\n",
        "\n",
        "hist1 = model_1.fit(train['clean_tag'], y_train, epochs=10, verbose = 1, validation_split = 0.1)\n",
        "\n"
      ],
      "metadata": {
        "colab": {
          "base_uri": "https://localhost:8080/"
        },
        "id": "0PubMU-UJfPk",
        "outputId": "8e5511f9-8747-43d1-8725-41a60363cec4"
      },
      "execution_count": null,
      "outputs": [
        {
          "output_type": "stream",
          "name": "stdout",
          "text": [
            "Epoch 1/10\n",
            "102/102 [==============================] - 1029s 10s/step - loss: 0.4312 - tp: 1031.0000 - fp: 4489.0000 - tn: 55408.0000 - fn: 7175.0000 - accuracy: 0.8287 - precision: 0.1868 - recall: 0.1256 - auc: 0.6517 - val_loss: 0.3412 - val_tp: 91.0000 - val_fp: 125.0000 - val_tn: 6507.0000 - val_fn: 858.0000 - val_accuracy: 0.8703 - val_precision: 0.4213 - val_recall: 0.0959 - val_auc: 0.7581\n",
            "Epoch 2/10\n",
            "102/102 [==============================] - 1024s 10s/step - loss: 0.3300 - tp: 842.0000 - fp: 1269.0000 - tn: 58628.0000 - fn: 7364.0000 - accuracy: 0.8732 - precision: 0.3989 - recall: 0.1026 - auc: 0.7559 - val_loss: 0.3251 - val_tp: 95.0000 - val_fp: 118.0000 - val_tn: 6514.0000 - val_fn: 854.0000 - val_accuracy: 0.8718 - val_precision: 0.4460 - val_recall: 0.1001 - val_auc: 0.7748\n",
            "Epoch 3/10\n",
            "102/102 [==============================] - 1036s 10s/step - loss: 0.3198 - tp: 886.0000 - fp: 1158.0000 - tn: 58739.0000 - fn: 7320.0000 - accuracy: 0.8755 - precision: 0.4335 - recall: 0.1080 - auc: 0.7715 - val_loss: 0.3206 - val_tp: 91.0000 - val_fp: 108.0000 - val_tn: 6524.0000 - val_fn: 858.0000 - val_accuracy: 0.8726 - val_precision: 0.4573 - val_recall: 0.0959 - val_auc: 0.7817\n",
            "Epoch 4/10\n",
            "102/102 [==============================] - 1017s 10s/step - loss: 0.3162 - tp: 866.0000 - fp: 1174.0000 - tn: 58723.0000 - fn: 7340.0000 - accuracy: 0.8750 - precision: 0.4245 - recall: 0.1055 - auc: 0.7781 - val_loss: 0.3183 - val_tp: 81.0000 - val_fp: 98.0000 - val_tn: 6534.0000 - val_fn: 868.0000 - val_accuracy: 0.8726 - val_precision: 0.4525 - val_recall: 0.0854 - val_auc: 0.7851\n",
            "Epoch 5/10\n",
            "102/102 [==============================] - 1016s 10s/step - loss: 0.3151 - tp: 903.0000 - fp: 1110.0000 - tn: 58787.0000 - fn: 7303.0000 - accuracy: 0.8765 - precision: 0.4486 - recall: 0.1100 - auc: 0.7790 - val_loss: 0.3166 - val_tp: 74.0000 - val_fp: 82.0000 - val_tn: 6550.0000 - val_fn: 875.0000 - val_accuracy: 0.8738 - val_precision: 0.4744 - val_recall: 0.0780 - val_auc: 0.7877\n",
            "Epoch 6/10\n",
            "102/102 [==============================] - 1015s 10s/step - loss: 0.3129 - tp: 855.0000 - fp: 1029.0000 - tn: 58868.0000 - fn: 7351.0000 - accuracy: 0.8770 - precision: 0.4538 - recall: 0.1042 - auc: 0.7831 - val_loss: 0.3155 - val_tp: 71.0000 - val_fp: 69.0000 - val_tn: 6563.0000 - val_fn: 878.0000 - val_accuracy: 0.8751 - val_precision: 0.5071 - val_recall: 0.0748 - val_auc: 0.7895\n",
            "Epoch 7/10\n",
            "102/102 [==============================] - 1018s 10s/step - loss: 0.3118 - tp: 833.0000 - fp: 1025.0000 - tn: 58872.0000 - fn: 7373.0000 - accuracy: 0.8767 - precision: 0.4483 - recall: 0.1015 - auc: 0.7849 - val_loss: 0.3144 - val_tp: 94.0000 - val_fp: 88.0000 - val_tn: 6544.0000 - val_fn: 855.0000 - val_accuracy: 0.8756 - val_precision: 0.5165 - val_recall: 0.0991 - val_auc: 0.7909\n",
            "Epoch 8/10\n",
            "102/102 [==============================] - 1021s 10s/step - loss: 0.3111 - tp: 856.0000 - fp: 1024.0000 - tn: 58873.0000 - fn: 7350.0000 - accuracy: 0.8770 - precision: 0.4553 - recall: 0.1043 - auc: 0.7858 - val_loss: 0.3135 - val_tp: 85.0000 - val_fp: 72.0000 - val_tn: 6560.0000 - val_fn: 864.0000 - val_accuracy: 0.8765 - val_precision: 0.5414 - val_recall: 0.0896 - val_auc: 0.7921\n",
            "Epoch 9/10\n",
            "102/102 [==============================] - 1018s 10s/step - loss: 0.3106 - tp: 829.0000 - fp: 1003.0000 - tn: 58894.0000 - fn: 7377.0000 - accuracy: 0.8770 - precision: 0.4525 - recall: 0.1010 - auc: 0.7868 - val_loss: 0.3127 - val_tp: 91.0000 - val_fp: 74.0000 - val_tn: 6558.0000 - val_fn: 858.0000 - val_accuracy: 0.8771 - val_precision: 0.5515 - val_recall: 0.0959 - val_auc: 0.7934\n",
            "Epoch 10/10\n",
            "102/102 [==============================] - 1032s 10s/step - loss: 0.3089 - tp: 891.0000 - fp: 979.0000 - tn: 58918.0000 - fn: 7315.0000 - accuracy: 0.8782 - precision: 0.4765 - recall: 0.1086 - auc: 0.7896 - val_loss: 0.3120 - val_tp: 81.0000 - val_fp: 53.0000 - val_tn: 6579.0000 - val_fn: 868.0000 - val_accuracy: 0.8785 - val_precision: 0.6045 - val_recall: 0.0854 - val_auc: 0.7944\n"
          ]
        }
      ]
    },
    {
      "cell_type": "code",
      "source": [
        "\n",
        "plt.plot(hist1.history['loss'])\n",
        "plt.plot(hist1.history['val_loss'])\n",
        "plt.title('Bert + Functional model (sgd tuning) loss')\n",
        "plt.ylabel('loss')\n",
        "plt.xlabel('epoch')\n",
        "plt.legend(['train','val'], loc='upper left')\n",
        "plt.show()"
      ],
      "metadata": {
        "colab": {
          "base_uri": "https://localhost:8080/",
          "height": 240
        },
        "id": "kKed4JqBcmI8",
        "outputId": "6bb9802e-2077-49d9-addb-fe33fd4ba22f"
      },
      "execution_count": null,
      "outputs": [
        {
          "output_type": "error",
          "ename": "NameError",
          "evalue": "ignored",
          "traceback": [
            "\u001b[0;31m---------------------------------------------------------------------------\u001b[0m",
            "\u001b[0;31mNameError\u001b[0m                                 Traceback (most recent call last)",
            "\u001b[0;32m<ipython-input-1-2f205c5aca88>\u001b[0m in \u001b[0;36m<module>\u001b[0;34m\u001b[0m\n\u001b[0;32m----> 1\u001b[0;31m \u001b[0mplt\u001b[0m\u001b[0;34m.\u001b[0m\u001b[0mplot\u001b[0m\u001b[0;34m(\u001b[0m\u001b[0mhist1\u001b[0m\u001b[0;34m.\u001b[0m\u001b[0mhistory\u001b[0m\u001b[0;34m[\u001b[0m\u001b[0;34m'loss'\u001b[0m\u001b[0;34m]\u001b[0m\u001b[0;34m)\u001b[0m\u001b[0;34m\u001b[0m\u001b[0;34m\u001b[0m\u001b[0m\n\u001b[0m\u001b[1;32m      2\u001b[0m \u001b[0mplt\u001b[0m\u001b[0;34m.\u001b[0m\u001b[0mplot\u001b[0m\u001b[0;34m(\u001b[0m\u001b[0mhist1\u001b[0m\u001b[0;34m.\u001b[0m\u001b[0mhistory\u001b[0m\u001b[0;34m[\u001b[0m\u001b[0;34m'val_loss'\u001b[0m\u001b[0;34m]\u001b[0m\u001b[0;34m)\u001b[0m\u001b[0;34m\u001b[0m\u001b[0;34m\u001b[0m\u001b[0m\n\u001b[1;32m      3\u001b[0m \u001b[0mplt\u001b[0m\u001b[0;34m.\u001b[0m\u001b[0mtitle\u001b[0m\u001b[0;34m(\u001b[0m\u001b[0;34m'Bert + Functional model (sgd tuning) loss'\u001b[0m\u001b[0;34m)\u001b[0m\u001b[0;34m\u001b[0m\u001b[0;34m\u001b[0m\u001b[0m\n\u001b[1;32m      4\u001b[0m \u001b[0mplt\u001b[0m\u001b[0;34m.\u001b[0m\u001b[0mylabel\u001b[0m\u001b[0;34m(\u001b[0m\u001b[0;34m'loss'\u001b[0m\u001b[0;34m)\u001b[0m\u001b[0;34m\u001b[0m\u001b[0;34m\u001b[0m\u001b[0m\n\u001b[1;32m      5\u001b[0m \u001b[0mplt\u001b[0m\u001b[0;34m.\u001b[0m\u001b[0mxlabel\u001b[0m\u001b[0;34m(\u001b[0m\u001b[0;34m'epoch'\u001b[0m\u001b[0;34m)\u001b[0m\u001b[0;34m\u001b[0m\u001b[0;34m\u001b[0m\u001b[0m\n",
            "\u001b[0;31mNameError\u001b[0m: name 'plt' is not defined"
          ]
        }
      ]
    },
    {
      "cell_type": "markdown",
      "source": [
        "Model training using Adam optimizer with learning rates of 0.0001 and default parameters "
      ],
      "metadata": {
        "id": "G_Hl3uaJ7G6v"
      }
    },
    {
      "cell_type": "code",
      "source": [
        "opt = keras.optimizers.Adam(learning_rate=0.0001)"
      ],
      "metadata": {
        "id": "LE8eCz-eT-Ov"
      },
      "execution_count": null,
      "outputs": []
    },
    {
      "cell_type": "code",
      "source": [
        "text_input = tf.keras.layers.Input(shape=(), dtype=tf.string, name='text')\n",
        "preprocessed_text = bert_preprocess(text_input)\n",
        "outputs = bert_encoder(preprocessed_text)\n",
        "\n",
        "# Neural network layers\n",
        "l = tf.keras.layers.Dropout(0.1, name=\"dropout\")(outputs['pooled_output'])\n",
        "l = tf.keras.layers.Dense(21, activation='sigmoid', name=\"output\")(l)\n",
        "\n",
        "# Use inputs and outputs to construct a final model\n",
        "model_l = tf.keras.Model(inputs=[text_input], outputs = [l])\n",
        "\n",
        "model_1.compile(optimizer=opt , loss=\"binary_crossentropy\", metrics = METRICS)\n",
        "\n",
        "hist2 = model_1.fit(train['clean_tag'], y_train, epochs=10, verbose = 1, validation_split = 0.1)\n"
      ],
      "metadata": {
        "colab": {
          "base_uri": "https://localhost:8080/"
        },
        "id": "Z_Q17Sw8TE3H",
        "outputId": "0248e7d4-0a8a-4d9f-fb9f-60d5917189b6"
      },
      "execution_count": null,
      "outputs": [
        {
          "output_type": "stream",
          "name": "stdout",
          "text": [
            "Epoch 1/10\n",
            "102/102 [==============================] - 1031s 10s/step - loss: 0.3075 - tp: 933.0000 - fp: 985.0000 - tn: 65544.0000 - fn: 8222.0000 - accuracy: 0.8783 - precision: 0.4864 - recall: 0.1019 - auc: 0.7915 - val_loss: 0.3078 - val_tp: 116.0000 - val_fp: 69.0000 - val_tn: 6563.0000 - val_fn: 833.0000 - val_accuracy: 0.8810 - val_precision: 0.6270 - val_recall: 0.1222 - val_auc: 0.8012\n",
            "Epoch 2/10\n",
            "102/102 [==============================] - 1036s 10s/step - loss: 0.3030 - tp: 890.0000 - fp: 831.0000 - tn: 59066.0000 - fn: 7316.0000 - accuracy: 0.8804 - precision: 0.5171 - recall: 0.1085 - auc: 0.7979 - val_loss: 0.3049 - val_tp: 103.0000 - val_fp: 56.0000 - val_tn: 6576.0000 - val_fn: 846.0000 - val_accuracy: 0.8810 - val_precision: 0.6478 - val_recall: 0.1085 - val_auc: 0.8059\n",
            "Epoch 3/10\n",
            "102/102 [==============================] - 1025s 10s/step - loss: 0.2999 - tp: 967.0000 - fp: 817.0000 - tn: 59080.0000 - fn: 7239.0000 - accuracy: 0.8817 - precision: 0.5420 - recall: 0.1178 - auc: 0.8040 - val_loss: 0.3029 - val_tp: 71.0000 - val_fp: 30.0000 - val_tn: 6602.0000 - val_fn: 878.0000 - val_accuracy: 0.8802 - val_precision: 0.7030 - val_recall: 0.0748 - val_auc: 0.8092\n",
            "Epoch 4/10\n",
            "102/102 [==============================] - 1025s 10s/step - loss: 0.2988 - tp: 896.0000 - fp: 753.0000 - tn: 59144.0000 - fn: 7310.0000 - accuracy: 0.8816 - precision: 0.5434 - recall: 0.1092 - auc: 0.8057 - val_loss: 0.3010 - val_tp: 83.0000 - val_fp: 36.0000 - val_tn: 6596.0000 - val_fn: 866.0000 - val_accuracy: 0.8810 - val_precision: 0.6975 - val_recall: 0.0875 - val_auc: 0.8133\n",
            "Epoch 5/10\n",
            "102/102 [==============================] - 1027s 10s/step - loss: 0.2967 - tp: 958.0000 - fp: 714.0000 - tn: 59183.0000 - fn: 7248.0000 - accuracy: 0.8831 - precision: 0.5730 - recall: 0.1167 - auc: 0.8089 - val_loss: 0.2990 - val_tp: 140.0000 - val_fp: 74.0000 - val_tn: 6558.0000 - val_fn: 809.0000 - val_accuracy: 0.8835 - val_precision: 0.6542 - val_recall: 0.1475 - val_auc: 0.8158\n",
            "Epoch 6/10\n",
            "102/102 [==============================] - 1024s 10s/step - loss: 0.2956 - tp: 1005.0000 - fp: 727.0000 - tn: 59170.0000 - fn: 7201.0000 - accuracy: 0.8836 - precision: 0.5803 - recall: 0.1225 - auc: 0.8109 - val_loss: 0.2974 - val_tp: 148.0000 - val_fp: 71.0000 - val_tn: 6561.0000 - val_fn: 801.0000 - val_accuracy: 0.8850 - val_precision: 0.6758 - val_recall: 0.1560 - val_auc: 0.8183\n",
            "Epoch 7/10\n",
            "102/102 [==============================] - 1024s 10s/step - loss: 0.2938 - tp: 1035.0000 - fp: 770.0000 - tn: 59127.0000 - fn: 7171.0000 - accuracy: 0.8834 - precision: 0.5734 - recall: 0.1261 - auc: 0.8142 - val_loss: 0.2965 - val_tp: 109.0000 - val_fp: 45.0000 - val_tn: 6587.0000 - val_fn: 840.0000 - val_accuracy: 0.8833 - val_precision: 0.7078 - val_recall: 0.1149 - val_auc: 0.8209\n",
            "Epoch 8/10\n",
            "102/102 [==============================] - 1021s 10s/step - loss: 0.2928 - tp: 987.0000 - fp: 720.0000 - tn: 59177.0000 - fn: 7219.0000 - accuracy: 0.8834 - precision: 0.5782 - recall: 0.1203 - auc: 0.8164 - val_loss: 0.2951 - val_tp: 147.0000 - val_fp: 67.0000 - val_tn: 6565.0000 - val_fn: 802.0000 - val_accuracy: 0.8854 - val_precision: 0.6869 - val_recall: 0.1549 - val_auc: 0.8231\n",
            "Epoch 9/10\n",
            "102/102 [==============================] - 1021s 10s/step - loss: 0.2909 - tp: 1050.0000 - fp: 738.0000 - tn: 59159.0000 - fn: 7156.0000 - accuracy: 0.8841 - precision: 0.5872 - recall: 0.1280 - auc: 0.8195 - val_loss: 0.2938 - val_tp: 130.0000 - val_fp: 49.0000 - val_tn: 6583.0000 - val_fn: 819.0000 - val_accuracy: 0.8855 - val_precision: 0.7263 - val_recall: 0.1370 - val_auc: 0.8251\n",
            "Epoch 10/10\n",
            "102/102 [==============================] - 1019s 10s/step - loss: 0.2894 - tp: 1149.0000 - fp: 715.0000 - tn: 59182.0000 - fn: 7057.0000 - accuracy: 0.8859 - precision: 0.6164 - recall: 0.1400 - auc: 0.8216 - val_loss: 0.2930 - val_tp: 139.0000 - val_fp: 54.0000 - val_tn: 6578.0000 - val_fn: 810.0000 - val_accuracy: 0.8860 - val_precision: 0.7202 - val_recall: 0.1465 - val_auc: 0.8267\n"
          ]
        }
      ]
    },
    {
      "cell_type": "markdown",
      "source": [],
      "metadata": {
        "id": "nVnDzpS03NYX"
      }
    },
    {
      "cell_type": "code",
      "source": [
        "\n",
        "plt.plot(hist2.history['loss'])\n",
        "plt.plot(hist2.history['val_loss'])\n",
        "plt.title('Bert + Functional model with adam optimizer loss')\n",
        "plt.ylabel('loss')\n",
        "plt.xlabel('epoch')\n",
        "plt.legend(['train','val'], loc='upper left')\n",
        "plt.show()"
      ],
      "metadata": {
        "colab": {
          "base_uri": "https://localhost:8080/",
          "height": 295
        },
        "outputId": "251663b3-d23c-42b3-c183-20b29c02e796",
        "id": "kr5bGmSk4BsW"
      },
      "execution_count": null,
      "outputs": [
        {
          "output_type": "display_data",
          "data": {
            "text/plain": [
              "<Figure size 432x288 with 1 Axes>"
            ],
            "image/png": "[encoded data removed]"
          },
          "metadata": {
            "needs_background": "light"
          }
        }
      ]
    },
    {
      "cell_type": "code",
      "source": [
        "\n",
        "opt1 = keras.optimizers.Adam(learning_rate=0.01)\n",
        "\n",
        "\n",
        "# Neural network layers\n",
        "l = tf.keras.layers.Dropout(0.1, name=\"dropout\")(outputs['pooled_output'])\n",
        "l = tf.keras.layers.Dense(21, activation='sigmoid', name=\"output\")(l)\n",
        "\n",
        "# Use inputs and outputs to construct a final model\n",
        "model_l = tf.keras.Model(inputs=[text_input], outputs = [l])\n",
        "\n",
        "model_1.compile(optimizer=opt1 , loss=\"binary_crossentropy\", metrics = METRICS)\n",
        "\n",
        "hist3 = model_1.fit(train['clean_tag'], y_train, epochs=10, verbose = 1, validation_split = 0.1)\n"
      ],
      "metadata": {
        "colab": {
          "base_uri": "https://localhost:8080/"
        },
        "outputId": "f6ec00db-eb69-47c9-9740-159c632f70b8",
        "id": "zUgGRwJN9s24"
      },
      "execution_count": null,
      "outputs": [
        {
          "output_type": "stream",
          "name": "stdout",
          "text": [
            "Epoch 1/10\n",
            "102/102 [==============================] - 1025s 10s/step - loss: 0.3117 - tp: 2055.0000 - fp: 1830.0000 - tn: 64699.0000 - fn: 7100.0000 - accuracy: 0.8820 - precision: 0.5290 - recall: 0.2245 - auc: 0.8064 - val_loss: 0.2939 - val_tp: 289.0000 - val_fp: 198.0000 - val_tn: 6434.0000 - val_fn: 660.0000 - val_accuracy: 0.8868 - val_precision: 0.5934 - val_recall: 0.3045 - val_auc: 0.8299\n",
            "Epoch 2/10\n",
            "102/102 [==============================] - 1017s 10s/step - loss: 0.2774 - tp: 2363.0000 - fp: 1694.0000 - tn: 58203.0000 - fn: 5843.0000 - accuracy: 0.8893 - precision: 0.5825 - recall: 0.2880 - auc: 0.8482 - val_loss: 0.2750 - val_tp: 274.0000 - val_fp: 151.0000 - val_tn: 6481.0000 - val_fn: 675.0000 - val_accuracy: 0.8910 - val_precision: 0.6447 - val_recall: 0.2887 - val_auc: 0.8610\n",
            "Epoch 3/10\n",
            "102/102 [==============================] - 1019s 10s/step - loss: 0.2690 - tp: 2672.0000 - fp: 1828.0000 - tn: 58069.0000 - fn: 5534.0000 - accuracy: 0.8919 - precision: 0.5938 - recall: 0.3256 - auc: 0.8600 - val_loss: 0.2654 - val_tp: 316.0000 - val_fp: 181.0000 - val_tn: 6451.0000 - val_fn: 633.0000 - val_accuracy: 0.8926 - val_precision: 0.6358 - val_recall: 0.3330 - val_auc: 0.8708\n",
            "Epoch 4/10\n",
            "102/102 [==============================] - 1025s 10s/step - loss: 0.2673 - tp: 2822.0000 - fp: 1955.0000 - tn: 57942.0000 - fn: 5384.0000 - accuracy: 0.8922 - precision: 0.5907 - recall: 0.3439 - auc: 0.8646 - val_loss: 0.2813 - val_tp: 371.0000 - val_fp: 290.0000 - val_tn: 6342.0000 - val_fn: 578.0000 - val_accuracy: 0.8855 - val_precision: 0.5613 - val_recall: 0.3909 - val_auc: 0.8707\n",
            "Epoch 5/10\n",
            "102/102 [==============================] - 1016s 10s/step - loss: 0.2579 - tp: 3090.0000 - fp: 1988.0000 - tn: 57909.0000 - fn: 5116.0000 - accuracy: 0.8957 - precision: 0.6085 - recall: 0.3766 - auc: 0.8751 - val_loss: 0.2667 - val_tp: 339.0000 - val_fp: 153.0000 - val_tn: 6479.0000 - val_fn: 610.0000 - val_accuracy: 0.8994 - val_precision: 0.6890 - val_recall: 0.3572 - val_auc: 0.8652\n",
            "Epoch 6/10\n",
            "102/102 [==============================] - 1019s 10s/step - loss: 0.2594 - tp: 3118.0000 - fp: 2071.0000 - tn: 57826.0000 - fn: 5088.0000 - accuracy: 0.8949 - precision: 0.6009 - recall: 0.3800 - auc: 0.8744 - val_loss: 0.2817 - val_tp: 469.0000 - val_fp: 404.0000 - val_tn: 6228.0000 - val_fn: 480.0000 - val_accuracy: 0.8834 - val_precision: 0.5372 - val_recall: 0.4942 - val_auc: 0.8710\n",
            "Epoch 7/10\n",
            "102/102 [==============================] - 1015s 10s/step - loss: 0.2608 - tp: 3167.0000 - fp: 2179.0000 - tn: 57718.0000 - fn: 5039.0000 - accuracy: 0.8940 - precision: 0.5924 - recall: 0.3859 - auc: 0.8764 - val_loss: 0.2502 - val_tp: 399.0000 - val_fp: 201.0000 - val_tn: 6431.0000 - val_fn: 550.0000 - val_accuracy: 0.9009 - val_precision: 0.6650 - val_recall: 0.4204 - val_auc: 0.8926\n",
            "Epoch 8/10\n",
            "102/102 [==============================] - 1016s 10s/step - loss: 0.2527 - tp: 3307.0000 - fp: 2081.0000 - tn: 57816.0000 - fn: 4899.0000 - accuracy: 0.8975 - precision: 0.6138 - recall: 0.4030 - auc: 0.8833 - val_loss: 0.2585 - val_tp: 372.0000 - val_fp: 144.0000 - val_tn: 6488.0000 - val_fn: 577.0000 - val_accuracy: 0.9049 - val_precision: 0.7209 - val_recall: 0.3920 - val_auc: 0.8747\n",
            "Epoch 9/10\n",
            "102/102 [==============================] - 1014s 10s/step - loss: 0.2476 - tp: 3343.0000 - fp: 2086.0000 - tn: 57811.0000 - fn: 4863.0000 - accuracy: 0.8980 - precision: 0.6158 - recall: 0.4074 - auc: 0.8888 - val_loss: 0.2619 - val_tp: 267.0000 - val_fp: 185.0000 - val_tn: 6447.0000 - val_fn: 682.0000 - val_accuracy: 0.8856 - val_precision: 0.5907 - val_recall: 0.2813 - val_auc: 0.8847\n",
            "Epoch 10/10\n",
            "102/102 [==============================] - 1015s 10s/step - loss: 0.2478 - tp: 3393.0000 - fp: 2094.0000 - tn: 57803.0000 - fn: 4813.0000 - accuracy: 0.8986 - precision: 0.6184 - recall: 0.4135 - auc: 0.8891 - val_loss: 0.2486 - val_tp: 373.0000 - val_fp: 167.0000 - val_tn: 6465.0000 - val_fn: 576.0000 - val_accuracy: 0.9020 - val_precision: 0.6907 - val_recall: 0.3930 - val_auc: 0.8918\n"
          ]
        }
      ]
    },
    {
      "cell_type": "code",
      "source": [
        "\n",
        "plt.plot(hist3.history['loss'])\n",
        "plt.plot(hist3.history['val_loss'])\n",
        "plt.title('Bert + Functional model with adam optimizer loss')\n",
        "plt.ylabel('loss')\n",
        "plt.xlabel('epoch')\n",
        "plt.legend(['train','val'], loc='upper left')\n",
        "plt.show()"
      ],
      "metadata": {
        "colab": {
          "base_uri": "https://localhost:8080/",
          "height": 295
        },
        "outputId": "ec3aa163-334d-43d0-f6e4-d7b7faf6841d",
        "id": "mxoZ4UtF-KsO"
      },
      "execution_count": null,
      "outputs": [
        {
          "output_type": "display_data",
          "data": {
            "text/plain": [
              "<Figure size 432x288 with 1 Axes>"
            ],
            "image/png": "[encoded data removed]"
          },
          "metadata": {
            "needs_background": "light"
          }
        }
      ]
    }
  ]
}